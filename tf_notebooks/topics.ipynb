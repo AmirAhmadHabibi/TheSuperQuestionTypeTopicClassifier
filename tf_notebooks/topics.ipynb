{
  "nbformat": 4,
  "nbformat_minor": 0,
  "metadata": {
    "colab": {
      "name": "tempo.ipynb",
      "provenance": [],
      "toc_visible": true,
      "include_colab_link": true
    },
    "kernelspec": {
      "name": "python3",
      "display_name": "Python 3"
    },
    "accelerator": "GPU",
    "widgets": {
      "application/vnd.jupyter.widget-state+json": {
        "cab9a6697c06412c8ac19086b5edd9d0": {
          "model_module": "@jupyter-widgets/controls",
          "model_name": "HBoxModel",
          "state": {
            "_view_name": "HBoxView",
            "_dom_classes": [],
            "_model_name": "HBoxModel",
            "_view_module": "@jupyter-widgets/controls",
            "_model_module_version": "1.5.0",
            "_view_count": null,
            "_view_module_version": "1.5.0",
            "box_style": "",
            "layout": "IPY_MODEL_76095e15a74a4253a67dc616dd2f9479",
            "_model_module": "@jupyter-widgets/controls",
            "children": [
              "IPY_MODEL_40fb5199e5f240b5b60671afaf7890f1",
              "IPY_MODEL_8ccf3181cefe4f889fe3ea758eaefc85"
            ]
          }
        },
        "76095e15a74a4253a67dc616dd2f9479": {
          "model_module": "@jupyter-widgets/base",
          "model_name": "LayoutModel",
          "state": {
            "_view_name": "LayoutView",
            "grid_template_rows": null,
            "right": null,
            "justify_content": null,
            "_view_module": "@jupyter-widgets/base",
            "overflow": null,
            "_model_module_version": "1.2.0",
            "_view_count": null,
            "flex_flow": null,
            "width": null,
            "min_width": null,
            "border": null,
            "align_items": null,
            "bottom": null,
            "_model_module": "@jupyter-widgets/base",
            "top": null,
            "grid_column": null,
            "overflow_y": null,
            "overflow_x": null,
            "grid_auto_flow": null,
            "grid_area": null,
            "grid_template_columns": null,
            "flex": null,
            "_model_name": "LayoutModel",
            "justify_items": null,
            "grid_row": null,
            "max_height": null,
            "align_content": null,
            "visibility": null,
            "align_self": null,
            "height": null,
            "min_height": null,
            "padding": null,
            "grid_auto_rows": null,
            "grid_gap": null,
            "max_width": null,
            "order": null,
            "_view_module_version": "1.2.0",
            "grid_template_areas": null,
            "object_position": null,
            "object_fit": null,
            "grid_auto_columns": null,
            "margin": null,
            "display": null,
            "left": null
          }
        },
        "40fb5199e5f240b5b60671afaf7890f1": {
          "model_module": "@jupyter-widgets/controls",
          "model_name": "FloatProgressModel",
          "state": {
            "_view_name": "ProgressView",
            "style": "IPY_MODEL_74cc23eddb044cdc8bcfb2107d5afc2a",
            "_dom_classes": [],
            "description": "Downloading: 100%",
            "_model_name": "FloatProgressModel",
            "bar_style": "success",
            "max": 654186735,
            "_view_module": "@jupyter-widgets/controls",
            "_model_module_version": "1.5.0",
            "value": 654186735,
            "_view_count": null,
            "_view_module_version": "1.5.0",
            "orientation": "horizontal",
            "min": 0,
            "description_tooltip": null,
            "_model_module": "@jupyter-widgets/controls",
            "layout": "IPY_MODEL_0cc1da827bf9459cb499b59fad0b48cf"
          }
        },
        "8ccf3181cefe4f889fe3ea758eaefc85": {
          "model_module": "@jupyter-widgets/controls",
          "model_name": "HTMLModel",
          "state": {
            "_view_name": "HTMLView",
            "style": "IPY_MODEL_b949f3efdad742daa9d909adc27f5c49",
            "_dom_classes": [],
            "description": "",
            "_model_name": "HTMLModel",
            "placeholder": "​",
            "_view_module": "@jupyter-widgets/controls",
            "_model_module_version": "1.5.0",
            "value": " 654M/654M [00:10&lt;00:00, 62.0MB/s]",
            "_view_count": null,
            "_view_module_version": "1.5.0",
            "description_tooltip": null,
            "_model_module": "@jupyter-widgets/controls",
            "layout": "IPY_MODEL_52aac8f421b743cca7d7dcb5c70859ae"
          }
        },
        "74cc23eddb044cdc8bcfb2107d5afc2a": {
          "model_module": "@jupyter-widgets/controls",
          "model_name": "ProgressStyleModel",
          "state": {
            "_view_name": "StyleView",
            "_model_name": "ProgressStyleModel",
            "description_width": "initial",
            "_view_module": "@jupyter-widgets/base",
            "_model_module_version": "1.5.0",
            "_view_count": null,
            "_view_module_version": "1.2.0",
            "bar_color": null,
            "_model_module": "@jupyter-widgets/controls"
          }
        },
        "0cc1da827bf9459cb499b59fad0b48cf": {
          "model_module": "@jupyter-widgets/base",
          "model_name": "LayoutModel",
          "state": {
            "_view_name": "LayoutView",
            "grid_template_rows": null,
            "right": null,
            "justify_content": null,
            "_view_module": "@jupyter-widgets/base",
            "overflow": null,
            "_model_module_version": "1.2.0",
            "_view_count": null,
            "flex_flow": null,
            "width": null,
            "min_width": null,
            "border": null,
            "align_items": null,
            "bottom": null,
            "_model_module": "@jupyter-widgets/base",
            "top": null,
            "grid_column": null,
            "overflow_y": null,
            "overflow_x": null,
            "grid_auto_flow": null,
            "grid_area": null,
            "grid_template_columns": null,
            "flex": null,
            "_model_name": "LayoutModel",
            "justify_items": null,
            "grid_row": null,
            "max_height": null,
            "align_content": null,
            "visibility": null,
            "align_self": null,
            "height": null,
            "min_height": null,
            "padding": null,
            "grid_auto_rows": null,
            "grid_gap": null,
            "max_width": null,
            "order": null,
            "_view_module_version": "1.2.0",
            "grid_template_areas": null,
            "object_position": null,
            "object_fit": null,
            "grid_auto_columns": null,
            "margin": null,
            "display": null,
            "left": null
          }
        },
        "b949f3efdad742daa9d909adc27f5c49": {
          "model_module": "@jupyter-widgets/controls",
          "model_name": "DescriptionStyleModel",
          "state": {
            "_view_name": "StyleView",
            "_model_name": "DescriptionStyleModel",
            "description_width": "",
            "_view_module": "@jupyter-widgets/base",
            "_model_module_version": "1.5.0",
            "_view_count": null,
            "_view_module_version": "1.2.0",
            "_model_module": "@jupyter-widgets/controls"
          }
        },
        "52aac8f421b743cca7d7dcb5c70859ae": {
          "model_module": "@jupyter-widgets/base",
          "model_name": "LayoutModel",
          "state": {
            "_view_name": "LayoutView",
            "grid_template_rows": null,
            "right": null,
            "justify_content": null,
            "_view_module": "@jupyter-widgets/base",
            "overflow": null,
            "_model_module_version": "1.2.0",
            "_view_count": null,
            "flex_flow": null,
            "width": null,
            "min_width": null,
            "border": null,
            "align_items": null,
            "bottom": null,
            "_model_module": "@jupyter-widgets/base",
            "top": null,
            "grid_column": null,
            "overflow_y": null,
            "overflow_x": null,
            "grid_auto_flow": null,
            "grid_area": null,
            "grid_template_columns": null,
            "flex": null,
            "_model_name": "LayoutModel",
            "justify_items": null,
            "grid_row": null,
            "max_height": null,
            "align_content": null,
            "visibility": null,
            "align_self": null,
            "height": null,
            "min_height": null,
            "padding": null,
            "grid_auto_rows": null,
            "grid_gap": null,
            "max_width": null,
            "order": null,
            "_view_module_version": "1.2.0",
            "grid_template_areas": null,
            "object_position": null,
            "object_fit": null,
            "grid_auto_columns": null,
            "margin": null,
            "display": null,
            "left": null
          }
        }
      }
    }
  },
  "cells": [
    {
      "cell_type": "markdown",
      "metadata": {
        "id": "view-in-github",
        "colab_type": "text"
      },
      "source": [
        "<a href=\"https://colab.research.google.com/github/AliAkbarBadri/topics-for-types/blob/main/topics.ipynb\" target=\"_parent\"><img src=\"https://colab.research.google.com/assets/colab-badge.svg\" alt=\"Open In Colab\"/></a>"
      ]
    },
    {
      "cell_type": "markdown",
      "metadata": {
        "id": "35118jEtNm5E"
      },
      "source": [
        "# Setup"
      ]
    },
    {
      "cell_type": "code",
      "metadata": {
        "id": "SJFNjxht1SE5",
        "outputId": "62551cda-3eed-4f27-e0ab-c5fbd26e82b9",
        "colab": {
          "base_uri": "https://localhost:8080/"
        }
      },
      "source": [
        "! pip -q install laserembeddings\n",
        "! python -m laserembeddings download-models\n",
        "! pip -q install transformers\n",
        "! pip -q install parsivar"
      ],
      "execution_count": 1,
      "outputs": [
        {
          "output_type": "stream",
          "text": [
            "\u001b[K     |████████████████████████████████| 860kB 6.7MB/s \n",
            "\u001b[K     |████████████████████████████████| 51kB 7.8MB/s \n",
            "\u001b[?25h  Building wheel for sacremoses (setup.py) ... \u001b[?25l\u001b[?25hdone\n",
            "Downloading models into /usr/local/lib/python3.6/dist-packages/laserembeddings/data\n",
            "\n",
            "✅   Downloaded https://dl.fbaipublicfiles.com/laser/models/93langs.fcodes    \n",
            "✅   Downloaded https://dl.fbaipublicfiles.com/laser/models/93langs.fvocab    \n",
            "✅   Downloaded https://dl.fbaipublicfiles.com/laser/models/bilstm.93langs.2018-12-26.pt    \n",
            "\n",
            "✨ You're all set!\n",
            "\u001b[K     |████████████████████████████████| 1.3MB 4.8MB/s \n",
            "\u001b[K     |████████████████████████████████| 1.1MB 25.2MB/s \n",
            "\u001b[K     |████████████████████████████████| 2.9MB 43.1MB/s \n",
            "\u001b[K     |████████████████████████████████| 36.2MB 83kB/s \n",
            "\u001b[K     |████████████████████████████████| 1.5MB 50.1MB/s \n",
            "\u001b[?25h  Building wheel for parsivar (setup.py) ... \u001b[?25l\u001b[?25hdone\n",
            "  Building wheel for nltk (setup.py) ... \u001b[?25l\u001b[?25hdone\n"
          ],
          "name": "stdout"
        }
      ]
    },
    {
      "cell_type": "code",
      "metadata": {
        "id": "bxA_PSMaBhzU"
      },
      "source": [
        "import pandas as pd\n",
        "import numpy as np\n",
        "import numpy as np\n",
        "import matplotlib.pyplot as plt\n",
        "import os\n",
        "import tensorflow as tf\n",
        "import tensorflow_addons as tfa\n",
        "from tensorflow.keras.preprocessing.text import Tokenizer\n",
        "from tensorflow.keras.preprocessing.sequence import pad_sequences\n",
        "import torch\n",
        "from sklearn.model_selection import train_test_split\n",
        "from transformers import AutoConfig, AutoTokenizer, AutoModel\n",
        "from laserembeddings import Laser\n",
        "from parsivar import *\n",
        "from __future__ import unicode_literals"
      ],
      "execution_count": 7,
      "outputs": []
    },
    {
      "cell_type": "code",
      "metadata": {
        "id": "LCVAXfOLRn17",
        "outputId": "a1d24288-8c48-40ab-8041-075773454c4f",
        "colab": {
          "base_uri": "https://localhost:8080/"
        }
      },
      "source": [
        "from google.colab import drive\n",
        "drive.mount('/content/drive')"
      ],
      "execution_count": 3,
      "outputs": [
        {
          "output_type": "stream",
          "text": [
            "Mounted at /content/drive\n"
          ],
          "name": "stdout"
        }
      ]
    },
    {
      "cell_type": "markdown",
      "metadata": {
        "id": "YOWqOnmkpowp"
      },
      "source": [
        "# LASER"
      ]
    },
    {
      "cell_type": "code",
      "metadata": {
        "id": "36sadEN82ZUu"
      },
      "source": [
        "laser = Laser()"
      ],
      "execution_count": null,
      "outputs": []
    },
    {
      "cell_type": "code",
      "metadata": {
        "id": "lSQdhjdD8Osl",
        "outputId": "8dc176a6-0fa5-4c36-eb6d-2f5b3c35ce9e",
        "colab": {
          "base_uri": "https://localhost:8080/",
          "height": 564
        }
      },
      "source": [
        "df_topics_laser = pd.read_csv(\"/content/drive/My Drive/topics-for-types/df_topics.csv\")\n",
        "df_topics_laser.head()"
      ],
      "execution_count": null,
      "outputs": [
        {
          "output_type": "execute_result",
          "data": {
            "text/html": [
              "<div>\n",
              "<style scoped>\n",
              "    .dataframe tbody tr th:only-of-type {\n",
              "        vertical-align: middle;\n",
              "    }\n",
              "\n",
              "    .dataframe tbody tr th {\n",
              "        vertical-align: top;\n",
              "    }\n",
              "\n",
              "    .dataframe thead th {\n",
              "        text-align: right;\n",
              "    }\n",
              "</style>\n",
              "<table border=\"1\" class=\"dataframe\">\n",
              "  <thead>\n",
              "    <tr style=\"text-align: right;\">\n",
              "      <th></th>\n",
              "      <th>sentence</th>\n",
              "      <th>اقتصاد</th>\n",
              "      <th>بازی</th>\n",
              "      <th>برنامه‌نویسی</th>\n",
              "      <th>تحصیل</th>\n",
              "      <th>تغذیه</th>\n",
              "      <th>حقوق/قانون</th>\n",
              "      <th>حیوانات</th>\n",
              "      <th>خرید</th>\n",
              "      <th>روابط</th>\n",
              "      <th>روانشناسی</th>\n",
              "      <th>زبان</th>\n",
              "      <th>زیبایی</th>\n",
              "      <th>سرگرمی</th>\n",
              "      <th>سفر</th>\n",
              "      <th>سلامت</th>\n",
              "      <th>فنی</th>\n",
              "      <th>ماشین</th>\n",
              "      <th>مذهبی</th>\n",
              "      <th>ورزش</th>\n",
              "      <th>کار</th>\n",
              "      <th>کامپیوتر/موبایل</th>\n",
              "      <th>کودکان</th>\n",
              "      <th>گیاهان</th>\n",
              "    </tr>\n",
              "  </thead>\n",
              "  <tbody>\n",
              "    <tr>\n",
              "      <th>0</th>\n",
              "      <td>تفاوت ترمز عقب دیسکی و کاسه ای چیست؟</td>\n",
              "      <td>0</td>\n",
              "      <td>0</td>\n",
              "      <td>0</td>\n",
              "      <td>0</td>\n",
              "      <td>0</td>\n",
              "      <td>0</td>\n",
              "      <td>0</td>\n",
              "      <td>1</td>\n",
              "      <td>0</td>\n",
              "      <td>0</td>\n",
              "      <td>0</td>\n",
              "      <td>0</td>\n",
              "      <td>0</td>\n",
              "      <td>0</td>\n",
              "      <td>0</td>\n",
              "      <td>1</td>\n",
              "      <td>1</td>\n",
              "      <td>0</td>\n",
              "      <td>0</td>\n",
              "      <td>0</td>\n",
              "      <td>0</td>\n",
              "      <td>0</td>\n",
              "      <td>0</td>\n",
              "    </tr>\n",
              "    <tr>\n",
              "      <th>1</th>\n",
              "      <td>آیا ترمز ضدقفل ABS در همه چرخ ها عمل می کند؟</td>\n",
              "      <td>0</td>\n",
              "      <td>0</td>\n",
              "      <td>0</td>\n",
              "      <td>0</td>\n",
              "      <td>0</td>\n",
              "      <td>0</td>\n",
              "      <td>0</td>\n",
              "      <td>0</td>\n",
              "      <td>0</td>\n",
              "      <td>0</td>\n",
              "      <td>0</td>\n",
              "      <td>0</td>\n",
              "      <td>0</td>\n",
              "      <td>0</td>\n",
              "      <td>0</td>\n",
              "      <td>1</td>\n",
              "      <td>1</td>\n",
              "      <td>0</td>\n",
              "      <td>0</td>\n",
              "      <td>1</td>\n",
              "      <td>0</td>\n",
              "      <td>0</td>\n",
              "      <td>0</td>\n",
              "    </tr>\n",
              "    <tr>\n",
              "      <th>2</th>\n",
              "      <td>چرا باوجود نصب بودن ترمز ABS بر روی خودرو، ترم...</td>\n",
              "      <td>0</td>\n",
              "      <td>0</td>\n",
              "      <td>0</td>\n",
              "      <td>0</td>\n",
              "      <td>0</td>\n",
              "      <td>0</td>\n",
              "      <td>0</td>\n",
              "      <td>0</td>\n",
              "      <td>0</td>\n",
              "      <td>0</td>\n",
              "      <td>0</td>\n",
              "      <td>0</td>\n",
              "      <td>0</td>\n",
              "      <td>0</td>\n",
              "      <td>0</td>\n",
              "      <td>1</td>\n",
              "      <td>1</td>\n",
              "      <td>0</td>\n",
              "      <td>0</td>\n",
              "      <td>1</td>\n",
              "      <td>0</td>\n",
              "      <td>0</td>\n",
              "      <td>0</td>\n",
              "    </tr>\n",
              "    <tr>\n",
              "      <th>3</th>\n",
              "      <td>چرا با وجود نصب بودن Airbag بر روی خودرو، در ه...</td>\n",
              "      <td>0</td>\n",
              "      <td>0</td>\n",
              "      <td>0</td>\n",
              "      <td>0</td>\n",
              "      <td>0</td>\n",
              "      <td>0</td>\n",
              "      <td>0</td>\n",
              "      <td>0</td>\n",
              "      <td>0</td>\n",
              "      <td>0</td>\n",
              "      <td>0</td>\n",
              "      <td>0</td>\n",
              "      <td>0</td>\n",
              "      <td>0</td>\n",
              "      <td>0</td>\n",
              "      <td>1</td>\n",
              "      <td>1</td>\n",
              "      <td>0</td>\n",
              "      <td>0</td>\n",
              "      <td>1</td>\n",
              "      <td>0</td>\n",
              "      <td>0</td>\n",
              "      <td>0</td>\n",
              "    </tr>\n",
              "    <tr>\n",
              "      <th>4</th>\n",
              "      <td>کلاس های مختلف خودرو چگونه شناسایی می شوند؟</td>\n",
              "      <td>0</td>\n",
              "      <td>0</td>\n",
              "      <td>0</td>\n",
              "      <td>0</td>\n",
              "      <td>0</td>\n",
              "      <td>0</td>\n",
              "      <td>0</td>\n",
              "      <td>1</td>\n",
              "      <td>0</td>\n",
              "      <td>0</td>\n",
              "      <td>0</td>\n",
              "      <td>0</td>\n",
              "      <td>0</td>\n",
              "      <td>0</td>\n",
              "      <td>0</td>\n",
              "      <td>1</td>\n",
              "      <td>1</td>\n",
              "      <td>0</td>\n",
              "      <td>0</td>\n",
              "      <td>0</td>\n",
              "      <td>0</td>\n",
              "      <td>0</td>\n",
              "      <td>0</td>\n",
              "    </tr>\n",
              "  </tbody>\n",
              "</table>\n",
              "</div>"
            ],
            "text/plain": [
              "                                            sentence  اقتصاد  ...  کودکان  گیاهان\n",
              "0              تفاوت ترمز عقب دیسکی و کاسه ای چیست؟        0  ...       0       0\n",
              "1     آیا ترمز ضدقفل ABS در همه چرخ ها عمل می کند؟         0  ...       0       0\n",
              "2  چرا باوجود نصب بودن ترمز ABS بر روی خودرو، ترم...       0  ...       0       0\n",
              "3  چرا با وجود نصب بودن Airbag بر روی خودرو، در ه...       0  ...       0       0\n",
              "4       کلاس های مختلف خودرو چگونه شناسایی می شوند؟        0  ...       0       0\n",
              "\n",
              "[5 rows x 24 columns]"
            ]
          },
          "metadata": {
            "tags": []
          },
          "execution_count": 107
        }
      ]
    },
    {
      "cell_type": "code",
      "metadata": {
        "id": "9BCDHaSsKERB",
        "outputId": "11cad033-4711-4605-b0a9-6b28da2c63c2",
        "colab": {
          "base_uri": "https://localhost:8080/"
        }
      },
      "source": [
        "n_class = len(df_topics_laser.columns.values)-1\n",
        "n_class"
      ],
      "execution_count": null,
      "outputs": [
        {
          "output_type": "execute_result",
          "data": {
            "text/plain": [
              "23"
            ]
          },
          "metadata": {
            "tags": []
          },
          "execution_count": 108
        }
      ]
    },
    {
      "cell_type": "code",
      "metadata": {
        "id": "opZheLr-1fI6",
        "outputId": "44cb05b0-5ac8-41f4-82a7-5e429a2d05c0",
        "colab": {
          "base_uri": "https://localhost:8080/",
          "height": 496
        }
      },
      "source": [
        "df_topics_laser['sentence'] = df_topics_laser['sentence'].apply(lambda sent: laser.embed_sentences(sent, lang='fa')[0])\n",
        "df_topics_laser.head()"
      ],
      "execution_count": null,
      "outputs": [
        {
          "output_type": "execute_result",
          "data": {
            "text/html": [
              "<div>\n",
              "<style scoped>\n",
              "    .dataframe tbody tr th:only-of-type {\n",
              "        vertical-align: middle;\n",
              "    }\n",
              "\n",
              "    .dataframe tbody tr th {\n",
              "        vertical-align: top;\n",
              "    }\n",
              "\n",
              "    .dataframe thead th {\n",
              "        text-align: right;\n",
              "    }\n",
              "</style>\n",
              "<table border=\"1\" class=\"dataframe\">\n",
              "  <thead>\n",
              "    <tr style=\"text-align: right;\">\n",
              "      <th></th>\n",
              "      <th>sentence</th>\n",
              "      <th>اقتصاد</th>\n",
              "      <th>بازی</th>\n",
              "      <th>برنامه‌نویسی</th>\n",
              "      <th>تحصیل</th>\n",
              "      <th>تغذیه</th>\n",
              "      <th>حقوق/قانون</th>\n",
              "      <th>حیوانات</th>\n",
              "      <th>خرید</th>\n",
              "      <th>روابط</th>\n",
              "      <th>روانشناسی</th>\n",
              "      <th>زبان</th>\n",
              "      <th>زیبایی</th>\n",
              "      <th>سرگرمی</th>\n",
              "      <th>سفر</th>\n",
              "      <th>سلامت</th>\n",
              "      <th>فنی</th>\n",
              "      <th>ماشین</th>\n",
              "      <th>مذهبی</th>\n",
              "      <th>ورزش</th>\n",
              "      <th>کار</th>\n",
              "      <th>کامپیوتر/موبایل</th>\n",
              "      <th>کودکان</th>\n",
              "      <th>گیاهان</th>\n",
              "    </tr>\n",
              "  </thead>\n",
              "  <tbody>\n",
              "    <tr>\n",
              "      <th>0</th>\n",
              "      <td>[0.020942228, -8.114154e-05, -0.0009854127, 0....</td>\n",
              "      <td>0</td>\n",
              "      <td>0</td>\n",
              "      <td>0</td>\n",
              "      <td>0</td>\n",
              "      <td>0</td>\n",
              "      <td>0</td>\n",
              "      <td>0</td>\n",
              "      <td>1</td>\n",
              "      <td>0</td>\n",
              "      <td>0</td>\n",
              "      <td>0</td>\n",
              "      <td>0</td>\n",
              "      <td>0</td>\n",
              "      <td>0</td>\n",
              "      <td>0</td>\n",
              "      <td>1</td>\n",
              "      <td>1</td>\n",
              "      <td>0</td>\n",
              "      <td>0</td>\n",
              "      <td>0</td>\n",
              "      <td>0</td>\n",
              "      <td>0</td>\n",
              "      <td>0</td>\n",
              "    </tr>\n",
              "    <tr>\n",
              "      <th>1</th>\n",
              "      <td>[0.008679963, 0.0027223488, -0.000162347, 0.01...</td>\n",
              "      <td>0</td>\n",
              "      <td>0</td>\n",
              "      <td>0</td>\n",
              "      <td>0</td>\n",
              "      <td>0</td>\n",
              "      <td>0</td>\n",
              "      <td>0</td>\n",
              "      <td>0</td>\n",
              "      <td>0</td>\n",
              "      <td>0</td>\n",
              "      <td>0</td>\n",
              "      <td>0</td>\n",
              "      <td>0</td>\n",
              "      <td>0</td>\n",
              "      <td>0</td>\n",
              "      <td>1</td>\n",
              "      <td>1</td>\n",
              "      <td>0</td>\n",
              "      <td>0</td>\n",
              "      <td>1</td>\n",
              "      <td>0</td>\n",
              "      <td>0</td>\n",
              "      <td>0</td>\n",
              "    </tr>\n",
              "    <tr>\n",
              "      <th>2</th>\n",
              "      <td>[0.011158587, 0.01838572, -8.3516294e-05, 0.01...</td>\n",
              "      <td>0</td>\n",
              "      <td>0</td>\n",
              "      <td>0</td>\n",
              "      <td>0</td>\n",
              "      <td>0</td>\n",
              "      <td>0</td>\n",
              "      <td>0</td>\n",
              "      <td>0</td>\n",
              "      <td>0</td>\n",
              "      <td>0</td>\n",
              "      <td>0</td>\n",
              "      <td>0</td>\n",
              "      <td>0</td>\n",
              "      <td>0</td>\n",
              "      <td>0</td>\n",
              "      <td>1</td>\n",
              "      <td>1</td>\n",
              "      <td>0</td>\n",
              "      <td>0</td>\n",
              "      <td>1</td>\n",
              "      <td>0</td>\n",
              "      <td>0</td>\n",
              "      <td>0</td>\n",
              "    </tr>\n",
              "    <tr>\n",
              "      <th>3</th>\n",
              "      <td>[0.00957515, 0.013646437, 7.700363e-05, 0.0117...</td>\n",
              "      <td>0</td>\n",
              "      <td>0</td>\n",
              "      <td>0</td>\n",
              "      <td>0</td>\n",
              "      <td>0</td>\n",
              "      <td>0</td>\n",
              "      <td>0</td>\n",
              "      <td>0</td>\n",
              "      <td>0</td>\n",
              "      <td>0</td>\n",
              "      <td>0</td>\n",
              "      <td>0</td>\n",
              "      <td>0</td>\n",
              "      <td>0</td>\n",
              "      <td>0</td>\n",
              "      <td>1</td>\n",
              "      <td>1</td>\n",
              "      <td>0</td>\n",
              "      <td>0</td>\n",
              "      <td>1</td>\n",
              "      <td>0</td>\n",
              "      <td>0</td>\n",
              "      <td>0</td>\n",
              "    </tr>\n",
              "    <tr>\n",
              "      <th>4</th>\n",
              "      <td>[0.027029112, 0.0024084542, 0.0004833732, 0.00...</td>\n",
              "      <td>0</td>\n",
              "      <td>0</td>\n",
              "      <td>0</td>\n",
              "      <td>0</td>\n",
              "      <td>0</td>\n",
              "      <td>0</td>\n",
              "      <td>0</td>\n",
              "      <td>1</td>\n",
              "      <td>0</td>\n",
              "      <td>0</td>\n",
              "      <td>0</td>\n",
              "      <td>0</td>\n",
              "      <td>0</td>\n",
              "      <td>0</td>\n",
              "      <td>0</td>\n",
              "      <td>1</td>\n",
              "      <td>1</td>\n",
              "      <td>0</td>\n",
              "      <td>0</td>\n",
              "      <td>0</td>\n",
              "      <td>0</td>\n",
              "      <td>0</td>\n",
              "      <td>0</td>\n",
              "    </tr>\n",
              "  </tbody>\n",
              "</table>\n",
              "</div>"
            ],
            "text/plain": [
              "                                            sentence  اقتصاد  ...  کودکان  گیاهان\n",
              "0  [0.020942228, -8.114154e-05, -0.0009854127, 0....       0  ...       0       0\n",
              "1  [0.008679963, 0.0027223488, -0.000162347, 0.01...       0  ...       0       0\n",
              "2  [0.011158587, 0.01838572, -8.3516294e-05, 0.01...       0  ...       0       0\n",
              "3  [0.00957515, 0.013646437, 7.700363e-05, 0.0117...       0  ...       0       0\n",
              "4  [0.027029112, 0.0024084542, 0.0004833732, 0.00...       0  ...       0       0\n",
              "\n",
              "[5 rows x 24 columns]"
            ]
          },
          "metadata": {
            "tags": []
          },
          "execution_count": 109
        }
      ]
    },
    {
      "cell_type": "code",
      "metadata": {
        "id": "zfS5i6JY5wtz",
        "outputId": "589e9440-5378-4570-e8b7-b46679548c57",
        "colab": {
          "base_uri": "https://localhost:8080/"
        }
      },
      "source": [
        "X = np.array(df_topics_laser[df_topics_laser.columns[0]])\n",
        "X = np.vstack(X)\n",
        "\n",
        "Y = df_topics_laser[df_topics_laser.columns[1:]].values\n",
        "\n",
        "X.shape, Y.shape"
      ],
      "execution_count": null,
      "outputs": [
        {
          "output_type": "execute_result",
          "data": {
            "text/plain": [
              "((2708, 1024), (2708, 23))"
            ]
          },
          "metadata": {
            "tags": []
          },
          "execution_count": 110
        }
      ]
    },
    {
      "cell_type": "code",
      "metadata": {
        "id": "2dIU12_77FYS"
      },
      "source": [
        "X_train, X_test, y_train, y_test = train_test_split(X, Y, test_size=0.10)"
      ],
      "execution_count": null,
      "outputs": []
    },
    {
      "cell_type": "code",
      "metadata": {
        "id": "FGgNLji77YUg",
        "outputId": "8cbd4935-89ef-4532-ef44-ce1636dcaa75",
        "colab": {
          "base_uri": "https://localhost:8080/"
        }
      },
      "source": [
        "len(X_train),len(X_test),len(y_train),len(y_test)"
      ],
      "execution_count": null,
      "outputs": [
        {
          "output_type": "execute_result",
          "data": {
            "text/plain": [
              "(2437, 271, 2437, 271)"
            ]
          },
          "metadata": {
            "tags": []
          },
          "execution_count": 112
        }
      ]
    },
    {
      "cell_type": "code",
      "metadata": {
        "id": "XpEf3PHFfm7J"
      },
      "source": [
        "model = tf.keras.Sequential([\n",
        "    tf.keras.layers.Input(shape=X[0].shape, name='input_layer'),\n",
        "    # tf.keras.layers.Dense(32, activation='relu', name='Dense_Layer0'),\n",
        "    # tf.keras.layers.Dropout(rate=0.2, name=\"Dropout0\"),\n",
        "    tf.keras.layers.Dense(128, activation='selu', name='Dense_Layer1'),\n",
        "                          # activity_regularizer=tf.keras.regularizers.l2()),\n",
        "    \n",
        "    # tf.keras.layers.Dropout(rate=0.2, name=\"Dropout1\"),\n",
        "    # tf.keras.layers.Dense(32, activation='relu', name='Dense_Layer2'),\n",
        "                          # activity_regularizer=tf.keras.regularizers.l2()),\n",
        "    # tf.keras.layers.Dropout(rate=0.2, name=\"Dropout2\"),\n",
        "    tf.keras.layers.Dense(n_class, activation='sigmoid', name='Dense_Layer3'),\n",
        "\n",
        "  ], name='BERT_MODEL')\n"
      ],
      "execution_count": null,
      "outputs": []
    },
    {
      "cell_type": "code",
      "metadata": {
        "id": "Ft6tF_ek3LQo",
        "outputId": "fb90a68f-178c-4cf3-ed91-6f63586314ac",
        "colab": {
          "base_uri": "https://localhost:8080/"
        }
      },
      "source": [
        "model = tf.keras.Sequential([\n",
        "    tf.keras.layers.Input(shape=X[0].shape, name='input_layer'),\n",
        "    tf.keras.layers.Dense(128, activation='selu', name='Dense_Layer1'),\n",
        "    tf.keras.layers.Dense(n_class, activation='sigmoid', name='Output'),\n",
        "  ], name='LASER_Model')\n",
        "\n",
        "model.compile(loss='binary_crossentropy', optimizer='adam', \n",
        "              metrics=['acc',\n",
        "                       tfa.metrics.f_scores.F1Score(n_class,'weighted', threshold=0.5, name='f1'),\n",
        "                       tfa.metrics.f_scores.F1Score(n_class,'macro',threshold=0.5, name='macro'),\n",
        "                       tfa.metrics.f_scores.F1Score(n_class,'micro',threshold=0.5, name='micro'),\n",
        "                       tfa.metrics.HammingLoss(mode='multilabel',threshold=0.5, name='hamloss')])\n",
        "print(model.summary())"
      ],
      "execution_count": null,
      "outputs": [
        {
          "output_type": "stream",
          "text": [
            "Model: \"LASER_Model\"\n",
            "_________________________________________________________________\n",
            "Layer (type)                 Output Shape              Param #   \n",
            "=================================================================\n",
            "Dense_Layer1 (Dense)         (None, 128)               131200    \n",
            "_________________________________________________________________\n",
            "Output (Dense)               (None, 23)                2967      \n",
            "=================================================================\n",
            "Total params: 134,167\n",
            "Trainable params: 134,167\n",
            "Non-trainable params: 0\n",
            "_________________________________________________________________\n",
            "None\n"
          ],
          "name": "stdout"
        }
      ]
    },
    {
      "cell_type": "code",
      "metadata": {
        "id": "69rtCjqW7PeH",
        "outputId": "30e49ea0-a21f-4611-d69d-e4c178b7f90b",
        "colab": {
          "base_uri": "https://localhost:8080/"
        }
      },
      "source": [
        "history = model.fit(X_train, y_train, batch_size=4, epochs=20, verbose=1, validation_split=0.2)"
      ],
      "execution_count": null,
      "outputs": [
        {
          "output_type": "stream",
          "text": [
            "Epoch 1/20\n",
            "488/488 [==============================] - 3s 5ms/step - loss: 0.2689 - acc: 0.2032 - f1: 0.0525 - macro: 0.0219 - micro: 0.0554 - hamloss: 0.0860 - val_loss: 0.2299 - val_acc: 0.3033 - val_f1: 0.0990 - val_macro: 0.0510 - val_micro: 0.1203 - val_hamloss: 0.0808\n",
            "Epoch 2/20\n",
            "488/488 [==============================] - 2s 5ms/step - loss: 0.2009 - acc: 0.3145 - f1: 0.2623 - macro: 0.1240 - micro: 0.3159 - hamloss: 0.0729 - val_loss: 0.1882 - val_acc: 0.3381 - val_f1: 0.3319 - val_macro: 0.1781 - val_micro: 0.4040 - val_hamloss: 0.0686\n",
            "Epoch 3/20\n",
            "488/488 [==============================] - 2s 5ms/step - loss: 0.1652 - acc: 0.3787 - f1: 0.4413 - macro: 0.2618 - micro: 0.5005 - hamloss: 0.0619 - val_loss: 0.1655 - val_acc: 0.4160 - val_f1: 0.4491 - val_macro: 0.2825 - val_micro: 0.4946 - val_hamloss: 0.0621\n",
            "Epoch 4/20\n",
            "488/488 [==============================] - 2s 5ms/step - loss: 0.1444 - acc: 0.4295 - f1: 0.5617 - macro: 0.3845 - micro: 0.6004 - hamloss: 0.0537 - val_loss: 0.1531 - val_acc: 0.4242 - val_f1: 0.5279 - val_macro: 0.3869 - val_micro: 0.5573 - val_hamloss: 0.0568\n",
            "Epoch 5/20\n",
            "488/488 [==============================] - 2s 5ms/step - loss: 0.1294 - acc: 0.4654 - f1: 0.6390 - macro: 0.4698 - micro: 0.6674 - hamloss: 0.0473 - val_loss: 0.1476 - val_acc: 0.4590 - val_f1: 0.5700 - val_macro: 0.4258 - val_micro: 0.6036 - val_hamloss: 0.0537\n",
            "Epoch 6/20\n",
            "488/488 [==============================] - 3s 5ms/step - loss: 0.1176 - acc: 0.4772 - f1: 0.6910 - macro: 0.5282 - micro: 0.7130 - hamloss: 0.0423 - val_loss: 0.1389 - val_acc: 0.4877 - val_f1: 0.6165 - val_macro: 0.4601 - val_micro: 0.6407 - val_hamloss: 0.0502\n",
            "Epoch 7/20\n",
            "488/488 [==============================] - 3s 5ms/step - loss: 0.1082 - acc: 0.4874 - f1: 0.7275 - macro: 0.5664 - micro: 0.7471 - hamloss: 0.0380 - val_loss: 0.1375 - val_acc: 0.4734 - val_f1: 0.6371 - val_macro: 0.4965 - val_micro: 0.6570 - val_hamloss: 0.0486\n",
            "Epoch 8/20\n",
            "488/488 [==============================] - 2s 5ms/step - loss: 0.1002 - acc: 0.5069 - f1: 0.7477 - macro: 0.6091 - micro: 0.7632 - hamloss: 0.0361 - val_loss: 0.1339 - val_acc: 0.4877 - val_f1: 0.6460 - val_macro: 0.5033 - val_micro: 0.6679 - val_hamloss: 0.0482\n",
            "Epoch 9/20\n",
            "488/488 [==============================] - 2s 5ms/step - loss: 0.0936 - acc: 0.5013 - f1: 0.7670 - macro: 0.6333 - micro: 0.7813 - hamloss: 0.0338 - val_loss: 0.1316 - val_acc: 0.4857 - val_f1: 0.6497 - val_macro: 0.5010 - val_micro: 0.6724 - val_hamloss: 0.0478\n",
            "Epoch 10/20\n",
            "488/488 [==============================] - 2s 5ms/step - loss: 0.0871 - acc: 0.5110 - f1: 0.7927 - macro: 0.6806 - micro: 0.8038 - hamloss: 0.0308 - val_loss: 0.1327 - val_acc: 0.4795 - val_f1: 0.6479 - val_macro: 0.5162 - val_micro: 0.6704 - val_hamloss: 0.0476\n",
            "Epoch 11/20\n",
            "488/488 [==============================] - 2s 5ms/step - loss: 0.0812 - acc: 0.5198 - f1: 0.8085 - macro: 0.7186 - micro: 0.8175 - hamloss: 0.0288 - val_loss: 0.1304 - val_acc: 0.4467 - val_f1: 0.6805 - val_macro: 0.5978 - val_micro: 0.6931 - val_hamloss: 0.0455\n",
            "Epoch 12/20\n",
            "488/488 [==============================] - 2s 5ms/step - loss: 0.0760 - acc: 0.5167 - f1: 0.8243 - macro: 0.7541 - micro: 0.8307 - hamloss: 0.0270 - val_loss: 0.1295 - val_acc: 0.4590 - val_f1: 0.6738 - val_macro: 0.5701 - val_micro: 0.6867 - val_hamloss: 0.0465\n",
            "Epoch 13/20\n",
            "488/488 [==============================] - 2s 5ms/step - loss: 0.0718 - acc: 0.5208 - f1: 0.8385 - macro: 0.7716 - micro: 0.8445 - hamloss: 0.0250 - val_loss: 0.1323 - val_acc: 0.4693 - val_f1: 0.6912 - val_macro: 0.6147 - val_micro: 0.7021 - val_hamloss: 0.0445\n",
            "Epoch 14/20\n",
            "488/488 [==============================] - 2s 5ms/step - loss: 0.0669 - acc: 0.5269 - f1: 0.8488 - macro: 0.7947 - micro: 0.8534 - hamloss: 0.0237 - val_loss: 0.1327 - val_acc: 0.4775 - val_f1: 0.6894 - val_macro: 0.6178 - val_micro: 0.6962 - val_hamloss: 0.0446\n",
            "Epoch 15/20\n",
            "488/488 [==============================] - 2s 5ms/step - loss: 0.0630 - acc: 0.5274 - f1: 0.8621 - macro: 0.8196 - micro: 0.8661 - hamloss: 0.0218 - val_loss: 0.1318 - val_acc: 0.4734 - val_f1: 0.6882 - val_macro: 0.6113 - val_micro: 0.6997 - val_hamloss: 0.0460\n",
            "Epoch 16/20\n",
            "488/488 [==============================] - 2s 5ms/step - loss: 0.0590 - acc: 0.5228 - f1: 0.8724 - macro: 0.8355 - micro: 0.8758 - hamloss: 0.0203 - val_loss: 0.1323 - val_acc: 0.4918 - val_f1: 0.6983 - val_macro: 0.6380 - val_micro: 0.7056 - val_hamloss: 0.0453\n",
            "Epoch 17/20\n",
            "488/488 [==============================] - 2s 5ms/step - loss: 0.0553 - acc: 0.5269 - f1: 0.8800 - macro: 0.8521 - micro: 0.8823 - hamloss: 0.0193 - val_loss: 0.1359 - val_acc: 0.4939 - val_f1: 0.6881 - val_macro: 0.6383 - val_micro: 0.6954 - val_hamloss: 0.0459\n",
            "Epoch 18/20\n",
            "488/488 [==============================] - 2s 5ms/step - loss: 0.0519 - acc: 0.5290 - f1: 0.8907 - macro: 0.8673 - micro: 0.8928 - hamloss: 0.0176 - val_loss: 0.1352 - val_acc: 0.4754 - val_f1: 0.6992 - val_macro: 0.6291 - val_micro: 0.7049 - val_hamloss: 0.0454\n",
            "Epoch 19/20\n",
            "488/488 [==============================] - 2s 5ms/step - loss: 0.0489 - acc: 0.5336 - f1: 0.8967 - macro: 0.8748 - micro: 0.8987 - hamloss: 0.0168 - val_loss: 0.1401 - val_acc: 0.4652 - val_f1: 0.6861 - val_macro: 0.6110 - val_micro: 0.6940 - val_hamloss: 0.0460\n",
            "Epoch 20/20\n",
            "488/488 [==============================] - 2s 5ms/step - loss: 0.0460 - acc: 0.5367 - f1: 0.9065 - macro: 0.8944 - micro: 0.9080 - hamloss: 0.0153 - val_loss: 0.1394 - val_acc: 0.4590 - val_f1: 0.7017 - val_macro: 0.6416 - val_micro: 0.7095 - val_hamloss: 0.0447\n"
          ],
          "name": "stdout"
        }
      ]
    },
    {
      "cell_type": "code",
      "metadata": {
        "id": "YiK0QiVIxmkW",
        "outputId": "b17a006a-cbcf-4ddf-c396-e561b7b3fbc6",
        "colab": {
          "base_uri": "https://localhost:8080/"
        }
      },
      "source": [
        "score = model.evaluate(X_test, y_test, verbose=1)"
      ],
      "execution_count": null,
      "outputs": [
        {
          "output_type": "stream",
          "text": [
            "9/9 [==============================] - 0s 4ms/step - loss: 0.1271 - acc: 0.4502 - f1: 0.7098 - macro: 0.6390 - micro: 0.7165 - hamloss: 0.0444\n"
          ],
          "name": "stdout"
        }
      ]
    },
    {
      "cell_type": "code",
      "metadata": {
        "id": "6o8p6HcnhLET",
        "outputId": "f7de64eb-33eb-4e5d-cbf6-bfb7f7ab8b70",
        "colab": {
          "base_uri": "https://localhost:8080/",
          "height": 573
        }
      },
      "source": [
        "import matplotlib.pyplot as plt\n",
        "\n",
        "plt.plot(history.history['acc'])\n",
        "plt.plot(history.history['val_acc'])\n",
        "\n",
        "plt.title('model accuracy')\n",
        "plt.ylabel('accuracy')\n",
        "plt.xlabel('epoch')\n",
        "plt.legend(['train','test'], loc='upper left')\n",
        "plt.show()\n",
        "\n",
        "plt.plot(history.history['loss'])\n",
        "plt.plot(history.history['val_loss'])\n",
        "\n",
        "plt.title('model loss')\n",
        "plt.ylabel('loss')\n",
        "plt.xlabel('epoch')\n",
        "plt.legend(['train','test'], loc='upper left')\n",
        "plt.show()"
      ],
      "execution_count": null,
      "outputs": [
        {
          "output_type": "display_data",
          "data": {
            "image/png": "[encoded data removed]",
            "text/plain": [
              "<Figure size 432x288 with 1 Axes>"
            ]
          },
          "metadata": {
            "tags": [],
            "needs_background": "light"
          }
        },
        {
          "output_type": "display_data",
          "data": {
            "image/png": "[encoded data removed]",
            "text/plain": [
              "<Figure size 432x288 with 1 Axes>"
            ]
          },
          "metadata": {
            "tags": [],
            "needs_background": "light"
          }
        }
      ]
    },
    {
      "cell_type": "markdown",
      "metadata": {
        "id": "qQnFh-sk7LQB"
      },
      "source": [
        "# ALBERT"
      ]
    },
    {
      "cell_type": "code",
      "metadata": {
        "id": "1mhm9Px77LQN",
        "outputId": "a0b0b3b1-4823-4b8b-f830-1d1f05aaee3a",
        "colab": {
          "base_uri": "https://localhost:8080/",
          "height": 66,
          "referenced_widgets": [
            "cab9a6697c06412c8ac19086b5edd9d0",
            "76095e15a74a4253a67dc616dd2f9479",
            "40fb5199e5f240b5b60671afaf7890f1",
            "8ccf3181cefe4f889fe3ea758eaefc85",
            "74cc23eddb044cdc8bcfb2107d5afc2a",
            "0cc1da827bf9459cb499b59fad0b48cf",
            "b949f3efdad742daa9d909adc27f5c49",
            "52aac8f421b743cca7d7dcb5c70859ae"
          ]
        }
      },
      "source": [
        "config = AutoConfig.from_pretrained(\"m3hrdadfi/albert-fa-base-v2\")\n",
        "albert_tokenizer = AutoTokenizer.from_pretrained(\"m3hrdadfi/albert-fa-base-v2\")\n",
        "albert_model = AutoModel.from_pretrained(\"m3hrdadfi/albert-fa-base-v2\")"
      ],
      "execution_count": null,
      "outputs": [
        {
          "output_type": "display_data",
          "data": {
            "application/vnd.jupyter.widget-view+json": {
              "model_id": "cab9a6697c06412c8ac19086b5edd9d0",
              "version_minor": 0,
              "version_major": 2
            },
            "text/plain": [
              "HBox(children=(FloatProgress(value=0.0, description='Downloading', max=654186735.0, style=ProgressStyle(descri…"
            ]
          },
          "metadata": {
            "tags": []
          }
        },
        {
          "output_type": "stream",
          "text": [
            "\n"
          ],
          "name": "stdout"
        }
      ]
    },
    {
      "cell_type": "code",
      "metadata": {
        "id": "wOiozxD9kqRH"
      },
      "source": [
        "# def get_embedding(sent):\n",
        "#     input_sentence = torch.tensor(albert_tokenizer.encode(sent, max_length = 500)).unsqueeze(0)\n",
        "#     out = albert_model(input_sentence)\n",
        "#     embeddings_of_last_layer = out[0]\n",
        "#     cls_embeddings = embeddings_of_last_layer[0][0]\n",
        "#     cls_embeddings = cls_embeddings.detach().numpy()\n",
        "#     return cls_embeddings"
      ],
      "execution_count": null,
      "outputs": []
    },
    {
      "cell_type": "code",
      "metadata": {
        "id": "jVAQVz_-7LQd"
      },
      "source": [
        "# df_topics_albert = pd.read_csv(\"/content/drive/My Drive/topics-for-types/df_topics.csv\")"
      ],
      "execution_count": null,
      "outputs": []
    },
    {
      "cell_type": "code",
      "metadata": {
        "id": "_dJnPuA97LQl",
        "outputId": "65a27bf9-ac76-4347-a100-46a561fe2cd7",
        "colab": {
          "base_uri": "https://localhost:8080/",
          "height": 513
        }
      },
      "source": [
        "# df_topics_albert['sentence'] = df_topics_albert['sentence'].apply(lambda sent: get_embedding(sent))\n",
        "# df_topics_albert.to_csv(\"/content/drive/My Drive/topics-for-types/df_topics_albert.csv\", index=False)\n",
        "# df_topics_albert.head()"
      ],
      "execution_count": null,
      "outputs": [
        {
          "output_type": "stream",
          "text": [
            "Truncation was not explicitely activated but `max_length` is provided a specific value, please use `truncation=True` to explicitely truncate examples to max length. Defaulting to 'longest_first' truncation strategy. If you encode pairs of sequences (GLUE-style) with the tokenizer you can select this strategy more precisely by providing a specific strategy to `truncation`.\n"
          ],
          "name": "stderr"
        },
        {
          "output_type": "execute_result",
          "data": {
            "text/html": [
              "<div>\n",
              "<style scoped>\n",
              "    .dataframe tbody tr th:only-of-type {\n",
              "        vertical-align: middle;\n",
              "    }\n",
              "\n",
              "    .dataframe tbody tr th {\n",
              "        vertical-align: top;\n",
              "    }\n",
              "\n",
              "    .dataframe thead th {\n",
              "        text-align: right;\n",
              "    }\n",
              "</style>\n",
              "<table border=\"1\" class=\"dataframe\">\n",
              "  <thead>\n",
              "    <tr style=\"text-align: right;\">\n",
              "      <th></th>\n",
              "      <th>sentence</th>\n",
              "      <th>اقتصاد</th>\n",
              "      <th>بازی</th>\n",
              "      <th>برنامه‌نویسی</th>\n",
              "      <th>تحصیل</th>\n",
              "      <th>تغذیه</th>\n",
              "      <th>حقوق/قانون</th>\n",
              "      <th>حیوانات</th>\n",
              "      <th>خرید</th>\n",
              "      <th>روابط</th>\n",
              "      <th>روانشناسی</th>\n",
              "      <th>زبان</th>\n",
              "      <th>زیبایی</th>\n",
              "      <th>سرگرمی</th>\n",
              "      <th>سفر</th>\n",
              "      <th>سلامت</th>\n",
              "      <th>فنی</th>\n",
              "      <th>ماشین</th>\n",
              "      <th>مذهبی</th>\n",
              "      <th>ورزش</th>\n",
              "      <th>کار</th>\n",
              "      <th>کامپیوتر/موبایل</th>\n",
              "      <th>کودکان</th>\n",
              "      <th>گیاهان</th>\n",
              "    </tr>\n",
              "  </thead>\n",
              "  <tbody>\n",
              "    <tr>\n",
              "      <th>0</th>\n",
              "      <td>[-0.5841074, -0.017078003, -0.32405344, -0.645...</td>\n",
              "      <td>0</td>\n",
              "      <td>0</td>\n",
              "      <td>0</td>\n",
              "      <td>0</td>\n",
              "      <td>0</td>\n",
              "      <td>0</td>\n",
              "      <td>0</td>\n",
              "      <td>1</td>\n",
              "      <td>0</td>\n",
              "      <td>0</td>\n",
              "      <td>0</td>\n",
              "      <td>0</td>\n",
              "      <td>0</td>\n",
              "      <td>0</td>\n",
              "      <td>0</td>\n",
              "      <td>1</td>\n",
              "      <td>1</td>\n",
              "      <td>0</td>\n",
              "      <td>0</td>\n",
              "      <td>0</td>\n",
              "      <td>0</td>\n",
              "      <td>0</td>\n",
              "      <td>0</td>\n",
              "    </tr>\n",
              "    <tr>\n",
              "      <th>1</th>\n",
              "      <td>[-0.31120673, -0.0050979797, 0.10509731, -0.36...</td>\n",
              "      <td>0</td>\n",
              "      <td>0</td>\n",
              "      <td>0</td>\n",
              "      <td>0</td>\n",
              "      <td>0</td>\n",
              "      <td>0</td>\n",
              "      <td>0</td>\n",
              "      <td>0</td>\n",
              "      <td>0</td>\n",
              "      <td>0</td>\n",
              "      <td>0</td>\n",
              "      <td>0</td>\n",
              "      <td>0</td>\n",
              "      <td>0</td>\n",
              "      <td>0</td>\n",
              "      <td>1</td>\n",
              "      <td>1</td>\n",
              "      <td>0</td>\n",
              "      <td>0</td>\n",
              "      <td>1</td>\n",
              "      <td>0</td>\n",
              "      <td>0</td>\n",
              "      <td>0</td>\n",
              "    </tr>\n",
              "    <tr>\n",
              "      <th>2</th>\n",
              "      <td>[0.05544515, -0.23301096, 0.12021764, -0.33959...</td>\n",
              "      <td>0</td>\n",
              "      <td>0</td>\n",
              "      <td>0</td>\n",
              "      <td>0</td>\n",
              "      <td>0</td>\n",
              "      <td>0</td>\n",
              "      <td>0</td>\n",
              "      <td>0</td>\n",
              "      <td>0</td>\n",
              "      <td>0</td>\n",
              "      <td>0</td>\n",
              "      <td>0</td>\n",
              "      <td>0</td>\n",
              "      <td>0</td>\n",
              "      <td>0</td>\n",
              "      <td>1</td>\n",
              "      <td>1</td>\n",
              "      <td>0</td>\n",
              "      <td>0</td>\n",
              "      <td>1</td>\n",
              "      <td>0</td>\n",
              "      <td>0</td>\n",
              "      <td>0</td>\n",
              "    </tr>\n",
              "    <tr>\n",
              "      <th>3</th>\n",
              "      <td>[0.37881416, -0.1909234, 0.16427912, -0.383240...</td>\n",
              "      <td>0</td>\n",
              "      <td>0</td>\n",
              "      <td>0</td>\n",
              "      <td>0</td>\n",
              "      <td>0</td>\n",
              "      <td>0</td>\n",
              "      <td>0</td>\n",
              "      <td>0</td>\n",
              "      <td>0</td>\n",
              "      <td>0</td>\n",
              "      <td>0</td>\n",
              "      <td>0</td>\n",
              "      <td>0</td>\n",
              "      <td>0</td>\n",
              "      <td>0</td>\n",
              "      <td>1</td>\n",
              "      <td>1</td>\n",
              "      <td>0</td>\n",
              "      <td>0</td>\n",
              "      <td>1</td>\n",
              "      <td>0</td>\n",
              "      <td>0</td>\n",
              "      <td>0</td>\n",
              "    </tr>\n",
              "    <tr>\n",
              "      <th>4</th>\n",
              "      <td>[-0.46968994, -0.2401005, 0.20189604, -0.20498...</td>\n",
              "      <td>0</td>\n",
              "      <td>0</td>\n",
              "      <td>0</td>\n",
              "      <td>0</td>\n",
              "      <td>0</td>\n",
              "      <td>0</td>\n",
              "      <td>0</td>\n",
              "      <td>1</td>\n",
              "      <td>0</td>\n",
              "      <td>0</td>\n",
              "      <td>0</td>\n",
              "      <td>0</td>\n",
              "      <td>0</td>\n",
              "      <td>0</td>\n",
              "      <td>0</td>\n",
              "      <td>1</td>\n",
              "      <td>1</td>\n",
              "      <td>0</td>\n",
              "      <td>0</td>\n",
              "      <td>0</td>\n",
              "      <td>0</td>\n",
              "      <td>0</td>\n",
              "      <td>0</td>\n",
              "    </tr>\n",
              "  </tbody>\n",
              "</table>\n",
              "</div>"
            ],
            "text/plain": [
              "                                            sentence  اقتصاد  ...  کودکان  گیاهان\n",
              "0  [-0.5841074, -0.017078003, -0.32405344, -0.645...       0  ...       0       0\n",
              "1  [-0.31120673, -0.0050979797, 0.10509731, -0.36...       0  ...       0       0\n",
              "2  [0.05544515, -0.23301096, 0.12021764, -0.33959...       0  ...       0       0\n",
              "3  [0.37881416, -0.1909234, 0.16427912, -0.383240...       0  ...       0       0\n",
              "4  [-0.46968994, -0.2401005, 0.20189604, -0.20498...       0  ...       0       0\n",
              "\n",
              "[5 rows x 24 columns]"
            ]
          },
          "metadata": {
            "tags": []
          },
          "execution_count": 32
        }
      ]
    },
    {
      "cell_type": "code",
      "metadata": {
        "id": "ipJXyeK_onoh",
        "outputId": "115a8d35-96c4-45a6-de58-6df04935d9ac",
        "colab": {
          "base_uri": "https://localhost:8080/",
          "height": 496
        }
      },
      "source": [
        "df_topics_albert = pd.read_csv(\"/content/drive/My Drive/topics-for-types/df_topics_albert.csv\")\n",
        "df_topics_albert['sentence'] = df_topics_albert['sentence'].apply(lambda x: \n",
        "                           np.fromstring(\n",
        "                               x.replace('\\n','')\n",
        "                                .replace('[','')\n",
        "                                .replace(']','')\n",
        "                                .replace('  ',' '), sep=' '))\n",
        "df_topics_albert.head()"
      ],
      "execution_count": null,
      "outputs": [
        {
          "output_type": "execute_result",
          "data": {
            "text/html": [
              "<div>\n",
              "<style scoped>\n",
              "    .dataframe tbody tr th:only-of-type {\n",
              "        vertical-align: middle;\n",
              "    }\n",
              "\n",
              "    .dataframe tbody tr th {\n",
              "        vertical-align: top;\n",
              "    }\n",
              "\n",
              "    .dataframe thead th {\n",
              "        text-align: right;\n",
              "    }\n",
              "</style>\n",
              "<table border=\"1\" class=\"dataframe\">\n",
              "  <thead>\n",
              "    <tr style=\"text-align: right;\">\n",
              "      <th></th>\n",
              "      <th>sentence</th>\n",
              "      <th>اقتصاد</th>\n",
              "      <th>بازی</th>\n",
              "      <th>برنامه‌نویسی</th>\n",
              "      <th>تحصیل</th>\n",
              "      <th>تغذیه</th>\n",
              "      <th>حقوق/قانون</th>\n",
              "      <th>حیوانات</th>\n",
              "      <th>خرید</th>\n",
              "      <th>روابط</th>\n",
              "      <th>روانشناسی</th>\n",
              "      <th>زبان</th>\n",
              "      <th>زیبایی</th>\n",
              "      <th>سرگرمی</th>\n",
              "      <th>سفر</th>\n",
              "      <th>سلامت</th>\n",
              "      <th>فنی</th>\n",
              "      <th>ماشین</th>\n",
              "      <th>مذهبی</th>\n",
              "      <th>ورزش</th>\n",
              "      <th>کار</th>\n",
              "      <th>کامپیوتر/موبایل</th>\n",
              "      <th>کودکان</th>\n",
              "      <th>گیاهان</th>\n",
              "    </tr>\n",
              "  </thead>\n",
              "  <tbody>\n",
              "    <tr>\n",
              "      <th>0</th>\n",
              "      <td>[-0.584107399, -0.0170780029, -0.324053437, -0...</td>\n",
              "      <td>0</td>\n",
              "      <td>0</td>\n",
              "      <td>0</td>\n",
              "      <td>0</td>\n",
              "      <td>0</td>\n",
              "      <td>0</td>\n",
              "      <td>0</td>\n",
              "      <td>1</td>\n",
              "      <td>0</td>\n",
              "      <td>0</td>\n",
              "      <td>0</td>\n",
              "      <td>0</td>\n",
              "      <td>0</td>\n",
              "      <td>0</td>\n",
              "      <td>0</td>\n",
              "      <td>1</td>\n",
              "      <td>1</td>\n",
              "      <td>0</td>\n",
              "      <td>0</td>\n",
              "      <td>0</td>\n",
              "      <td>0</td>\n",
              "      <td>0</td>\n",
              "      <td>0</td>\n",
              "    </tr>\n",
              "    <tr>\n",
              "      <th>1</th>\n",
              "      <td>[-0.311206728, -0.00509797968, 0.105097309, -0...</td>\n",
              "      <td>0</td>\n",
              "      <td>0</td>\n",
              "      <td>0</td>\n",
              "      <td>0</td>\n",
              "      <td>0</td>\n",
              "      <td>0</td>\n",
              "      <td>0</td>\n",
              "      <td>0</td>\n",
              "      <td>0</td>\n",
              "      <td>0</td>\n",
              "      <td>0</td>\n",
              "      <td>0</td>\n",
              "      <td>0</td>\n",
              "      <td>0</td>\n",
              "      <td>0</td>\n",
              "      <td>1</td>\n",
              "      <td>1</td>\n",
              "      <td>0</td>\n",
              "      <td>0</td>\n",
              "      <td>1</td>\n",
              "      <td>0</td>\n",
              "      <td>0</td>\n",
              "      <td>0</td>\n",
              "    </tr>\n",
              "    <tr>\n",
              "      <th>2</th>\n",
              "      <td>[0.0554451495, -0.233010963, 0.120217644, -0.3...</td>\n",
              "      <td>0</td>\n",
              "      <td>0</td>\n",
              "      <td>0</td>\n",
              "      <td>0</td>\n",
              "      <td>0</td>\n",
              "      <td>0</td>\n",
              "      <td>0</td>\n",
              "      <td>0</td>\n",
              "      <td>0</td>\n",
              "      <td>0</td>\n",
              "      <td>0</td>\n",
              "      <td>0</td>\n",
              "      <td>0</td>\n",
              "      <td>0</td>\n",
              "      <td>0</td>\n",
              "      <td>1</td>\n",
              "      <td>1</td>\n",
              "      <td>0</td>\n",
              "      <td>0</td>\n",
              "      <td>1</td>\n",
              "      <td>0</td>\n",
              "      <td>0</td>\n",
              "      <td>0</td>\n",
              "    </tr>\n",
              "    <tr>\n",
              "      <th>3</th>\n",
              "      <td>[0.378814161, -0.190923393, 0.164279118, -0.38...</td>\n",
              "      <td>0</td>\n",
              "      <td>0</td>\n",
              "      <td>0</td>\n",
              "      <td>0</td>\n",
              "      <td>0</td>\n",
              "      <td>0</td>\n",
              "      <td>0</td>\n",
              "      <td>0</td>\n",
              "      <td>0</td>\n",
              "      <td>0</td>\n",
              "      <td>0</td>\n",
              "      <td>0</td>\n",
              "      <td>0</td>\n",
              "      <td>0</td>\n",
              "      <td>0</td>\n",
              "      <td>1</td>\n",
              "      <td>1</td>\n",
              "      <td>0</td>\n",
              "      <td>0</td>\n",
              "      <td>1</td>\n",
              "      <td>0</td>\n",
              "      <td>0</td>\n",
              "      <td>0</td>\n",
              "    </tr>\n",
              "    <tr>\n",
              "      <th>4</th>\n",
              "      <td>[-0.469689935, -0.240100503, 0.201896042, -0.2...</td>\n",
              "      <td>0</td>\n",
              "      <td>0</td>\n",
              "      <td>0</td>\n",
              "      <td>0</td>\n",
              "      <td>0</td>\n",
              "      <td>0</td>\n",
              "      <td>0</td>\n",
              "      <td>1</td>\n",
              "      <td>0</td>\n",
              "      <td>0</td>\n",
              "      <td>0</td>\n",
              "      <td>0</td>\n",
              "      <td>0</td>\n",
              "      <td>0</td>\n",
              "      <td>0</td>\n",
              "      <td>1</td>\n",
              "      <td>1</td>\n",
              "      <td>0</td>\n",
              "      <td>0</td>\n",
              "      <td>0</td>\n",
              "      <td>0</td>\n",
              "      <td>0</td>\n",
              "      <td>0</td>\n",
              "    </tr>\n",
              "  </tbody>\n",
              "</table>\n",
              "</div>"
            ],
            "text/plain": [
              "                                            sentence  اقتصاد  ...  کودکان  گیاهان\n",
              "0  [-0.584107399, -0.0170780029, -0.324053437, -0...       0  ...       0       0\n",
              "1  [-0.311206728, -0.00509797968, 0.105097309, -0...       0  ...       0       0\n",
              "2  [0.0554451495, -0.233010963, 0.120217644, -0.3...       0  ...       0       0\n",
              "3  [0.378814161, -0.190923393, 0.164279118, -0.38...       0  ...       0       0\n",
              "4  [-0.469689935, -0.240100503, 0.201896042, -0.2...       0  ...       0       0\n",
              "\n",
              "[5 rows x 24 columns]"
            ]
          },
          "metadata": {
            "tags": []
          },
          "execution_count": 33
        }
      ]
    },
    {
      "cell_type": "code",
      "metadata": {
        "id": "peiiVocu7LQq",
        "outputId": "1aae3b75-3370-4794-9bdf-1d22834f4c6e",
        "colab": {
          "base_uri": "https://localhost:8080/"
        }
      },
      "source": [
        "X = np.array(df_topics_albert[df_topics_albert.columns[0]])\n",
        "X = np.vstack(X)\n",
        "\n",
        "Y = df_topics_albert[df_topics_albert.columns[1:]].values\n",
        "\n",
        "X.shape, Y.shape"
      ],
      "execution_count": null,
      "outputs": [
        {
          "output_type": "execute_result",
          "data": {
            "text/plain": [
              "((2708, 768), (2708, 23))"
            ]
          },
          "metadata": {
            "tags": []
          },
          "execution_count": 34
        }
      ]
    },
    {
      "cell_type": "code",
      "metadata": {
        "id": "F40dV3XV7LQt"
      },
      "source": [
        "X_train, X_test, y_train, y_test = train_test_split(X, Y, test_size=0.10)"
      ],
      "execution_count": null,
      "outputs": []
    },
    {
      "cell_type": "code",
      "metadata": {
        "id": "PoDo8cwa7LQv",
        "outputId": "9fb8edaf-240a-4744-a4ee-0e81024b905a",
        "colab": {
          "base_uri": "https://localhost:8080/"
        }
      },
      "source": [
        "len(X_train),len(X_test),len(y_train),len(y_test)"
      ],
      "execution_count": null,
      "outputs": [
        {
          "output_type": "execute_result",
          "data": {
            "text/plain": [
              "(2437, 271, 2437, 271)"
            ]
          },
          "metadata": {
            "tags": []
          },
          "execution_count": 68
        }
      ]
    },
    {
      "cell_type": "code",
      "metadata": {
        "id": "-6VNFGrx7LQ1",
        "outputId": "ae69af5c-e7bb-4449-d1b0-ad6941ff8ae4",
        "colab": {
          "base_uri": "https://localhost:8080/"
        }
      },
      "source": [
        "model = tf.keras.Sequential([\n",
        "    tf.keras.layers.Input(shape=X[0].shape, name='input_layer'),\n",
        "    # tf.keras.layers.Dense(32, activation='relu', name='Dense_Layer0'),\n",
        "    # tf.keras.layers.Dropout(rate=0.2, name=\"Dropout0\"),\n",
        "    tf.keras.layers.Dense(128, activation='selu', name='Dense_Layer1'),\n",
        "                          # activity_regularizer=tf.keras.regularizers.l2()),\n",
        "    \n",
        "    # tf.keras.layers.Dropout(rate=0.2, name=\"Dropout1\"),\n",
        "    # tf.keras.layers.Dense(32, activation='relu', name='Dense_Layer2'),\n",
        "                          # activity_regularizer=tf.keras.regularizers.l2()),\n",
        "    # tf.keras.layers.Dropout(rate=0.2, name=\"Dropout2\"),\n",
        "    tf.keras.layers.Dense(n_class, activation='sigmoid', name='Dense_Layer3'),\n",
        "\n",
        "  ], name='ALBERT_MODEL')\n",
        "\n",
        "model.compile(loss='binary_crossentropy', optimizer='adam', \n",
        "              metrics=['acc',\n",
        "                       tfa.metrics.f_scores.F1Score(n_class,'weighted', threshold=0.5, name='f1'),\n",
        "                       tfa.metrics.f_scores.F1Score(n_class,'macro',threshold=0.5, name='macro'),\n",
        "                       tfa.metrics.f_scores.F1Score(n_class,'micro',threshold=0.5, name='micro'),\n",
        "                       tfa.metrics.HammingLoss(mode='multilabel',threshold=0.5, name='hamloss')])\n",
        "print(model.summary())"
      ],
      "execution_count": null,
      "outputs": [
        {
          "output_type": "stream",
          "text": [
            "Model: \"BERT_MODEL\"\n",
            "_________________________________________________________________\n",
            "Layer (type)                 Output Shape              Param #   \n",
            "=================================================================\n",
            "Dense_Layer1 (Dense)         (None, 128)               98432     \n",
            "_________________________________________________________________\n",
            "Dense_Layer3 (Dense)         (None, 23)                2967      \n",
            "=================================================================\n",
            "Total params: 101,399\n",
            "Trainable params: 101,399\n",
            "Non-trainable params: 0\n",
            "_________________________________________________________________\n",
            "None\n"
          ],
          "name": "stdout"
        }
      ]
    },
    {
      "cell_type": "code",
      "metadata": {
        "id": "oUMOG_Qa7LQ4",
        "outputId": "eb46a607-17eb-4878-a907-ba452744790b",
        "colab": {
          "base_uri": "https://localhost:8080/"
        }
      },
      "source": [
        "history = model.fit(X_train, y_train, batch_size=4, epochs=20, verbose=1, validation_split=0.1)"
      ],
      "execution_count": null,
      "outputs": [
        {
          "output_type": "stream",
          "text": [
            "Epoch 1/20\n",
            "549/549 [==============================] - 3s 5ms/step - loss: 0.2112 - acc: 0.3174 - f1: 0.3706 - macro: 0.2131 - micro: 0.4069 - hamloss: 0.0738 - val_loss: 0.1841 - val_acc: 0.3115 - val_f1: 0.4854 - val_macro: 0.3115 - val_micro: 0.5490 - val_hamloss: 0.0615\n",
            "Epoch 2/20\n",
            "549/549 [==============================] - 2s 4ms/step - loss: 0.1588 - acc: 0.4104 - f1: 0.5611 - macro: 0.3852 - micro: 0.5908 - hamloss: 0.0580 - val_loss: 0.1730 - val_acc: 0.3811 - val_f1: 0.5213 - val_macro: 0.3746 - val_micro: 0.5718 - val_hamloss: 0.0633\n",
            "Epoch 3/20\n",
            "549/549 [==============================] - 2s 4ms/step - loss: 0.1391 - acc: 0.4359 - f1: 0.6297 - macro: 0.5009 - micro: 0.6480 - hamloss: 0.0522 - val_loss: 0.1663 - val_acc: 0.3402 - val_f1: 0.5359 - val_macro: 0.3919 - val_micro: 0.5902 - val_hamloss: 0.0599\n",
            "Epoch 4/20\n",
            "549/549 [==============================] - 2s 4ms/step - loss: 0.1270 - acc: 0.4583 - f1: 0.6803 - macro: 0.5608 - micro: 0.6930 - hamloss: 0.0466 - val_loss: 0.1669 - val_acc: 0.3484 - val_f1: 0.5374 - val_macro: 0.4144 - val_micro: 0.5840 - val_hamloss: 0.0640\n",
            "Epoch 5/20\n",
            "549/549 [==============================] - 2s 4ms/step - loss: 0.1156 - acc: 0.4797 - f1: 0.7070 - macro: 0.6242 - micro: 0.7167 - hamloss: 0.0436 - val_loss: 0.1569 - val_acc: 0.3893 - val_f1: 0.6120 - val_macro: 0.4886 - val_micro: 0.6321 - val_hamloss: 0.0568\n",
            "Epoch 6/20\n",
            "549/549 [==============================] - 2s 4ms/step - loss: 0.1059 - acc: 0.4852 - f1: 0.7403 - macro: 0.6833 - micro: 0.7463 - hamloss: 0.0399 - val_loss: 0.1652 - val_acc: 0.3730 - val_f1: 0.5798 - val_macro: 0.4490 - val_micro: 0.6146 - val_hamloss: 0.0563\n",
            "Epoch 7/20\n",
            "549/549 [==============================] - 2s 4ms/step - loss: 0.0999 - acc: 0.5080 - f1: 0.7548 - macro: 0.7014 - micro: 0.7602 - hamloss: 0.0378 - val_loss: 0.1608 - val_acc: 0.3648 - val_f1: 0.5794 - val_macro: 0.4472 - val_micro: 0.6178 - val_hamloss: 0.0576\n",
            "Epoch 8/20\n",
            "549/549 [==============================] - 2s 4ms/step - loss: 0.0933 - acc: 0.4975 - f1: 0.7679 - macro: 0.7241 - micro: 0.7726 - hamloss: 0.0362 - val_loss: 0.1630 - val_acc: 0.3730 - val_f1: 0.6226 - val_macro: 0.5066 - val_micro: 0.6284 - val_hamloss: 0.0634\n",
            "Epoch 9/20\n",
            "549/549 [==============================] - 2s 4ms/step - loss: 0.0856 - acc: 0.5112 - f1: 0.7984 - macro: 0.7737 - micro: 0.8011 - hamloss: 0.0322 - val_loss: 0.1682 - val_acc: 0.3770 - val_f1: 0.5901 - val_macro: 0.4574 - val_micro: 0.6183 - val_hamloss: 0.0581\n",
            "Epoch 10/20\n",
            "549/549 [==============================] - 2s 4ms/step - loss: 0.0800 - acc: 0.5007 - f1: 0.8110 - macro: 0.7845 - micro: 0.8136 - hamloss: 0.0303 - val_loss: 0.1726 - val_acc: 0.4098 - val_f1: 0.6039 - val_macro: 0.4795 - val_micro: 0.6322 - val_hamloss: 0.0533\n",
            "Epoch 11/20\n",
            "549/549 [==============================] - 2s 4ms/step - loss: 0.0742 - acc: 0.5144 - f1: 0.8222 - macro: 0.8098 - micro: 0.8245 - hamloss: 0.0286 - val_loss: 0.1684 - val_acc: 0.4549 - val_f1: 0.6069 - val_macro: 0.4732 - val_micro: 0.6271 - val_hamloss: 0.0583\n",
            "Epoch 12/20\n",
            "549/549 [==============================] - 2s 4ms/step - loss: 0.0680 - acc: 0.5262 - f1: 0.8400 - macro: 0.8360 - micro: 0.8418 - hamloss: 0.0260 - val_loss: 0.1790 - val_acc: 0.4057 - val_f1: 0.6217 - val_macro: 0.5193 - val_micro: 0.6235 - val_hamloss: 0.0652\n",
            "Epoch 13/20\n",
            "549/549 [==============================] - 2s 4ms/step - loss: 0.0659 - acc: 0.5385 - f1: 0.8504 - macro: 0.8395 - micro: 0.8522 - hamloss: 0.0243 - val_loss: 0.1745 - val_acc: 0.3975 - val_f1: 0.6100 - val_macro: 0.4552 - val_micro: 0.6280 - val_hamloss: 0.0583\n",
            "Epoch 14/20\n",
            "549/549 [==============================] - 2s 4ms/step - loss: 0.0605 - acc: 0.5312 - f1: 0.8582 - macro: 0.8532 - micro: 0.8597 - hamloss: 0.0232 - val_loss: 0.1857 - val_acc: 0.3770 - val_f1: 0.6023 - val_macro: 0.4857 - val_micro: 0.6318 - val_hamloss: 0.0540\n",
            "Epoch 15/20\n",
            "549/549 [==============================] - 2s 4ms/step - loss: 0.0553 - acc: 0.5440 - f1: 0.8786 - macro: 0.8773 - micro: 0.8796 - hamloss: 0.0201 - val_loss: 0.1781 - val_acc: 0.3934 - val_f1: 0.6325 - val_macro: 0.5646 - val_micro: 0.6527 - val_hamloss: 0.0563\n",
            "Epoch 16/20\n",
            "549/549 [==============================] - 2s 5ms/step - loss: 0.0516 - acc: 0.5349 - f1: 0.8839 - macro: 0.8857 - micro: 0.8850 - hamloss: 0.0193 - val_loss: 0.1772 - val_acc: 0.4139 - val_f1: 0.6313 - val_macro: 0.5306 - val_micro: 0.6526 - val_hamloss: 0.0529\n",
            "Epoch 17/20\n",
            "549/549 [==============================] - 2s 4ms/step - loss: 0.0488 - acc: 0.5335 - f1: 0.8882 - macro: 0.8938 - micro: 0.8895 - hamloss: 0.0185 - val_loss: 0.1733 - val_acc: 0.4262 - val_f1: 0.6377 - val_macro: 0.5368 - val_micro: 0.6469 - val_hamloss: 0.0595\n",
            "Epoch 18/20\n",
            "549/549 [==============================] - 2s 4ms/step - loss: 0.0428 - acc: 0.5431 - f1: 0.9038 - macro: 0.9124 - micro: 0.9048 - hamloss: 0.0160 - val_loss: 0.1859 - val_acc: 0.3730 - val_f1: 0.6346 - val_macro: 0.5181 - val_micro: 0.6556 - val_hamloss: 0.0554\n",
            "Epoch 19/20\n",
            "549/549 [==============================] - 2s 4ms/step - loss: 0.0417 - acc: 0.5449 - f1: 0.9090 - macro: 0.9103 - micro: 0.9097 - hamloss: 0.0153 - val_loss: 0.1858 - val_acc: 0.4385 - val_f1: 0.6320 - val_macro: 0.5303 - val_micro: 0.6475 - val_hamloss: 0.0568\n",
            "Epoch 20/20\n",
            "549/549 [==============================] - 2s 4ms/step - loss: 0.0371 - acc: 0.5554 - f1: 0.9233 - macro: 0.9348 - micro: 0.9238 - hamloss: 0.0129 - val_loss: 0.1860 - val_acc: 0.4385 - val_f1: 0.6349 - val_macro: 0.5422 - val_micro: 0.6488 - val_hamloss: 0.0560\n"
          ],
          "name": "stdout"
        }
      ]
    },
    {
      "cell_type": "code",
      "metadata": {
        "id": "luObyoYB7LQ6",
        "outputId": "3d5e4d2a-8fd0-4b22-d346-44c612fb51a5",
        "colab": {
          "base_uri": "https://localhost:8080/"
        }
      },
      "source": [
        "score = model.evaluate(X_test, y_test, verbose=1)"
      ],
      "execution_count": null,
      "outputs": [
        {
          "output_type": "stream",
          "text": [
            "9/9 [==============================] - 0s 4ms/step - loss: 0.1778 - acc: 0.4244 - f1: 0.6766 - macro: 0.5890 - micro: 0.6861 - hamloss: 0.0485\n"
          ],
          "name": "stdout"
        }
      ]
    },
    {
      "cell_type": "code",
      "metadata": {
        "id": "LzKKewPO7LQ8"
      },
      "source": [
        "import matplotlib.pyplot as plt\n",
        "\n",
        "plt.plot(history.history['acc'])\n",
        "plt.plot(history.history['val_acc'])\n",
        "\n",
        "plt.title('model accuracy')\n",
        "plt.ylabel('accuracy')\n",
        "plt.xlabel('epoch')\n",
        "plt.legend(['train','test'], loc='upper left')\n",
        "plt.show()\n",
        "\n",
        "plt.plot(history.history['loss'])\n",
        "plt.plot(history.history['val_loss'])\n",
        "\n",
        "plt.title('model loss')\n",
        "plt.ylabel('loss')\n",
        "plt.xlabel('epoch')\n",
        "plt.legend(['train','test'], loc='upper left')\n",
        "plt.show()"
      ],
      "execution_count": null,
      "outputs": []
    },
    {
      "cell_type": "markdown",
      "metadata": {
        "id": "nDwxR2Q_6DLq"
      },
      "source": [
        "# BERT"
      ]
    },
    {
      "cell_type": "code",
      "metadata": {
        "id": "kUwQkPzt6DLy"
      },
      "source": [
        "bert_tokenizer = AutoTokenizer.from_pretrained(\"HooshvareLab/bert-base-parsbert-uncased\")  \n",
        "bert_model = AutoModel.from_pretrained(\"HooshvareLab/bert-base-parsbert-uncased\")"
      ],
      "execution_count": null,
      "outputs": []
    },
    {
      "cell_type": "code",
      "metadata": {
        "id": "3KUf8Pjk6DL6"
      },
      "source": [
        "# def get_embedding(sent):\n",
        "#     input_sentence = torch.tensor(bert_tokenizer.encode(sent, max_length = 500)).unsqueeze(0)\n",
        "#     out = bert_model(input_sentence)\n",
        "#     embeddings_of_last_layer = out[0]\n",
        "#     cls_embeddings = embeddings_of_last_layer[0][0]\n",
        "#     cls_embeddings = cls_embeddings.detach().numpy()\n",
        "#     return cls_embeddings"
      ],
      "execution_count": null,
      "outputs": []
    },
    {
      "cell_type": "code",
      "metadata": {
        "id": "1Y797oDb6DL9"
      },
      "source": [
        "# df_topics_bert = pd.read_csv(\"/content/drive/My Drive/topics-for-types/df_topics.csv\")"
      ],
      "execution_count": null,
      "outputs": []
    },
    {
      "cell_type": "code",
      "metadata": {
        "id": "gWcXzEyx6DMA"
      },
      "source": [
        "# df_topics_bert['sentence'] = df_topics_bert['sentence'].apply(lambda sent: get_embedding(sent))"
      ],
      "execution_count": null,
      "outputs": []
    },
    {
      "cell_type": "code",
      "metadata": {
        "id": "WSTFJk8w-ArV",
        "outputId": "4943ea16-9eaa-491f-b4a4-1f1600fc990e",
        "colab": {
          "base_uri": "https://localhost:8080/",
          "height": 496
        }
      },
      "source": [
        "# df_topics_bert.to_csv(\"/content/drive/My Drive/topics-for-types/df_topics_bert.csv\", index=False)\n",
        "# df_topics_bert.head()"
      ],
      "execution_count": null,
      "outputs": [
        {
          "output_type": "execute_result",
          "data": {
            "text/html": [
              "<div>\n",
              "<style scoped>\n",
              "    .dataframe tbody tr th:only-of-type {\n",
              "        vertical-align: middle;\n",
              "    }\n",
              "\n",
              "    .dataframe tbody tr th {\n",
              "        vertical-align: top;\n",
              "    }\n",
              "\n",
              "    .dataframe thead th {\n",
              "        text-align: right;\n",
              "    }\n",
              "</style>\n",
              "<table border=\"1\" class=\"dataframe\">\n",
              "  <thead>\n",
              "    <tr style=\"text-align: right;\">\n",
              "      <th></th>\n",
              "      <th>sentence</th>\n",
              "      <th>اقتصاد</th>\n",
              "      <th>بازی</th>\n",
              "      <th>برنامه‌نویسی</th>\n",
              "      <th>تحصیل</th>\n",
              "      <th>تغذیه</th>\n",
              "      <th>حقوق/قانون</th>\n",
              "      <th>حیوانات</th>\n",
              "      <th>خرید</th>\n",
              "      <th>روابط</th>\n",
              "      <th>روانشناسی</th>\n",
              "      <th>زبان</th>\n",
              "      <th>زیبایی</th>\n",
              "      <th>سرگرمی</th>\n",
              "      <th>سفر</th>\n",
              "      <th>سلامت</th>\n",
              "      <th>فنی</th>\n",
              "      <th>ماشین</th>\n",
              "      <th>مذهبی</th>\n",
              "      <th>ورزش</th>\n",
              "      <th>کار</th>\n",
              "      <th>کامپیوتر/موبایل</th>\n",
              "      <th>کودکان</th>\n",
              "      <th>گیاهان</th>\n",
              "    </tr>\n",
              "  </thead>\n",
              "  <tbody>\n",
              "    <tr>\n",
              "      <th>0</th>\n",
              "      <td>[-0.9806155, -0.25270098, -0.73519176, 0.52485...</td>\n",
              "      <td>0</td>\n",
              "      <td>0</td>\n",
              "      <td>0</td>\n",
              "      <td>0</td>\n",
              "      <td>0</td>\n",
              "      <td>0</td>\n",
              "      <td>0</td>\n",
              "      <td>1</td>\n",
              "      <td>0</td>\n",
              "      <td>0</td>\n",
              "      <td>0</td>\n",
              "      <td>0</td>\n",
              "      <td>0</td>\n",
              "      <td>0</td>\n",
              "      <td>0</td>\n",
              "      <td>1</td>\n",
              "      <td>1</td>\n",
              "      <td>0</td>\n",
              "      <td>0</td>\n",
              "      <td>0</td>\n",
              "      <td>0</td>\n",
              "      <td>0</td>\n",
              "      <td>0</td>\n",
              "    </tr>\n",
              "    <tr>\n",
              "      <th>1</th>\n",
              "      <td>[-1.2237562, -1.0405048, -0.82329005, -0.51480...</td>\n",
              "      <td>0</td>\n",
              "      <td>0</td>\n",
              "      <td>0</td>\n",
              "      <td>0</td>\n",
              "      <td>0</td>\n",
              "      <td>0</td>\n",
              "      <td>0</td>\n",
              "      <td>0</td>\n",
              "      <td>0</td>\n",
              "      <td>0</td>\n",
              "      <td>0</td>\n",
              "      <td>0</td>\n",
              "      <td>0</td>\n",
              "      <td>0</td>\n",
              "      <td>0</td>\n",
              "      <td>1</td>\n",
              "      <td>1</td>\n",
              "      <td>0</td>\n",
              "      <td>0</td>\n",
              "      <td>1</td>\n",
              "      <td>0</td>\n",
              "      <td>0</td>\n",
              "      <td>0</td>\n",
              "    </tr>\n",
              "    <tr>\n",
              "      <th>2</th>\n",
              "      <td>[-0.17114322, -0.8240524, -0.23230526, -0.3026...</td>\n",
              "      <td>0</td>\n",
              "      <td>0</td>\n",
              "      <td>0</td>\n",
              "      <td>0</td>\n",
              "      <td>0</td>\n",
              "      <td>0</td>\n",
              "      <td>0</td>\n",
              "      <td>0</td>\n",
              "      <td>0</td>\n",
              "      <td>0</td>\n",
              "      <td>0</td>\n",
              "      <td>0</td>\n",
              "      <td>0</td>\n",
              "      <td>0</td>\n",
              "      <td>0</td>\n",
              "      <td>1</td>\n",
              "      <td>1</td>\n",
              "      <td>0</td>\n",
              "      <td>0</td>\n",
              "      <td>1</td>\n",
              "      <td>0</td>\n",
              "      <td>0</td>\n",
              "      <td>0</td>\n",
              "    </tr>\n",
              "    <tr>\n",
              "      <th>3</th>\n",
              "      <td>[-0.033276368, -0.39518848, -0.75779915, -0.28...</td>\n",
              "      <td>0</td>\n",
              "      <td>0</td>\n",
              "      <td>0</td>\n",
              "      <td>0</td>\n",
              "      <td>0</td>\n",
              "      <td>0</td>\n",
              "      <td>0</td>\n",
              "      <td>0</td>\n",
              "      <td>0</td>\n",
              "      <td>0</td>\n",
              "      <td>0</td>\n",
              "      <td>0</td>\n",
              "      <td>0</td>\n",
              "      <td>0</td>\n",
              "      <td>0</td>\n",
              "      <td>1</td>\n",
              "      <td>1</td>\n",
              "      <td>0</td>\n",
              "      <td>0</td>\n",
              "      <td>1</td>\n",
              "      <td>0</td>\n",
              "      <td>0</td>\n",
              "      <td>0</td>\n",
              "    </tr>\n",
              "    <tr>\n",
              "      <th>4</th>\n",
              "      <td>[-1.226232, -0.88978004, -1.1824298, -0.173771...</td>\n",
              "      <td>0</td>\n",
              "      <td>0</td>\n",
              "      <td>0</td>\n",
              "      <td>0</td>\n",
              "      <td>0</td>\n",
              "      <td>0</td>\n",
              "      <td>0</td>\n",
              "      <td>1</td>\n",
              "      <td>0</td>\n",
              "      <td>0</td>\n",
              "      <td>0</td>\n",
              "      <td>0</td>\n",
              "      <td>0</td>\n",
              "      <td>0</td>\n",
              "      <td>0</td>\n",
              "      <td>1</td>\n",
              "      <td>1</td>\n",
              "      <td>0</td>\n",
              "      <td>0</td>\n",
              "      <td>0</td>\n",
              "      <td>0</td>\n",
              "      <td>0</td>\n",
              "      <td>0</td>\n",
              "    </tr>\n",
              "  </tbody>\n",
              "</table>\n",
              "</div>"
            ],
            "text/plain": [
              "                                            sentence  اقتصاد  ...  کودکان  گیاهان\n",
              "0  [-0.9806155, -0.25270098, -0.73519176, 0.52485...       0  ...       0       0\n",
              "1  [-1.2237562, -1.0405048, -0.82329005, -0.51480...       0  ...       0       0\n",
              "2  [-0.17114322, -0.8240524, -0.23230526, -0.3026...       0  ...       0       0\n",
              "3  [-0.033276368, -0.39518848, -0.75779915, -0.28...       0  ...       0       0\n",
              "4  [-1.226232, -0.88978004, -1.1824298, -0.173771...       0  ...       0       0\n",
              "\n",
              "[5 rows x 24 columns]"
            ]
          },
          "metadata": {
            "tags": []
          },
          "execution_count": 146
        }
      ]
    },
    {
      "cell_type": "code",
      "metadata": {
        "id": "vjUWh3mJ6DME",
        "outputId": "d8149074-774e-47f5-fc0d-85c37fbf1d86",
        "colab": {
          "base_uri": "https://localhost:8080/",
          "height": 496
        }
      },
      "source": [
        "df_topics_bert = pd.read_csv(\"/content/drive/My Drive/topics-for-types/df_topics_bert.csv\")\n",
        "df_topics_bert['sentence'] = df_topics_bert['sentence'].apply(lambda x: \n",
        "                           np.fromstring(\n",
        "                               x.replace('\\n','')\n",
        "                                .replace('[','')\n",
        "                                .replace(']','')\n",
        "                                .replace('  ',' '), sep=' '))\n",
        "df_topics_bert.head()"
      ],
      "execution_count": null,
      "outputs": [
        {
          "output_type": "execute_result",
          "data": {
            "text/html": [
              "<div>\n",
              "<style scoped>\n",
              "    .dataframe tbody tr th:only-of-type {\n",
              "        vertical-align: middle;\n",
              "    }\n",
              "\n",
              "    .dataframe tbody tr th {\n",
              "        vertical-align: top;\n",
              "    }\n",
              "\n",
              "    .dataframe thead th {\n",
              "        text-align: right;\n",
              "    }\n",
              "</style>\n",
              "<table border=\"1\" class=\"dataframe\">\n",
              "  <thead>\n",
              "    <tr style=\"text-align: right;\">\n",
              "      <th></th>\n",
              "      <th>sentence</th>\n",
              "      <th>اقتصاد</th>\n",
              "      <th>بازی</th>\n",
              "      <th>برنامه‌نویسی</th>\n",
              "      <th>تحصیل</th>\n",
              "      <th>تغذیه</th>\n",
              "      <th>حقوق/قانون</th>\n",
              "      <th>حیوانات</th>\n",
              "      <th>خرید</th>\n",
              "      <th>روابط</th>\n",
              "      <th>روانشناسی</th>\n",
              "      <th>زبان</th>\n",
              "      <th>زیبایی</th>\n",
              "      <th>سرگرمی</th>\n",
              "      <th>سفر</th>\n",
              "      <th>سلامت</th>\n",
              "      <th>فنی</th>\n",
              "      <th>ماشین</th>\n",
              "      <th>مذهبی</th>\n",
              "      <th>ورزش</th>\n",
              "      <th>کار</th>\n",
              "      <th>کامپیوتر/موبایل</th>\n",
              "      <th>کودکان</th>\n",
              "      <th>گیاهان</th>\n",
              "    </tr>\n",
              "  </thead>\n",
              "  <tbody>\n",
              "    <tr>\n",
              "      <th>0</th>\n",
              "      <td>[-0.980615497, -0.252700984, -0.735191762, 0.5...</td>\n",
              "      <td>0</td>\n",
              "      <td>0</td>\n",
              "      <td>0</td>\n",
              "      <td>0</td>\n",
              "      <td>0</td>\n",
              "      <td>0</td>\n",
              "      <td>0</td>\n",
              "      <td>1</td>\n",
              "      <td>0</td>\n",
              "      <td>0</td>\n",
              "      <td>0</td>\n",
              "      <td>0</td>\n",
              "      <td>0</td>\n",
              "      <td>0</td>\n",
              "      <td>0</td>\n",
              "      <td>1</td>\n",
              "      <td>1</td>\n",
              "      <td>0</td>\n",
              "      <td>0</td>\n",
              "      <td>0</td>\n",
              "      <td>0</td>\n",
              "      <td>0</td>\n",
              "      <td>0</td>\n",
              "    </tr>\n",
              "    <tr>\n",
              "      <th>1</th>\n",
              "      <td>[-1.22375619, -1.04050481, -0.82329005, -0.514...</td>\n",
              "      <td>0</td>\n",
              "      <td>0</td>\n",
              "      <td>0</td>\n",
              "      <td>0</td>\n",
              "      <td>0</td>\n",
              "      <td>0</td>\n",
              "      <td>0</td>\n",
              "      <td>0</td>\n",
              "      <td>0</td>\n",
              "      <td>0</td>\n",
              "      <td>0</td>\n",
              "      <td>0</td>\n",
              "      <td>0</td>\n",
              "      <td>0</td>\n",
              "      <td>0</td>\n",
              "      <td>1</td>\n",
              "      <td>1</td>\n",
              "      <td>0</td>\n",
              "      <td>0</td>\n",
              "      <td>1</td>\n",
              "      <td>0</td>\n",
              "      <td>0</td>\n",
              "      <td>0</td>\n",
              "    </tr>\n",
              "    <tr>\n",
              "      <th>2</th>\n",
              "      <td>[-0.171143219, -0.824052393, -0.232305259, -0....</td>\n",
              "      <td>0</td>\n",
              "      <td>0</td>\n",
              "      <td>0</td>\n",
              "      <td>0</td>\n",
              "      <td>0</td>\n",
              "      <td>0</td>\n",
              "      <td>0</td>\n",
              "      <td>0</td>\n",
              "      <td>0</td>\n",
              "      <td>0</td>\n",
              "      <td>0</td>\n",
              "      <td>0</td>\n",
              "      <td>0</td>\n",
              "      <td>0</td>\n",
              "      <td>0</td>\n",
              "      <td>1</td>\n",
              "      <td>1</td>\n",
              "      <td>0</td>\n",
              "      <td>0</td>\n",
              "      <td>1</td>\n",
              "      <td>0</td>\n",
              "      <td>0</td>\n",
              "      <td>0</td>\n",
              "    </tr>\n",
              "    <tr>\n",
              "      <th>3</th>\n",
              "      <td>[-0.0332763679, -0.395188481, -0.757799149, -0...</td>\n",
              "      <td>0</td>\n",
              "      <td>0</td>\n",
              "      <td>0</td>\n",
              "      <td>0</td>\n",
              "      <td>0</td>\n",
              "      <td>0</td>\n",
              "      <td>0</td>\n",
              "      <td>0</td>\n",
              "      <td>0</td>\n",
              "      <td>0</td>\n",
              "      <td>0</td>\n",
              "      <td>0</td>\n",
              "      <td>0</td>\n",
              "      <td>0</td>\n",
              "      <td>0</td>\n",
              "      <td>1</td>\n",
              "      <td>1</td>\n",
              "      <td>0</td>\n",
              "      <td>0</td>\n",
              "      <td>1</td>\n",
              "      <td>0</td>\n",
              "      <td>0</td>\n",
              "      <td>0</td>\n",
              "    </tr>\n",
              "    <tr>\n",
              "      <th>4</th>\n",
              "      <td>[-1.22623205, -0.889780045, -1.18242979, -0.17...</td>\n",
              "      <td>0</td>\n",
              "      <td>0</td>\n",
              "      <td>0</td>\n",
              "      <td>0</td>\n",
              "      <td>0</td>\n",
              "      <td>0</td>\n",
              "      <td>0</td>\n",
              "      <td>1</td>\n",
              "      <td>0</td>\n",
              "      <td>0</td>\n",
              "      <td>0</td>\n",
              "      <td>0</td>\n",
              "      <td>0</td>\n",
              "      <td>0</td>\n",
              "      <td>0</td>\n",
              "      <td>1</td>\n",
              "      <td>1</td>\n",
              "      <td>0</td>\n",
              "      <td>0</td>\n",
              "      <td>0</td>\n",
              "      <td>0</td>\n",
              "      <td>0</td>\n",
              "      <td>0</td>\n",
              "    </tr>\n",
              "  </tbody>\n",
              "</table>\n",
              "</div>"
            ],
            "text/plain": [
              "                                            sentence  اقتصاد  ...  کودکان  گیاهان\n",
              "0  [-0.980615497, -0.252700984, -0.735191762, 0.5...       0  ...       0       0\n",
              "1  [-1.22375619, -1.04050481, -0.82329005, -0.514...       0  ...       0       0\n",
              "2  [-0.171143219, -0.824052393, -0.232305259, -0....       0  ...       0       0\n",
              "3  [-0.0332763679, -0.395188481, -0.757799149, -0...       0  ...       0       0\n",
              "4  [-1.22623205, -0.889780045, -1.18242979, -0.17...       0  ...       0       0\n",
              "\n",
              "[5 rows x 24 columns]"
            ]
          },
          "metadata": {
            "tags": []
          },
          "execution_count": 147
        }
      ]
    },
    {
      "cell_type": "code",
      "metadata": {
        "id": "YbfErptu6DMH",
        "outputId": "f891cbaf-8345-4769-aa31-2a27e9f0af33",
        "colab": {
          "base_uri": "https://localhost:8080/"
        }
      },
      "source": [
        "X = np.array(df_topics_bert[df_topics_bert.columns[0]])\n",
        "X = np.vstack(X)\n",
        "\n",
        "Y = df_topics_bert[df_topics_bert.columns[1:]].values\n",
        "\n",
        "X.shape, Y.shape"
      ],
      "execution_count": null,
      "outputs": [
        {
          "output_type": "execute_result",
          "data": {
            "text/plain": [
              "((2708, 768), (2708, 23))"
            ]
          },
          "metadata": {
            "tags": []
          },
          "execution_count": 148
        }
      ]
    },
    {
      "cell_type": "code",
      "metadata": {
        "id": "oo2viqgB6DMK"
      },
      "source": [
        "X_train, X_test, y_train, y_test = train_test_split(X, Y, test_size=0.10)"
      ],
      "execution_count": null,
      "outputs": []
    },
    {
      "cell_type": "code",
      "metadata": {
        "id": "gAjrh5LM6DMN",
        "outputId": "fa7a7f21-d055-40a0-c678-790080b8513f",
        "colab": {
          "base_uri": "https://localhost:8080/"
        }
      },
      "source": [
        "len(X_train),len(X_test),len(y_train),len(y_test)"
      ],
      "execution_count": null,
      "outputs": [
        {
          "output_type": "execute_result",
          "data": {
            "text/plain": [
              "(2437, 271, 2437, 271)"
            ]
          },
          "metadata": {
            "tags": []
          },
          "execution_count": 150
        }
      ]
    },
    {
      "cell_type": "code",
      "metadata": {
        "id": "1a_NBhpG6DMQ",
        "outputId": "fd4cbffe-9675-4740-de37-779348781f53",
        "colab": {
          "base_uri": "https://localhost:8080/"
        }
      },
      "source": [
        "model = tf.keras.Sequential([\n",
        "    tf.keras.layers.Input(shape=X[0].shape, name='input_layer'),\n",
        "    # tf.keras.layers.Dense(32, activation='relu', name='Dense_Layer0'),\n",
        "    # tf.keras.layers.Dropout(rate=0.2, name=\"Dropout0\"),\n",
        "    tf.keras.layers.Dense(128, activation='selu', name='Dense_Layer1'),\n",
        "                          # activity_regularizer=tf.keras.regularizers.l2()),\n",
        "    \n",
        "    # tf.keras.layers.Dropout(rate=0.2, name=\"Dropout1\"),\n",
        "    # tf.keras.layers.Dense(32, activation='relu', name='Dense_Layer2'),\n",
        "                          # activity_regularizer=tf.keras.regularizers.l2()),\n",
        "    # tf.keras.layers.Dropout(rate=0.2, name=\"Dropout2\"),\n",
        "    tf.keras.layers.Dense(n_class, activation='sigmoid', name='Dense_Layer3'),\n",
        "\n",
        "  ], name='BERT_MODEL')\n",
        "\n",
        "model.compile(loss='binary_crossentropy', optimizer='adam', \n",
        "              metrics=['acc',\n",
        "                       tfa.metrics.f_scores.F1Score(n_class,'weighted', threshold=0.5, name='f1'),\n",
        "                       tfa.metrics.f_scores.F1Score(n_class,'macro',threshold=0.5, name='macro'),\n",
        "                       tfa.metrics.f_scores.F1Score(n_class,'micro',threshold=0.5, name='micro'),\n",
        "                       tfa.metrics.HammingLoss(mode='multilabel',threshold=0.5, name='hamloss')])\n",
        "print(model.summary())"
      ],
      "execution_count": null,
      "outputs": [
        {
          "output_type": "stream",
          "text": [
            "Model: \"BERT_MODEL\"\n",
            "_________________________________________________________________\n",
            "Layer (type)                 Output Shape              Param #   \n",
            "=================================================================\n",
            "Dense_Layer1 (Dense)         (None, 128)               98432     \n",
            "_________________________________________________________________\n",
            "Dense_Layer3 (Dense)         (None, 23)                2967      \n",
            "=================================================================\n",
            "Total params: 101,399\n",
            "Trainable params: 101,399\n",
            "Non-trainable params: 0\n",
            "_________________________________________________________________\n",
            "None\n"
          ],
          "name": "stdout"
        }
      ]
    },
    {
      "cell_type": "code",
      "metadata": {
        "id": "Szf5rGAh6DMT",
        "outputId": "8409df70-d92e-4d51-e86f-52125144a926",
        "colab": {
          "base_uri": "https://localhost:8080/"
        }
      },
      "source": [
        "history = model.fit(X_train, y_train, batch_size=4, epochs=20, verbose=1, validation_split=0.1)"
      ],
      "execution_count": null,
      "outputs": [
        {
          "output_type": "stream",
          "text": [
            "Epoch 1/20\n",
            "549/549 [==============================] - 3s 5ms/step - loss: 0.1549 - acc: 0.4109 - f1: 0.6116 - macro: 0.4751 - micro: 0.6287 - hamloss: 0.0544 - val_loss: 0.1156 - val_acc: 0.4590 - val_f1: 0.7313 - val_macro: 0.5703 - val_micro: 0.7466 - val_hamloss: 0.0399\n",
            "Epoch 2/20\n",
            "549/549 [==============================] - 3s 5ms/step - loss: 0.1051 - acc: 0.4751 - f1: 0.7534 - macro: 0.6767 - micro: 0.7596 - hamloss: 0.0382 - val_loss: 0.1055 - val_acc: 0.4795 - val_f1: 0.7638 - val_macro: 0.5936 - val_micro: 0.7774 - val_hamloss: 0.0372\n",
            "Epoch 3/20\n",
            "549/549 [==============================] - 3s 5ms/step - loss: 0.0876 - acc: 0.4875 - f1: 0.7962 - macro: 0.7341 - micro: 0.8009 - hamloss: 0.0322 - val_loss: 0.1087 - val_acc: 0.4877 - val_f1: 0.7476 - val_macro: 0.5954 - val_micro: 0.7604 - val_hamloss: 0.0380\n",
            "Epoch 4/20\n",
            "549/549 [==============================] - 3s 5ms/step - loss: 0.0756 - acc: 0.5103 - f1: 0.8263 - macro: 0.7936 - micro: 0.8288 - hamloss: 0.0281 - val_loss: 0.1077 - val_acc: 0.4754 - val_f1: 0.7607 - val_macro: 0.6763 - val_micro: 0.7675 - val_hamloss: 0.0372\n",
            "Epoch 5/20\n",
            "549/549 [==============================] - 3s 5ms/step - loss: 0.0663 - acc: 0.5194 - f1: 0.8467 - macro: 0.8154 - micro: 0.8486 - hamloss: 0.0250 - val_loss: 0.1042 - val_acc: 0.4672 - val_f1: 0.7825 - val_macro: 0.6482 - val_micro: 0.7889 - val_hamloss: 0.0351\n",
            "Epoch 6/20\n",
            "549/549 [==============================] - 2s 5ms/step - loss: 0.0568 - acc: 0.5194 - f1: 0.8696 - macro: 0.8512 - micro: 0.8711 - hamloss: 0.0214 - val_loss: 0.1125 - val_acc: 0.4877 - val_f1: 0.7782 - val_macro: 0.6885 - val_micro: 0.7774 - val_hamloss: 0.0365\n",
            "Epoch 7/20\n",
            "549/549 [==============================] - 2s 5ms/step - loss: 0.0499 - acc: 0.5253 - f1: 0.8867 - macro: 0.8731 - micro: 0.8878 - hamloss: 0.0187 - val_loss: 0.1120 - val_acc: 0.4713 - val_f1: 0.7789 - val_macro: 0.6641 - val_micro: 0.7811 - val_hamloss: 0.0371\n",
            "Epoch 8/20\n",
            "549/549 [==============================] - 3s 5ms/step - loss: 0.0447 - acc: 0.5285 - f1: 0.8986 - macro: 0.8897 - micro: 0.8995 - hamloss: 0.0169 - val_loss: 0.1160 - val_acc: 0.4918 - val_f1: 0.7879 - val_macro: 0.7059 - val_micro: 0.7856 - val_hamloss: 0.0360\n",
            "Epoch 9/20\n",
            "549/549 [==============================] - 2s 5ms/step - loss: 0.0388 - acc: 0.5363 - f1: 0.9143 - macro: 0.9078 - micro: 0.9148 - hamloss: 0.0144 - val_loss: 0.1342 - val_acc: 0.4631 - val_f1: 0.7776 - val_macro: 0.6766 - val_micro: 0.7663 - val_hamloss: 0.0415\n",
            "Epoch 10/20\n",
            "549/549 [==============================] - 3s 5ms/step - loss: 0.0338 - acc: 0.5417 - f1: 0.9265 - macro: 0.9262 - micro: 0.9269 - hamloss: 0.0124 - val_loss: 0.1259 - val_acc: 0.4590 - val_f1: 0.7810 - val_macro: 0.6931 - val_micro: 0.7836 - val_hamloss: 0.0358\n",
            "Epoch 11/20\n",
            "549/549 [==============================] - 3s 5ms/step - loss: 0.0285 - acc: 0.5426 - f1: 0.9381 - macro: 0.9407 - micro: 0.9385 - hamloss: 0.0105 - val_loss: 0.1338 - val_acc: 0.4590 - val_f1: 0.7654 - val_macro: 0.6358 - val_micro: 0.7648 - val_hamloss: 0.0419\n",
            "Epoch 12/20\n",
            "549/549 [==============================] - 2s 5ms/step - loss: 0.0259 - acc: 0.5472 - f1: 0.9435 - macro: 0.9441 - micro: 0.9436 - hamloss: 0.0096 - val_loss: 0.1306 - val_acc: 0.4836 - val_f1: 0.7808 - val_macro: 0.6176 - val_micro: 0.7870 - val_hamloss: 0.0351\n",
            "Epoch 13/20\n",
            "549/549 [==============================] - 3s 5ms/step - loss: 0.0225 - acc: 0.5454 - f1: 0.9530 - macro: 0.9569 - micro: 0.9532 - hamloss: 0.0080 - val_loss: 0.1334 - val_acc: 0.4426 - val_f1: 0.7790 - val_macro: 0.6417 - val_micro: 0.7770 - val_hamloss: 0.0394\n",
            "Epoch 14/20\n",
            "549/549 [==============================] - 3s 5ms/step - loss: 0.0203 - acc: 0.5545 - f1: 0.9577 - macro: 0.9627 - micro: 0.9577 - hamloss: 0.0073 - val_loss: 0.1425 - val_acc: 0.4303 - val_f1: 0.7806 - val_macro: 0.6785 - val_micro: 0.7801 - val_hamloss: 0.0378\n",
            "Epoch 15/20\n",
            "549/549 [==============================] - 3s 5ms/step - loss: 0.0180 - acc: 0.5413 - f1: 0.9645 - macro: 0.9684 - micro: 0.9645 - hamloss: 0.0061 - val_loss: 0.1487 - val_acc: 0.4672 - val_f1: 0.7691 - val_macro: 0.6785 - val_micro: 0.7648 - val_hamloss: 0.0419\n",
            "Epoch 16/20\n",
            "549/549 [==============================] - 3s 5ms/step - loss: 0.0194 - acc: 0.5376 - f1: 0.9608 - macro: 0.9620 - micro: 0.9608 - hamloss: 0.0067 - val_loss: 0.1408 - val_acc: 0.4672 - val_f1: 0.8066 - val_macro: 0.6655 - val_micro: 0.8041 - val_hamloss: 0.0339\n",
            "Epoch 17/20\n",
            "549/549 [==============================] - 3s 5ms/step - loss: 0.0174 - acc: 0.5481 - f1: 0.9638 - macro: 0.9628 - micro: 0.9639 - hamloss: 0.0062 - val_loss: 0.1642 - val_acc: 0.4713 - val_f1: 0.7588 - val_macro: 0.6235 - val_micro: 0.7625 - val_hamloss: 0.0397\n",
            "Epoch 18/20\n",
            "549/549 [==============================] - 3s 5ms/step - loss: 0.0144 - acc: 0.5536 - f1: 0.9705 - macro: 0.9743 - micro: 0.9706 - hamloss: 0.0051 - val_loss: 0.1761 - val_acc: 0.4508 - val_f1: 0.7568 - val_macro: 0.6110 - val_micro: 0.7636 - val_hamloss: 0.0394\n",
            "Epoch 19/20\n",
            "549/549 [==============================] - 3s 5ms/step - loss: 0.0144 - acc: 0.5454 - f1: 0.9728 - macro: 0.9763 - micro: 0.9728 - hamloss: 0.0047 - val_loss: 0.1595 - val_acc: 0.4508 - val_f1: 0.7857 - val_macro: 0.6413 - val_micro: 0.7821 - val_hamloss: 0.0372\n",
            "Epoch 20/20\n",
            "549/549 [==============================] - 3s 5ms/step - loss: 0.0128 - acc: 0.5563 - f1: 0.9753 - macro: 0.9787 - micro: 0.9753 - hamloss: 0.0042 - val_loss: 0.1674 - val_acc: 0.4549 - val_f1: 0.7865 - val_macro: 0.6564 - val_micro: 0.7857 - val_hamloss: 0.0374\n"
          ],
          "name": "stdout"
        }
      ]
    },
    {
      "cell_type": "code",
      "metadata": {
        "id": "ZVEq7SgU6DMV",
        "outputId": "2a612a06-65e5-4efb-ee47-d7fa0710a575",
        "colab": {
          "base_uri": "https://localhost:8080/"
        }
      },
      "source": [
        "score = model.evaluate(X_test, y_test, verbose=1)"
      ],
      "execution_count": null,
      "outputs": [
        {
          "output_type": "stream",
          "text": [
            "9/9 [==============================] - 0s 4ms/step - loss: 0.1783 - acc: 0.4760 - f1: 0.7669 - macro: 0.6702 - micro: 0.7680 - hamloss: 0.0404\n"
          ],
          "name": "stdout"
        }
      ]
    },
    {
      "cell_type": "code",
      "metadata": {
        "id": "jpT_hq_V6DMZ"
      },
      "source": [
        "import matplotlib.pyplot as plt\n",
        "\n",
        "plt.plot(history.history['acc'])\n",
        "plt.plot(history.history['val_acc'])\n",
        "\n",
        "plt.title('model accuracy')\n",
        "plt.ylabel('accuracy')\n",
        "plt.xlabel('epoch')\n",
        "plt.legend(['train','test'], loc='upper left')\n",
        "plt.show()\n",
        "\n",
        "plt.plot(history.history['loss'])\n",
        "plt.plot(history.history['val_loss'])\n",
        "\n",
        "plt.title('model loss')\n",
        "plt.ylabel('loss')\n",
        "plt.xlabel('epoch')\n",
        "plt.legend(['train','test'], loc='upper left')\n",
        "plt.show()"
      ],
      "execution_count": null,
      "outputs": []
    },
    {
      "cell_type": "markdown",
      "metadata": {
        "id": "9q5_WcI7b5v-"
      },
      "source": [
        "# Word2Vec"
      ]
    },
    {
      "cell_type": "code",
      "metadata": {
        "id": "VLIzyiWCcMTZ"
      },
      "source": [
        "embeddings_dictionary = dict()\n",
        "\n",
        "glove_file = open('drive/My Drive/nlp/similarity/embeddings/twitt_wiki_ham_blog.fa.text.100.vec', encoding=\"utf8\")\n",
        "\n",
        "for line in glove_file:\n",
        "    records = line.split()\n",
        "    word = records[0]\n",
        "    vector_dimensions = np.asarray(records[1:], dtype='float32')\n",
        "    embeddings_dictionary[word] = vector_dimensions\n",
        "glove_file.close()"
      ],
      "execution_count": 4,
      "outputs": []
    },
    {
      "cell_type": "code",
      "metadata": {
        "id": "hQLdxdiUb_RW",
        "outputId": "12c94a36-851c-41dd-fd02-9fc31bfd6bd6",
        "colab": {
          "base_uri": "https://localhost:8080/",
          "height": 564
        }
      },
      "source": [
        "df_topics_w2v = pd.read_csv(\"/content/drive/My Drive/topics-for-types/df_topics.csv\")\n",
        "df_topics_w2v.head()"
      ],
      "execution_count": 5,
      "outputs": [
        {
          "output_type": "execute_result",
          "data": {
            "text/html": [
              "<div>\n",
              "<style scoped>\n",
              "    .dataframe tbody tr th:only-of-type {\n",
              "        vertical-align: middle;\n",
              "    }\n",
              "\n",
              "    .dataframe tbody tr th {\n",
              "        vertical-align: top;\n",
              "    }\n",
              "\n",
              "    .dataframe thead th {\n",
              "        text-align: right;\n",
              "    }\n",
              "</style>\n",
              "<table border=\"1\" class=\"dataframe\">\n",
              "  <thead>\n",
              "    <tr style=\"text-align: right;\">\n",
              "      <th></th>\n",
              "      <th>sentence</th>\n",
              "      <th>اقتصاد</th>\n",
              "      <th>بازی</th>\n",
              "      <th>برنامه‌نویسی</th>\n",
              "      <th>تحصیل</th>\n",
              "      <th>تغذیه</th>\n",
              "      <th>حقوق/قانون</th>\n",
              "      <th>حیوانات</th>\n",
              "      <th>خرید</th>\n",
              "      <th>روابط</th>\n",
              "      <th>روانشناسی</th>\n",
              "      <th>زبان</th>\n",
              "      <th>زیبایی</th>\n",
              "      <th>سرگرمی</th>\n",
              "      <th>سفر</th>\n",
              "      <th>سلامت</th>\n",
              "      <th>فنی</th>\n",
              "      <th>ماشین</th>\n",
              "      <th>مذهبی</th>\n",
              "      <th>ورزش</th>\n",
              "      <th>کار</th>\n",
              "      <th>کامپیوتر/موبایل</th>\n",
              "      <th>کودکان</th>\n",
              "      <th>گیاهان</th>\n",
              "    </tr>\n",
              "  </thead>\n",
              "  <tbody>\n",
              "    <tr>\n",
              "      <th>0</th>\n",
              "      <td>تفاوت ترمز عقب دیسکی و کاسه ای چیست؟</td>\n",
              "      <td>0</td>\n",
              "      <td>0</td>\n",
              "      <td>0</td>\n",
              "      <td>0</td>\n",
              "      <td>0</td>\n",
              "      <td>0</td>\n",
              "      <td>0</td>\n",
              "      <td>1</td>\n",
              "      <td>0</td>\n",
              "      <td>0</td>\n",
              "      <td>0</td>\n",
              "      <td>0</td>\n",
              "      <td>0</td>\n",
              "      <td>0</td>\n",
              "      <td>0</td>\n",
              "      <td>1</td>\n",
              "      <td>1</td>\n",
              "      <td>0</td>\n",
              "      <td>0</td>\n",
              "      <td>0</td>\n",
              "      <td>0</td>\n",
              "      <td>0</td>\n",
              "      <td>0</td>\n",
              "    </tr>\n",
              "    <tr>\n",
              "      <th>1</th>\n",
              "      <td>آیا ترمز ضدقفل ABS در همه چرخ ها عمل می کند؟</td>\n",
              "      <td>0</td>\n",
              "      <td>0</td>\n",
              "      <td>0</td>\n",
              "      <td>0</td>\n",
              "      <td>0</td>\n",
              "      <td>0</td>\n",
              "      <td>0</td>\n",
              "      <td>0</td>\n",
              "      <td>0</td>\n",
              "      <td>0</td>\n",
              "      <td>0</td>\n",
              "      <td>0</td>\n",
              "      <td>0</td>\n",
              "      <td>0</td>\n",
              "      <td>0</td>\n",
              "      <td>1</td>\n",
              "      <td>1</td>\n",
              "      <td>0</td>\n",
              "      <td>0</td>\n",
              "      <td>1</td>\n",
              "      <td>0</td>\n",
              "      <td>0</td>\n",
              "      <td>0</td>\n",
              "    </tr>\n",
              "    <tr>\n",
              "      <th>2</th>\n",
              "      <td>چرا باوجود نصب بودن ترمز ABS بر روی خودرو، ترم...</td>\n",
              "      <td>0</td>\n",
              "      <td>0</td>\n",
              "      <td>0</td>\n",
              "      <td>0</td>\n",
              "      <td>0</td>\n",
              "      <td>0</td>\n",
              "      <td>0</td>\n",
              "      <td>0</td>\n",
              "      <td>0</td>\n",
              "      <td>0</td>\n",
              "      <td>0</td>\n",
              "      <td>0</td>\n",
              "      <td>0</td>\n",
              "      <td>0</td>\n",
              "      <td>0</td>\n",
              "      <td>1</td>\n",
              "      <td>1</td>\n",
              "      <td>0</td>\n",
              "      <td>0</td>\n",
              "      <td>1</td>\n",
              "      <td>0</td>\n",
              "      <td>0</td>\n",
              "      <td>0</td>\n",
              "    </tr>\n",
              "    <tr>\n",
              "      <th>3</th>\n",
              "      <td>چرا با وجود نصب بودن Airbag بر روی خودرو، در ه...</td>\n",
              "      <td>0</td>\n",
              "      <td>0</td>\n",
              "      <td>0</td>\n",
              "      <td>0</td>\n",
              "      <td>0</td>\n",
              "      <td>0</td>\n",
              "      <td>0</td>\n",
              "      <td>0</td>\n",
              "      <td>0</td>\n",
              "      <td>0</td>\n",
              "      <td>0</td>\n",
              "      <td>0</td>\n",
              "      <td>0</td>\n",
              "      <td>0</td>\n",
              "      <td>0</td>\n",
              "      <td>1</td>\n",
              "      <td>1</td>\n",
              "      <td>0</td>\n",
              "      <td>0</td>\n",
              "      <td>1</td>\n",
              "      <td>0</td>\n",
              "      <td>0</td>\n",
              "      <td>0</td>\n",
              "    </tr>\n",
              "    <tr>\n",
              "      <th>4</th>\n",
              "      <td>کلاس های مختلف خودرو چگونه شناسایی می شوند؟</td>\n",
              "      <td>0</td>\n",
              "      <td>0</td>\n",
              "      <td>0</td>\n",
              "      <td>0</td>\n",
              "      <td>0</td>\n",
              "      <td>0</td>\n",
              "      <td>0</td>\n",
              "      <td>1</td>\n",
              "      <td>0</td>\n",
              "      <td>0</td>\n",
              "      <td>0</td>\n",
              "      <td>0</td>\n",
              "      <td>0</td>\n",
              "      <td>0</td>\n",
              "      <td>0</td>\n",
              "      <td>1</td>\n",
              "      <td>1</td>\n",
              "      <td>0</td>\n",
              "      <td>0</td>\n",
              "      <td>0</td>\n",
              "      <td>0</td>\n",
              "      <td>0</td>\n",
              "      <td>0</td>\n",
              "    </tr>\n",
              "  </tbody>\n",
              "</table>\n",
              "</div>"
            ],
            "text/plain": [
              "                                            sentence  اقتصاد  ...  کودکان  گیاهان\n",
              "0              تفاوت ترمز عقب دیسکی و کاسه ای چیست؟        0  ...       0       0\n",
              "1     آیا ترمز ضدقفل ABS در همه چرخ ها عمل می کند؟         0  ...       0       0\n",
              "2  چرا باوجود نصب بودن ترمز ABS بر روی خودرو، ترم...       0  ...       0       0\n",
              "3  چرا با وجود نصب بودن Airbag بر روی خودرو، در ه...       0  ...       0       0\n",
              "4       کلاس های مختلف خودرو چگونه شناسایی می شوند؟        0  ...       0       0\n",
              "\n",
              "[5 rows x 24 columns]"
            ]
          },
          "metadata": {
            "tags": []
          },
          "execution_count": 5
        }
      ]
    },
    {
      "cell_type": "code",
      "metadata": {
        "id": "Qh6v23PghZpX"
      },
      "source": [
        "parsivar_tokenizer = Tokenizer()\n",
        "parsivar_normalizer = Normalizer(statistical_space_correction=False)"
      ],
      "execution_count": 8,
      "outputs": []
    },
    {
      "cell_type": "code",
      "metadata": {
        "id": "mSXhWrw2hdbl",
        "outputId": "c47aac14-85ad-41fe-a597-13e9bb06cce8",
        "colab": {
          "base_uri": "https://localhost:8080/"
        }
      },
      "source": [
        "parsivar_tokenizer.tokenize_words(parsivar_normalizer.normalize('سلام اخوی fff خوبی؟'))"
      ],
      "execution_count": 10,
      "outputs": [
        {
          "output_type": "execute_result",
          "data": {
            "text/plain": [
              "['سلام', 'اخوی', 'fff', 'خوبی', '؟']"
            ]
          },
          "metadata": {
            "tags": []
          },
          "execution_count": 10
        }
      ]
    },
    {
      "cell_type": "code",
      "metadata": {
        "id": "6htmmWURiRCF",
        "outputId": "08897619-06a5-41aa-db39-e7d71dc405f5",
        "colab": {
          "base_uri": "https://localhost:8080/"
        }
      },
      "source": [
        "np.mean([[1,2,3],[2,4,6],[3,0,6]], axis=0)"
      ],
      "execution_count": 13,
      "outputs": [
        {
          "output_type": "execute_result",
          "data": {
            "text/plain": [
              "array([2., 2., 5.])"
            ]
          },
          "metadata": {
            "tags": []
          },
          "execution_count": 13
        }
      ]
    },
    {
      "cell_type": "code",
      "metadata": {
        "id": "lm9vcUtZfWLy"
      },
      "source": [
        "def get_w2v_embedding(sent):\n",
        "    sent_tokens = parsivar_tokenizer.tokenize_words(parsivar_normalizer.normalize(sent))\n",
        "    tokens_embeddings = []\n",
        "    for token in sent_tokens:\n",
        "      if token in embeddings_dictionary.keys():\n",
        "        tokens_embeddings.append(embeddings_dictionary[token])\n",
        "    sent_embedding = np.mean(tokens_embeddings, axis=0)\n",
        "    return sent_embedding"
      ],
      "execution_count": 30,
      "outputs": []
    },
    {
      "cell_type": "code",
      "metadata": {
        "id": "B8a9mmJoi0_b",
        "outputId": "5a12af33-7c45-42a9-bc8b-8ce6839a755c",
        "colab": {
          "base_uri": "https://localhost:8080/"
        }
      },
      "source": [
        "get_w2v_embedding('سلام خوبی؟').shape"
      ],
      "execution_count": 34,
      "outputs": [
        {
          "output_type": "execute_result",
          "data": {
            "text/plain": [
              "(100,)"
            ]
          },
          "metadata": {
            "tags": []
          },
          "execution_count": 34
        }
      ]
    },
    {
      "cell_type": "code",
      "metadata": {
        "id": "pWb6CcbVfci6",
        "outputId": "53685eed-c7d8-4407-baf7-a44fe99ea69e",
        "colab": {
          "base_uri": "https://localhost:8080/",
          "height": 496
        }
      },
      "source": [
        "df_topics_w2v['sentence'] = df_topics_w2v['sentence'].apply(lambda sent: get_w2v_embedding(sent))\n",
        "df_topics_w2v.head()"
      ],
      "execution_count": 32,
      "outputs": [
        {
          "output_type": "execute_result",
          "data": {
            "text/html": [
              "<div>\n",
              "<style scoped>\n",
              "    .dataframe tbody tr th:only-of-type {\n",
              "        vertical-align: middle;\n",
              "    }\n",
              "\n",
              "    .dataframe tbody tr th {\n",
              "        vertical-align: top;\n",
              "    }\n",
              "\n",
              "    .dataframe thead th {\n",
              "        text-align: right;\n",
              "    }\n",
              "</style>\n",
              "<table border=\"1\" class=\"dataframe\">\n",
              "  <thead>\n",
              "    <tr style=\"text-align: right;\">\n",
              "      <th></th>\n",
              "      <th>sentence</th>\n",
              "      <th>اقتصاد</th>\n",
              "      <th>بازی</th>\n",
              "      <th>برنامه‌نویسی</th>\n",
              "      <th>تحصیل</th>\n",
              "      <th>تغذیه</th>\n",
              "      <th>حقوق/قانون</th>\n",
              "      <th>حیوانات</th>\n",
              "      <th>خرید</th>\n",
              "      <th>روابط</th>\n",
              "      <th>روانشناسی</th>\n",
              "      <th>زبان</th>\n",
              "      <th>زیبایی</th>\n",
              "      <th>سرگرمی</th>\n",
              "      <th>سفر</th>\n",
              "      <th>سلامت</th>\n",
              "      <th>فنی</th>\n",
              "      <th>ماشین</th>\n",
              "      <th>مذهبی</th>\n",
              "      <th>ورزش</th>\n",
              "      <th>کار</th>\n",
              "      <th>کامپیوتر/موبایل</th>\n",
              "      <th>کودکان</th>\n",
              "      <th>گیاهان</th>\n",
              "    </tr>\n",
              "  </thead>\n",
              "  <tbody>\n",
              "    <tr>\n",
              "      <th>0</th>\n",
              "      <td>[0.15668367, -0.28389242, 0.9089176, 0.5482701...</td>\n",
              "      <td>0</td>\n",
              "      <td>0</td>\n",
              "      <td>0</td>\n",
              "      <td>0</td>\n",
              "      <td>0</td>\n",
              "      <td>0</td>\n",
              "      <td>0</td>\n",
              "      <td>1</td>\n",
              "      <td>0</td>\n",
              "      <td>0</td>\n",
              "      <td>0</td>\n",
              "      <td>0</td>\n",
              "      <td>0</td>\n",
              "      <td>0</td>\n",
              "      <td>0</td>\n",
              "      <td>1</td>\n",
              "      <td>1</td>\n",
              "      <td>0</td>\n",
              "      <td>0</td>\n",
              "      <td>0</td>\n",
              "      <td>0</td>\n",
              "      <td>0</td>\n",
              "      <td>0</td>\n",
              "    </tr>\n",
              "    <tr>\n",
              "      <th>1</th>\n",
              "      <td>[-0.1255625, -1.6543719, -0.7273559, 0.4527906...</td>\n",
              "      <td>0</td>\n",
              "      <td>0</td>\n",
              "      <td>0</td>\n",
              "      <td>0</td>\n",
              "      <td>0</td>\n",
              "      <td>0</td>\n",
              "      <td>0</td>\n",
              "      <td>0</td>\n",
              "      <td>0</td>\n",
              "      <td>0</td>\n",
              "      <td>0</td>\n",
              "      <td>0</td>\n",
              "      <td>0</td>\n",
              "      <td>0</td>\n",
              "      <td>0</td>\n",
              "      <td>1</td>\n",
              "      <td>1</td>\n",
              "      <td>0</td>\n",
              "      <td>0</td>\n",
              "      <td>1</td>\n",
              "      <td>0</td>\n",
              "      <td>0</td>\n",
              "      <td>0</td>\n",
              "    </tr>\n",
              "    <tr>\n",
              "      <th>2</th>\n",
              "      <td>[-0.06706425, -1.0731599, 1.2626698, 0.399987,...</td>\n",
              "      <td>0</td>\n",
              "      <td>0</td>\n",
              "      <td>0</td>\n",
              "      <td>0</td>\n",
              "      <td>0</td>\n",
              "      <td>0</td>\n",
              "      <td>0</td>\n",
              "      <td>0</td>\n",
              "      <td>0</td>\n",
              "      <td>0</td>\n",
              "      <td>0</td>\n",
              "      <td>0</td>\n",
              "      <td>0</td>\n",
              "      <td>0</td>\n",
              "      <td>0</td>\n",
              "      <td>1</td>\n",
              "      <td>1</td>\n",
              "      <td>0</td>\n",
              "      <td>0</td>\n",
              "      <td>1</td>\n",
              "      <td>0</td>\n",
              "      <td>0</td>\n",
              "      <td>0</td>\n",
              "    </tr>\n",
              "    <tr>\n",
              "      <th>3</th>\n",
              "      <td>[0.3817483, -1.376912, 0.92743206, 1.1186554, ...</td>\n",
              "      <td>0</td>\n",
              "      <td>0</td>\n",
              "      <td>0</td>\n",
              "      <td>0</td>\n",
              "      <td>0</td>\n",
              "      <td>0</td>\n",
              "      <td>0</td>\n",
              "      <td>0</td>\n",
              "      <td>0</td>\n",
              "      <td>0</td>\n",
              "      <td>0</td>\n",
              "      <td>0</td>\n",
              "      <td>0</td>\n",
              "      <td>0</td>\n",
              "      <td>0</td>\n",
              "      <td>1</td>\n",
              "      <td>1</td>\n",
              "      <td>0</td>\n",
              "      <td>0</td>\n",
              "      <td>1</td>\n",
              "      <td>0</td>\n",
              "      <td>0</td>\n",
              "      <td>0</td>\n",
              "    </tr>\n",
              "    <tr>\n",
              "      <th>4</th>\n",
              "      <td>[0.9607437, -0.767353, -2.3159149, -0.20033674...</td>\n",
              "      <td>0</td>\n",
              "      <td>0</td>\n",
              "      <td>0</td>\n",
              "      <td>0</td>\n",
              "      <td>0</td>\n",
              "      <td>0</td>\n",
              "      <td>0</td>\n",
              "      <td>1</td>\n",
              "      <td>0</td>\n",
              "      <td>0</td>\n",
              "      <td>0</td>\n",
              "      <td>0</td>\n",
              "      <td>0</td>\n",
              "      <td>0</td>\n",
              "      <td>0</td>\n",
              "      <td>1</td>\n",
              "      <td>1</td>\n",
              "      <td>0</td>\n",
              "      <td>0</td>\n",
              "      <td>0</td>\n",
              "      <td>0</td>\n",
              "      <td>0</td>\n",
              "      <td>0</td>\n",
              "    </tr>\n",
              "  </tbody>\n",
              "</table>\n",
              "</div>"
            ],
            "text/plain": [
              "                                            sentence  اقتصاد  ...  کودکان  گیاهان\n",
              "0  [0.15668367, -0.28389242, 0.9089176, 0.5482701...       0  ...       0       0\n",
              "1  [-0.1255625, -1.6543719, -0.7273559, 0.4527906...       0  ...       0       0\n",
              "2  [-0.06706425, -1.0731599, 1.2626698, 0.399987,...       0  ...       0       0\n",
              "3  [0.3817483, -1.376912, 0.92743206, 1.1186554, ...       0  ...       0       0\n",
              "4  [0.9607437, -0.767353, -2.3159149, -0.20033674...       0  ...       0       0\n",
              "\n",
              "[5 rows x 24 columns]"
            ]
          },
          "metadata": {
            "tags": []
          },
          "execution_count": 32
        }
      ]
    },
    {
      "cell_type": "code",
      "metadata": {
        "id": "yOP9-BvucCTj"
      },
      "source": [
        "# X = df_topics_w2v[df_topics_w2v.columns[0]].values\n",
        "# Y = df_topics_w2v[df_topics_w2v.columns[1:]].values"
      ],
      "execution_count": null,
      "outputs": []
    },
    {
      "cell_type": "code",
      "metadata": {
        "id": "BD0pPcppf_q5",
        "outputId": "3a89d53c-06a3-4932-90f9-b20e81d7eef2",
        "colab": {
          "base_uri": "https://localhost:8080/"
        }
      },
      "source": [
        "X = np.array(df_topics_w2v[df_topics_w2v.columns[0]])\n",
        "X = np.vstack(X)\n",
        "\n",
        "Y = df_topics_w2v[df_topics_w2v.columns[1:]].values\n",
        "n_class = Y.shape[1]\n",
        "\n",
        "X.shape, Y.shape"
      ],
      "execution_count": 39,
      "outputs": [
        {
          "output_type": "execute_result",
          "data": {
            "text/plain": [
              "((2708, 100), (2708, 23))"
            ]
          },
          "metadata": {
            "tags": []
          },
          "execution_count": 39
        }
      ]
    },
    {
      "cell_type": "code",
      "metadata": {
        "id": "VQO0hC0mcEmM"
      },
      "source": [
        "X_train, X_test, y_train, y_test = train_test_split(X, Y, test_size=0.10)"
      ],
      "execution_count": 35,
      "outputs": []
    },
    {
      "cell_type": "code",
      "metadata": {
        "id": "o_mR-CMzcKuK",
        "outputId": "c0ad87f0-aa7f-431b-f976-f6c0115106ab",
        "colab": {
          "base_uri": "https://localhost:8080/"
        }
      },
      "source": [
        "len(X_train),len(X_test),len(y_train),len(y_test)"
      ],
      "execution_count": 37,
      "outputs": [
        {
          "output_type": "execute_result",
          "data": {
            "text/plain": [
              "(2437, 271, 2437, 271)"
            ]
          },
          "metadata": {
            "tags": []
          },
          "execution_count": 37
        }
      ]
    },
    {
      "cell_type": "code",
      "metadata": {
        "id": "L1b5Sp9ScYmq",
        "outputId": "c8aa1677-5216-4155-8fbb-9d8279bc0924",
        "colab": {
          "base_uri": "https://localhost:8080/"
        }
      },
      "source": [
        "model = tf.keras.Sequential([\n",
        "    tf.keras.layers.Input(shape=X[0].shape, name='input_layer'),\n",
        "    # tf.keras.layers.Dense(32, activation='relu', name='Dense_Layer0'),\n",
        "    # tf.keras.layers.Dropout(rate=0.2, name=\"Dropout0\"),\n",
        "    tf.keras.layers.Dense(64, activation='relu', name='Dense_Layer1'),\n",
        "                          # activity_regularizer=tf.keras.regularizers.l2()),\n",
        "    \n",
        "    # tf.keras.layers.Dropout(rate=0.2, name=\"Dropout1\"),\n",
        "    # tf.keras.layers.Dense(32, activation='relu', name='Dense_Layer2'),\n",
        "                          # activity_regularizer=tf.keras.regularizers.l2()),\n",
        "    # tf.keras.layers.Dropout(rate=0.2, name=\"Dropout2\"),\n",
        "    tf.keras.layers.Dense(n_class, activation='sigmoid', name='Dense_Layer3'),\n",
        "\n",
        "  ], name='Word2Vec_MODEL')\n",
        "\n",
        "model.compile(loss='binary_crossentropy', optimizer='adam', \n",
        "              metrics=['acc',\n",
        "                       tfa.metrics.f_scores.F1Score(n_class,'weighted', threshold=0.5, name='f1'),\n",
        "                       tfa.metrics.f_scores.F1Score(n_class,'macro',threshold=0.5, name='macro'),\n",
        "                       tfa.metrics.f_scores.F1Score(n_class,'micro',threshold=0.5, name='micro'),\n",
        "                       tfa.metrics.HammingLoss(mode='multilabel',threshold=0.5, name='hamloss')])\n",
        "print(model.summary())"
      ],
      "execution_count": 44,
      "outputs": [
        {
          "output_type": "stream",
          "text": [
            "Model: \"Word2Vec_MODEL\"\n",
            "_________________________________________________________________\n",
            "Layer (type)                 Output Shape              Param #   \n",
            "=================================================================\n",
            "Dense_Layer1 (Dense)         (None, 64)                6464      \n",
            "_________________________________________________________________\n",
            "Dense_Layer3 (Dense)         (None, 23)                1495      \n",
            "=================================================================\n",
            "Total params: 7,959\n",
            "Trainable params: 7,959\n",
            "Non-trainable params: 0\n",
            "_________________________________________________________________\n",
            "None\n"
          ],
          "name": "stdout"
        }
      ]
    },
    {
      "cell_type": "code",
      "metadata": {
        "id": "PP8Ah_NjcQFG",
        "outputId": "6169d0c4-e61c-4d9f-8f1c-3242258a21ef",
        "colab": {
          "base_uri": "https://localhost:8080/"
        }
      },
      "source": [
        "history = model.fit(X_train, y_train, batch_size=8, epochs=20, verbose=1, validation_split=0.2)"
      ],
      "execution_count": 45,
      "outputs": [
        {
          "output_type": "stream",
          "text": [
            "Epoch 1/20\n",
            "244/244 [==============================] - 1s 5ms/step - loss: 0.2829 - acc: 0.2175 - f1: 0.2159 - macro: 0.1166 - micro: 0.2239 - hamloss: 0.1080 - val_loss: 0.2093 - val_acc: 0.3238 - val_f1: 0.3249 - val_macro: 0.1879 - val_micro: 0.3812 - val_hamloss: 0.0740\n",
            "Epoch 2/20\n",
            "244/244 [==============================] - 1s 4ms/step - loss: 0.1770 - acc: 0.3602 - f1: 0.4623 - macro: 0.2777 - micro: 0.5075 - hamloss: 0.0633 - val_loss: 0.1696 - val_acc: 0.4098 - val_f1: 0.5219 - val_macro: 0.3444 - val_micro: 0.5623 - val_hamloss: 0.0600\n",
            "Epoch 3/20\n",
            "244/244 [==============================] - 1s 4ms/step - loss: 0.1499 - acc: 0.4115 - f1: 0.5754 - macro: 0.3941 - micro: 0.6062 - hamloss: 0.0550 - val_loss: 0.1552 - val_acc: 0.4426 - val_f1: 0.5571 - val_macro: 0.3843 - val_micro: 0.5992 - val_hamloss: 0.0561\n",
            "Epoch 4/20\n",
            "244/244 [==============================] - 1s 4ms/step - loss: 0.1358 - acc: 0.4295 - f1: 0.6286 - macro: 0.4628 - micro: 0.6539 - hamloss: 0.0501 - val_loss: 0.1468 - val_acc: 0.4549 - val_f1: 0.5969 - val_macro: 0.4228 - val_micro: 0.6360 - val_hamloss: 0.0529\n",
            "Epoch 5/20\n",
            "244/244 [==============================] - 1s 4ms/step - loss: 0.1255 - acc: 0.4577 - f1: 0.6651 - macro: 0.5164 - micro: 0.6846 - hamloss: 0.0465 - val_loss: 0.1419 - val_acc: 0.4713 - val_f1: 0.6283 - val_macro: 0.4703 - val_micro: 0.6553 - val_hamloss: 0.0504\n",
            "Epoch 6/20\n",
            "244/244 [==============================] - 1s 4ms/step - loss: 0.1180 - acc: 0.4643 - f1: 0.6920 - macro: 0.5609 - micro: 0.7071 - hamloss: 0.0441 - val_loss: 0.1405 - val_acc: 0.4631 - val_f1: 0.6456 - val_macro: 0.4855 - val_micro: 0.6707 - val_hamloss: 0.0488\n",
            "Epoch 7/20\n",
            "244/244 [==============================] - 1s 4ms/step - loss: 0.1124 - acc: 0.4710 - f1: 0.7176 - macro: 0.6070 - micro: 0.7294 - hamloss: 0.0410 - val_loss: 0.1385 - val_acc: 0.4857 - val_f1: 0.6480 - val_macro: 0.4910 - val_micro: 0.6730 - val_hamloss: 0.0489\n",
            "Epoch 8/20\n",
            "244/244 [==============================] - 1s 4ms/step - loss: 0.1075 - acc: 0.4720 - f1: 0.7307 - macro: 0.6229 - micro: 0.7419 - hamloss: 0.0396 - val_loss: 0.1354 - val_acc: 0.4570 - val_f1: 0.6634 - val_macro: 0.5229 - val_micro: 0.6842 - val_hamloss: 0.0471\n",
            "Epoch 9/20\n",
            "244/244 [==============================] - 1s 4ms/step - loss: 0.1034 - acc: 0.4838 - f1: 0.7465 - macro: 0.6555 - micro: 0.7550 - hamloss: 0.0377 - val_loss: 0.1357 - val_acc: 0.4713 - val_f1: 0.6624 - val_macro: 0.5233 - val_micro: 0.6860 - val_hamloss: 0.0463\n",
            "Epoch 10/20\n",
            "244/244 [==============================] - 1s 4ms/step - loss: 0.0998 - acc: 0.4931 - f1: 0.7531 - macro: 0.6723 - micro: 0.7612 - hamloss: 0.0371 - val_loss: 0.1344 - val_acc: 0.4734 - val_f1: 0.6854 - val_macro: 0.5534 - val_micro: 0.7016 - val_hamloss: 0.0457\n",
            "Epoch 11/20\n",
            "244/244 [==============================] - 1s 4ms/step - loss: 0.0962 - acc: 0.4992 - f1: 0.7656 - macro: 0.6923 - micro: 0.7723 - hamloss: 0.0355 - val_loss: 0.1348 - val_acc: 0.4836 - val_f1: 0.6717 - val_macro: 0.5327 - val_micro: 0.6930 - val_hamloss: 0.0456\n",
            "Epoch 12/20\n",
            "244/244 [==============================] - 1s 5ms/step - loss: 0.0934 - acc: 0.5003 - f1: 0.7772 - macro: 0.7104 - micro: 0.7831 - hamloss: 0.0340 - val_loss: 0.1328 - val_acc: 0.4590 - val_f1: 0.6787 - val_macro: 0.5405 - val_micro: 0.6999 - val_hamloss: 0.0451\n",
            "Epoch 13/20\n",
            "244/244 [==============================] - 1s 4ms/step - loss: 0.0904 - acc: 0.5028 - f1: 0.7858 - macro: 0.7228 - micro: 0.7911 - hamloss: 0.0329 - val_loss: 0.1333 - val_acc: 0.4590 - val_f1: 0.6927 - val_macro: 0.5614 - val_micro: 0.7090 - val_hamloss: 0.0449\n",
            "Epoch 14/20\n",
            "244/244 [==============================] - 1s 4ms/step - loss: 0.0881 - acc: 0.5080 - f1: 0.7889 - macro: 0.7279 - micro: 0.7938 - hamloss: 0.0327 - val_loss: 0.1334 - val_acc: 0.4816 - val_f1: 0.6891 - val_macro: 0.5543 - val_micro: 0.7060 - val_hamloss: 0.0453\n",
            "Epoch 15/20\n",
            "244/244 [==============================] - 1s 5ms/step - loss: 0.0855 - acc: 0.5028 - f1: 0.7912 - macro: 0.7367 - micro: 0.7955 - hamloss: 0.0324 - val_loss: 0.1340 - val_acc: 0.4734 - val_f1: 0.6896 - val_macro: 0.5769 - val_micro: 0.7041 - val_hamloss: 0.0455\n",
            "Epoch 16/20\n",
            "244/244 [==============================] - 1s 4ms/step - loss: 0.0834 - acc: 0.5069 - f1: 0.8026 - macro: 0.7575 - micro: 0.8064 - hamloss: 0.0309 - val_loss: 0.1335 - val_acc: 0.4467 - val_f1: 0.6935 - val_macro: 0.5758 - val_micro: 0.7096 - val_hamloss: 0.0450\n",
            "Epoch 17/20\n",
            "244/244 [==============================] - 1s 4ms/step - loss: 0.0812 - acc: 0.5121 - f1: 0.8093 - macro: 0.7666 - micro: 0.8131 - hamloss: 0.0299 - val_loss: 0.1345 - val_acc: 0.4283 - val_f1: 0.6899 - val_macro: 0.5841 - val_micro: 0.7055 - val_hamloss: 0.0454\n",
            "Epoch 18/20\n",
            "244/244 [==============================] - 1s 4ms/step - loss: 0.0798 - acc: 0.5156 - f1: 0.8120 - macro: 0.7718 - micro: 0.8152 - hamloss: 0.0296 - val_loss: 0.1349 - val_acc: 0.4590 - val_f1: 0.7043 - val_macro: 0.5922 - val_micro: 0.7181 - val_hamloss: 0.0446\n",
            "Epoch 19/20\n",
            "244/244 [==============================] - 1s 4ms/step - loss: 0.0775 - acc: 0.5244 - f1: 0.8177 - macro: 0.7835 - micro: 0.8207 - hamloss: 0.0288 - val_loss: 0.1350 - val_acc: 0.4549 - val_f1: 0.7024 - val_macro: 0.6003 - val_micro: 0.7127 - val_hamloss: 0.0452\n",
            "Epoch 20/20\n",
            "244/244 [==============================] - 1s 4ms/step - loss: 0.0760 - acc: 0.5208 - f1: 0.8220 - macro: 0.7881 - micro: 0.8246 - hamloss: 0.0283 - val_loss: 0.1391 - val_acc: 0.4467 - val_f1: 0.7021 - val_macro: 0.6063 - val_micro: 0.7127 - val_hamloss: 0.0452\n"
          ],
          "name": "stdout"
        }
      ]
    },
    {
      "cell_type": "code",
      "metadata": {
        "id": "_n7CrD0JcRrt",
        "outputId": "520eb67d-7739-40f7-9ca6-ecba784f57d7",
        "colab": {
          "base_uri": "https://localhost:8080/"
        }
      },
      "source": [
        "score = model.evaluate(X_test, y_test, verbose=1)"
      ],
      "execution_count": 46,
      "outputs": [
        {
          "output_type": "stream",
          "text": [
            "9/9 [==============================] - 0s 3ms/step - loss: 0.1252 - acc: 0.4317 - f1: 0.7062 - macro: 0.5913 - micro: 0.7184 - hamloss: 0.0443\n"
          ],
          "name": "stdout"
        }
      ]
    },
    {
      "cell_type": "code",
      "metadata": {
        "id": "Ag_x2StNkrud",
        "outputId": "88dbaf09-b71f-4de6-dc7c-ae47d186036b",
        "colab": {
          "base_uri": "https://localhost:8080/",
          "height": 573
        }
      },
      "source": [
        "import matplotlib.pyplot as plt\n",
        "\n",
        "plt.plot(history.history['acc'])\n",
        "plt.plot(history.history['val_acc'])\n",
        "\n",
        "plt.title('model accuracy')\n",
        "plt.ylabel('accuracy')\n",
        "plt.xlabel('epoch')\n",
        "plt.legend(['train','test'], loc='upper left')\n",
        "plt.show()\n",
        "\n",
        "plt.plot(history.history['loss'])\n",
        "plt.plot(history.history['val_loss'])\n",
        "\n",
        "plt.title('model loss')\n",
        "plt.ylabel('loss')\n",
        "plt.xlabel('epoch')\n",
        "plt.legend(['train','test'], loc='upper left')\n",
        "plt.show()"
      ],
      "execution_count": 47,
      "outputs": [
        {
          "output_type": "display_data",
          "data": {
            "image/png": "[encoded data removed]",
            "text/plain": [
              "<Figure size 432x288 with 1 Axes>"
            ]
          },
          "metadata": {
            "tags": [],
            "needs_background": "light"
          }
        },
        {
          "output_type": "display_data",
          "data": {
            "image/png": "[encoded data removed]",
            "text/plain": [
              "<Figure size 432x288 with 1 Axes>"
            ]
          },
          "metadata": {
            "tags": [],
            "needs_background": "light"
          }
        }
      ]
    }
  ]
}