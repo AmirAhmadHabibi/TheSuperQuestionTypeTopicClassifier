{
  "nbformat": 4,
  "nbformat_minor": 0,
  "metadata": {
    "colab": {
      "name": "tempo.ipynb",
      "provenance": [],
      "include_colab_link": true
    },
    "kernelspec": {
      "name": "python3",
      "display_name": "Python 3"
    },
    "accelerator": "GPU",
    "widgets": {
      "application/vnd.jupyter.widget-state+json": {
        "1c7b9133cbed478e978721bf1176f26f": {
          "model_module": "@jupyter-widgets/controls",
          "model_name": "HBoxModel",
          "state": {
            "_view_name": "HBoxView",
            "_dom_classes": [],
            "_model_name": "HBoxModel",
            "_view_module": "@jupyter-widgets/controls",
            "_model_module_version": "1.5.0",
            "_view_count": null,
            "_view_module_version": "1.5.0",
            "box_style": "",
            "layout": "IPY_MODEL_73d76c89f8d94a9aa6631a410135f29d",
            "_model_module": "@jupyter-widgets/controls",
            "children": [
              "IPY_MODEL_c4836deaf80745a6a0d15853a4a07a0e",
              "IPY_MODEL_67e45c62b5624c9093f686e21a700f7d"
            ]
          }
        },
        "73d76c89f8d94a9aa6631a410135f29d": {
          "model_module": "@jupyter-widgets/base",
          "model_name": "LayoutModel",
          "state": {
            "_view_name": "LayoutView",
            "grid_template_rows": null,
            "right": null,
            "justify_content": null,
            "_view_module": "@jupyter-widgets/base",
            "overflow": null,
            "_model_module_version": "1.2.0",
            "_view_count": null,
            "flex_flow": null,
            "width": null,
            "min_width": null,
            "border": null,
            "align_items": null,
            "bottom": null,
            "_model_module": "@jupyter-widgets/base",
            "top": null,
            "grid_column": null,
            "overflow_y": null,
            "overflow_x": null,
            "grid_auto_flow": null,
            "grid_area": null,
            "grid_template_columns": null,
            "flex": null,
            "_model_name": "LayoutModel",
            "justify_items": null,
            "grid_row": null,
            "max_height": null,
            "align_content": null,
            "visibility": null,
            "align_self": null,
            "height": null,
            "min_height": null,
            "padding": null,
            "grid_auto_rows": null,
            "grid_gap": null,
            "max_width": null,
            "order": null,
            "_view_module_version": "1.2.0",
            "grid_template_areas": null,
            "object_position": null,
            "object_fit": null,
            "grid_auto_columns": null,
            "margin": null,
            "display": null,
            "left": null
          }
        },
        "c4836deaf80745a6a0d15853a4a07a0e": {
          "model_module": "@jupyter-widgets/controls",
          "model_name": "FloatProgressModel",
          "state": {
            "_view_name": "ProgressView",
            "style": "IPY_MODEL_356327e985644601834ffaac6ad09d4e",
            "_dom_classes": [],
            "description": "Downloading: 100%",
            "_model_name": "FloatProgressModel",
            "bar_style": "success",
            "max": 684,
            "_view_module": "@jupyter-widgets/controls",
            "_model_module_version": "1.5.0",
            "value": 684,
            "_view_count": null,
            "_view_module_version": "1.5.0",
            "orientation": "horizontal",
            "min": 0,
            "description_tooltip": null,
            "_model_module": "@jupyter-widgets/controls",
            "layout": "IPY_MODEL_11a3548e4e114e228d7c3bf71cba2cc6"
          }
        },
        "67e45c62b5624c9093f686e21a700f7d": {
          "model_module": "@jupyter-widgets/controls",
          "model_name": "HTMLModel",
          "state": {
            "_view_name": "HTMLView",
            "style": "IPY_MODEL_6d3238f1ef30476d9a4f9318772ccf98",
            "_dom_classes": [],
            "description": "",
            "_model_name": "HTMLModel",
            "placeholder": "​",
            "_view_module": "@jupyter-widgets/controls",
            "_model_module_version": "1.5.0",
            "value": " 684/684 [00:00&lt;00:00, 707B/s]",
            "_view_count": null,
            "_view_module_version": "1.5.0",
            "description_tooltip": null,
            "_model_module": "@jupyter-widgets/controls",
            "layout": "IPY_MODEL_9bd658afd89f4e2ca48eb4b75d7cabbb"
          }
        },
        "356327e985644601834ffaac6ad09d4e": {
          "model_module": "@jupyter-widgets/controls",
          "model_name": "ProgressStyleModel",
          "state": {
            "_view_name": "StyleView",
            "_model_name": "ProgressStyleModel",
            "description_width": "initial",
            "_view_module": "@jupyter-widgets/base",
            "_model_module_version": "1.5.0",
            "_view_count": null,
            "_view_module_version": "1.2.0",
            "bar_color": null,
            "_model_module": "@jupyter-widgets/controls"
          }
        },
        "11a3548e4e114e228d7c3bf71cba2cc6": {
          "model_module": "@jupyter-widgets/base",
          "model_name": "LayoutModel",
          "state": {
            "_view_name": "LayoutView",
            "grid_template_rows": null,
            "right": null,
            "justify_content": null,
            "_view_module": "@jupyter-widgets/base",
            "overflow": null,
            "_model_module_version": "1.2.0",
            "_view_count": null,
            "flex_flow": null,
            "width": null,
            "min_width": null,
            "border": null,
            "align_items": null,
            "bottom": null,
            "_model_module": "@jupyter-widgets/base",
            "top": null,
            "grid_column": null,
            "overflow_y": null,
            "overflow_x": null,
            "grid_auto_flow": null,
            "grid_area": null,
            "grid_template_columns": null,
            "flex": null,
            "_model_name": "LayoutModel",
            "justify_items": null,
            "grid_row": null,
            "max_height": null,
            "align_content": null,
            "visibility": null,
            "align_self": null,
            "height": null,
            "min_height": null,
            "padding": null,
            "grid_auto_rows": null,
            "grid_gap": null,
            "max_width": null,
            "order": null,
            "_view_module_version": "1.2.0",
            "grid_template_areas": null,
            "object_position": null,
            "object_fit": null,
            "grid_auto_columns": null,
            "margin": null,
            "display": null,
            "left": null
          }
        },
        "6d3238f1ef30476d9a4f9318772ccf98": {
          "model_module": "@jupyter-widgets/controls",
          "model_name": "DescriptionStyleModel",
          "state": {
            "_view_name": "StyleView",
            "_model_name": "DescriptionStyleModel",
            "description_width": "",
            "_view_module": "@jupyter-widgets/base",
            "_model_module_version": "1.5.0",
            "_view_count": null,
            "_view_module_version": "1.2.0",
            "_model_module": "@jupyter-widgets/controls"
          }
        },
        "9bd658afd89f4e2ca48eb4b75d7cabbb": {
          "model_module": "@jupyter-widgets/base",
          "model_name": "LayoutModel",
          "state": {
            "_view_name": "LayoutView",
            "grid_template_rows": null,
            "right": null,
            "justify_content": null,
            "_view_module": "@jupyter-widgets/base",
            "overflow": null,
            "_model_module_version": "1.2.0",
            "_view_count": null,
            "flex_flow": null,
            "width": null,
            "min_width": null,
            "border": null,
            "align_items": null,
            "bottom": null,
            "_model_module": "@jupyter-widgets/base",
            "top": null,
            "grid_column": null,
            "overflow_y": null,
            "overflow_x": null,
            "grid_auto_flow": null,
            "grid_area": null,
            "grid_template_columns": null,
            "flex": null,
            "_model_name": "LayoutModel",
            "justify_items": null,
            "grid_row": null,
            "max_height": null,
            "align_content": null,
            "visibility": null,
            "align_self": null,
            "height": null,
            "min_height": null,
            "padding": null,
            "grid_auto_rows": null,
            "grid_gap": null,
            "max_width": null,
            "order": null,
            "_view_module_version": "1.2.0",
            "grid_template_areas": null,
            "object_position": null,
            "object_fit": null,
            "grid_auto_columns": null,
            "margin": null,
            "display": null,
            "left": null
          }
        },
        "66673709dcb348028a1b136e7d8b2a76": {
          "model_module": "@jupyter-widgets/controls",
          "model_name": "HBoxModel",
          "state": {
            "_view_name": "HBoxView",
            "_dom_classes": [],
            "_model_name": "HBoxModel",
            "_view_module": "@jupyter-widgets/controls",
            "_model_module_version": "1.5.0",
            "_view_count": null,
            "_view_module_version": "1.5.0",
            "box_style": "",
            "layout": "IPY_MODEL_14a1fea9a6a049eabc76c75d4d5131f7",
            "_model_module": "@jupyter-widgets/controls",
            "children": [
              "IPY_MODEL_c1284fd3995441ac8c61df55bc527ca4",
              "IPY_MODEL_eb6850771ecd432da273c4c0c1501bd5"
            ]
          }
        },
        "14a1fea9a6a049eabc76c75d4d5131f7": {
          "model_module": "@jupyter-widgets/base",
          "model_name": "LayoutModel",
          "state": {
            "_view_name": "LayoutView",
            "grid_template_rows": null,
            "right": null,
            "justify_content": null,
            "_view_module": "@jupyter-widgets/base",
            "overflow": null,
            "_model_module_version": "1.2.0",
            "_view_count": null,
            "flex_flow": null,
            "width": null,
            "min_width": null,
            "border": null,
            "align_items": null,
            "bottom": null,
            "_model_module": "@jupyter-widgets/base",
            "top": null,
            "grid_column": null,
            "overflow_y": null,
            "overflow_x": null,
            "grid_auto_flow": null,
            "grid_area": null,
            "grid_template_columns": null,
            "flex": null,
            "_model_name": "LayoutModel",
            "justify_items": null,
            "grid_row": null,
            "max_height": null,
            "align_content": null,
            "visibility": null,
            "align_self": null,
            "height": null,
            "min_height": null,
            "padding": null,
            "grid_auto_rows": null,
            "grid_gap": null,
            "max_width": null,
            "order": null,
            "_view_module_version": "1.2.0",
            "grid_template_areas": null,
            "object_position": null,
            "object_fit": null,
            "grid_auto_columns": null,
            "margin": null,
            "display": null,
            "left": null
          }
        },
        "c1284fd3995441ac8c61df55bc527ca4": {
          "model_module": "@jupyter-widgets/controls",
          "model_name": "FloatProgressModel",
          "state": {
            "_view_name": "ProgressView",
            "style": "IPY_MODEL_84aaae17ab5e4da5a097945d718bf5ae",
            "_dom_classes": [],
            "description": "Downloading: 100%",
            "_model_name": "FloatProgressModel",
            "bar_style": "success",
            "max": 1882978,
            "_view_module": "@jupyter-widgets/controls",
            "_model_module_version": "1.5.0",
            "value": 1882978,
            "_view_count": null,
            "_view_module_version": "1.5.0",
            "orientation": "horizontal",
            "min": 0,
            "description_tooltip": null,
            "_model_module": "@jupyter-widgets/controls",
            "layout": "IPY_MODEL_eaf8dd7addfb4112a942628abcb26c54"
          }
        },
        "eb6850771ecd432da273c4c0c1501bd5": {
          "model_module": "@jupyter-widgets/controls",
          "model_name": "HTMLModel",
          "state": {
            "_view_name": "HTMLView",
            "style": "IPY_MODEL_cd2292e086d547699fe6e348ee78c688",
            "_dom_classes": [],
            "description": "",
            "_model_name": "HTMLModel",
            "placeholder": "​",
            "_view_module": "@jupyter-widgets/controls",
            "_model_module_version": "1.5.0",
            "value": " 1.88M/1.88M [00:12&lt;00:00, 145kB/s]",
            "_view_count": null,
            "_view_module_version": "1.5.0",
            "description_tooltip": null,
            "_model_module": "@jupyter-widgets/controls",
            "layout": "IPY_MODEL_20da699886984e61a3b82af3679cb0ed"
          }
        },
        "84aaae17ab5e4da5a097945d718bf5ae": {
          "model_module": "@jupyter-widgets/controls",
          "model_name": "ProgressStyleModel",
          "state": {
            "_view_name": "StyleView",
            "_model_name": "ProgressStyleModel",
            "description_width": "initial",
            "_view_module": "@jupyter-widgets/base",
            "_model_module_version": "1.5.0",
            "_view_count": null,
            "_view_module_version": "1.2.0",
            "bar_color": null,
            "_model_module": "@jupyter-widgets/controls"
          }
        },
        "eaf8dd7addfb4112a942628abcb26c54": {
          "model_module": "@jupyter-widgets/base",
          "model_name": "LayoutModel",
          "state": {
            "_view_name": "LayoutView",
            "grid_template_rows": null,
            "right": null,
            "justify_content": null,
            "_view_module": "@jupyter-widgets/base",
            "overflow": null,
            "_model_module_version": "1.2.0",
            "_view_count": null,
            "flex_flow": null,
            "width": null,
            "min_width": null,
            "border": null,
            "align_items": null,
            "bottom": null,
            "_model_module": "@jupyter-widgets/base",
            "top": null,
            "grid_column": null,
            "overflow_y": null,
            "overflow_x": null,
            "grid_auto_flow": null,
            "grid_area": null,
            "grid_template_columns": null,
            "flex": null,
            "_model_name": "LayoutModel",
            "justify_items": null,
            "grid_row": null,
            "max_height": null,
            "align_content": null,
            "visibility": null,
            "align_self": null,
            "height": null,
            "min_height": null,
            "padding": null,
            "grid_auto_rows": null,
            "grid_gap": null,
            "max_width": null,
            "order": null,
            "_view_module_version": "1.2.0",
            "grid_template_areas": null,
            "object_position": null,
            "object_fit": null,
            "grid_auto_columns": null,
            "margin": null,
            "display": null,
            "left": null
          }
        },
        "cd2292e086d547699fe6e348ee78c688": {
          "model_module": "@jupyter-widgets/controls",
          "model_name": "DescriptionStyleModel",
          "state": {
            "_view_name": "StyleView",
            "_model_name": "DescriptionStyleModel",
            "description_width": "",
            "_view_module": "@jupyter-widgets/base",
            "_model_module_version": "1.5.0",
            "_view_count": null,
            "_view_module_version": "1.2.0",
            "_model_module": "@jupyter-widgets/controls"
          }
        },
        "20da699886984e61a3b82af3679cb0ed": {
          "model_module": "@jupyter-widgets/base",
          "model_name": "LayoutModel",
          "state": {
            "_view_name": "LayoutView",
            "grid_template_rows": null,
            "right": null,
            "justify_content": null,
            "_view_module": "@jupyter-widgets/base",
            "overflow": null,
            "_model_module_version": "1.2.0",
            "_view_count": null,
            "flex_flow": null,
            "width": null,
            "min_width": null,
            "border": null,
            "align_items": null,
            "bottom": null,
            "_model_module": "@jupyter-widgets/base",
            "top": null,
            "grid_column": null,
            "overflow_y": null,
            "overflow_x": null,
            "grid_auto_flow": null,
            "grid_area": null,
            "grid_template_columns": null,
            "flex": null,
            "_model_name": "LayoutModel",
            "justify_items": null,
            "grid_row": null,
            "max_height": null,
            "align_content": null,
            "visibility": null,
            "align_self": null,
            "height": null,
            "min_height": null,
            "padding": null,
            "grid_auto_rows": null,
            "grid_gap": null,
            "max_width": null,
            "order": null,
            "_view_module_version": "1.2.0",
            "grid_template_areas": null,
            "object_position": null,
            "object_fit": null,
            "grid_auto_columns": null,
            "margin": null,
            "display": null,
            "left": null
          }
        },
        "9e079978a10143798678f7148d8f57bc": {
          "model_module": "@jupyter-widgets/controls",
          "model_name": "HBoxModel",
          "state": {
            "_view_name": "HBoxView",
            "_dom_classes": [],
            "_model_name": "HBoxModel",
            "_view_module": "@jupyter-widgets/controls",
            "_model_module_version": "1.5.0",
            "_view_count": null,
            "_view_module_version": "1.5.0",
            "box_style": "",
            "layout": "IPY_MODEL_862211ee717746508826bb38b5a4535c",
            "_model_module": "@jupyter-widgets/controls",
            "children": [
              "IPY_MODEL_6000ff642c924e1d9d41e72e4452acbf",
              "IPY_MODEL_a8d268852b524074b8d3d33b17df89e7"
            ]
          }
        },
        "862211ee717746508826bb38b5a4535c": {
          "model_module": "@jupyter-widgets/base",
          "model_name": "LayoutModel",
          "state": {
            "_view_name": "LayoutView",
            "grid_template_rows": null,
            "right": null,
            "justify_content": null,
            "_view_module": "@jupyter-widgets/base",
            "overflow": null,
            "_model_module_version": "1.2.0",
            "_view_count": null,
            "flex_flow": null,
            "width": null,
            "min_width": null,
            "border": null,
            "align_items": null,
            "bottom": null,
            "_model_module": "@jupyter-widgets/base",
            "top": null,
            "grid_column": null,
            "overflow_y": null,
            "overflow_x": null,
            "grid_auto_flow": null,
            "grid_area": null,
            "grid_template_columns": null,
            "flex": null,
            "_model_name": "LayoutModel",
            "justify_items": null,
            "grid_row": null,
            "max_height": null,
            "align_content": null,
            "visibility": null,
            "align_self": null,
            "height": null,
            "min_height": null,
            "padding": null,
            "grid_auto_rows": null,
            "grid_gap": null,
            "max_width": null,
            "order": null,
            "_view_module_version": "1.2.0",
            "grid_template_areas": null,
            "object_position": null,
            "object_fit": null,
            "grid_auto_columns": null,
            "margin": null,
            "display": null,
            "left": null
          }
        },
        "6000ff642c924e1d9d41e72e4452acbf": {
          "model_module": "@jupyter-widgets/controls",
          "model_name": "FloatProgressModel",
          "state": {
            "_view_name": "ProgressView",
            "style": "IPY_MODEL_06facf98d994485d96efc287fae887d2",
            "_dom_classes": [],
            "description": "Downloading: 100%",
            "_model_name": "FloatProgressModel",
            "bar_style": "success",
            "max": 73062448,
            "_view_module": "@jupyter-widgets/controls",
            "_model_module_version": "1.5.0",
            "value": 73062448,
            "_view_count": null,
            "_view_module_version": "1.5.0",
            "orientation": "horizontal",
            "min": 0,
            "description_tooltip": null,
            "_model_module": "@jupyter-widgets/controls",
            "layout": "IPY_MODEL_e3cd12ade12f403f96b9531872fed155"
          }
        },
        "a8d268852b524074b8d3d33b17df89e7": {
          "model_module": "@jupyter-widgets/controls",
          "model_name": "HTMLModel",
          "state": {
            "_view_name": "HTMLView",
            "style": "IPY_MODEL_43053cedb32f43999e1f46a8be85ccba",
            "_dom_classes": [],
            "description": "",
            "_model_name": "HTMLModel",
            "placeholder": "​",
            "_view_module": "@jupyter-widgets/controls",
            "_model_module_version": "1.5.0",
            "value": " 73.1M/73.1M [00:02&lt;00:00, 26.0MB/s]",
            "_view_count": null,
            "_view_module_version": "1.5.0",
            "description_tooltip": null,
            "_model_module": "@jupyter-widgets/controls",
            "layout": "IPY_MODEL_d4acff0c439d4dd2a56c561e1c77d6c9"
          }
        },
        "06facf98d994485d96efc287fae887d2": {
          "model_module": "@jupyter-widgets/controls",
          "model_name": "ProgressStyleModel",
          "state": {
            "_view_name": "StyleView",
            "_model_name": "ProgressStyleModel",
            "description_width": "initial",
            "_view_module": "@jupyter-widgets/base",
            "_model_module_version": "1.5.0",
            "_view_count": null,
            "_view_module_version": "1.2.0",
            "bar_color": null,
            "_model_module": "@jupyter-widgets/controls"
          }
        },
        "e3cd12ade12f403f96b9531872fed155": {
          "model_module": "@jupyter-widgets/base",
          "model_name": "LayoutModel",
          "state": {
            "_view_name": "LayoutView",
            "grid_template_rows": null,
            "right": null,
            "justify_content": null,
            "_view_module": "@jupyter-widgets/base",
            "overflow": null,
            "_model_module_version": "1.2.0",
            "_view_count": null,
            "flex_flow": null,
            "width": null,
            "min_width": null,
            "border": null,
            "align_items": null,
            "bottom": null,
            "_model_module": "@jupyter-widgets/base",
            "top": null,
            "grid_column": null,
            "overflow_y": null,
            "overflow_x": null,
            "grid_auto_flow": null,
            "grid_area": null,
            "grid_template_columns": null,
            "flex": null,
            "_model_name": "LayoutModel",
            "justify_items": null,
            "grid_row": null,
            "max_height": null,
            "align_content": null,
            "visibility": null,
            "align_self": null,
            "height": null,
            "min_height": null,
            "padding": null,
            "grid_auto_rows": null,
            "grid_gap": null,
            "max_width": null,
            "order": null,
            "_view_module_version": "1.2.0",
            "grid_template_areas": null,
            "object_position": null,
            "object_fit": null,
            "grid_auto_columns": null,
            "margin": null,
            "display": null,
            "left": null
          }
        },
        "43053cedb32f43999e1f46a8be85ccba": {
          "model_module": "@jupyter-widgets/controls",
          "model_name": "DescriptionStyleModel",
          "state": {
            "_view_name": "StyleView",
            "_model_name": "DescriptionStyleModel",
            "description_width": "",
            "_view_module": "@jupyter-widgets/base",
            "_model_module_version": "1.5.0",
            "_view_count": null,
            "_view_module_version": "1.2.0",
            "_model_module": "@jupyter-widgets/controls"
          }
        },
        "d4acff0c439d4dd2a56c561e1c77d6c9": {
          "model_module": "@jupyter-widgets/base",
          "model_name": "LayoutModel",
          "state": {
            "_view_name": "LayoutView",
            "grid_template_rows": null,
            "right": null,
            "justify_content": null,
            "_view_module": "@jupyter-widgets/base",
            "overflow": null,
            "_model_module_version": "1.2.0",
            "_view_count": null,
            "flex_flow": null,
            "width": null,
            "min_width": null,
            "border": null,
            "align_items": null,
            "bottom": null,
            "_model_module": "@jupyter-widgets/base",
            "top": null,
            "grid_column": null,
            "overflow_y": null,
            "overflow_x": null,
            "grid_auto_flow": null,
            "grid_area": null,
            "grid_template_columns": null,
            "flex": null,
            "_model_name": "LayoutModel",
            "justify_items": null,
            "grid_row": null,
            "max_height": null,
            "align_content": null,
            "visibility": null,
            "align_self": null,
            "height": null,
            "min_height": null,
            "padding": null,
            "grid_auto_rows": null,
            "grid_gap": null,
            "max_width": null,
            "order": null,
            "_view_module_version": "1.2.0",
            "grid_template_areas": null,
            "object_position": null,
            "object_fit": null,
            "grid_auto_columns": null,
            "margin": null,
            "display": null,
            "left": null
          }
        },
        "e871ee251b5341148aa1cbd8ef18ec69": {
          "model_module": "@jupyter-widgets/controls",
          "model_name": "HBoxModel",
          "state": {
            "_view_name": "HBoxView",
            "_dom_classes": [],
            "_model_name": "HBoxModel",
            "_view_module": "@jupyter-widgets/controls",
            "_model_module_version": "1.5.0",
            "_view_count": null,
            "_view_module_version": "1.5.0",
            "box_style": "",
            "layout": "IPY_MODEL_a81cfe3a13fb44a4bea9952e9afcfdaf",
            "_model_module": "@jupyter-widgets/controls",
            "children": [
              "IPY_MODEL_367b70c757e441af89fd1363e2c96ca4",
              "IPY_MODEL_47da00665e2949bbac8f0d048694d079"
            ]
          }
        },
        "a81cfe3a13fb44a4bea9952e9afcfdaf": {
          "model_module": "@jupyter-widgets/base",
          "model_name": "LayoutModel",
          "state": {
            "_view_name": "LayoutView",
            "grid_template_rows": null,
            "right": null,
            "justify_content": null,
            "_view_module": "@jupyter-widgets/base",
            "overflow": null,
            "_model_module_version": "1.2.0",
            "_view_count": null,
            "flex_flow": null,
            "width": null,
            "min_width": null,
            "border": null,
            "align_items": null,
            "bottom": null,
            "_model_module": "@jupyter-widgets/base",
            "top": null,
            "grid_column": null,
            "overflow_y": null,
            "overflow_x": null,
            "grid_auto_flow": null,
            "grid_area": null,
            "grid_template_columns": null,
            "flex": null,
            "_model_name": "LayoutModel",
            "justify_items": null,
            "grid_row": null,
            "max_height": null,
            "align_content": null,
            "visibility": null,
            "align_self": null,
            "height": null,
            "min_height": null,
            "padding": null,
            "grid_auto_rows": null,
            "grid_gap": null,
            "max_width": null,
            "order": null,
            "_view_module_version": "1.2.0",
            "grid_template_areas": null,
            "object_position": null,
            "object_fit": null,
            "grid_auto_columns": null,
            "margin": null,
            "display": null,
            "left": null
          }
        },
        "367b70c757e441af89fd1363e2c96ca4": {
          "model_module": "@jupyter-widgets/controls",
          "model_name": "FloatProgressModel",
          "state": {
            "_view_name": "ProgressView",
            "style": "IPY_MODEL_b49ec9f82d0840e98c2970ac8796ba0e",
            "_dom_classes": [],
            "description": "Downloading: 100%",
            "_model_name": "FloatProgressModel",
            "bar_style": "success",
            "max": 434,
            "_view_module": "@jupyter-widgets/controls",
            "_model_module_version": "1.5.0",
            "value": 434,
            "_view_count": null,
            "_view_module_version": "1.5.0",
            "orientation": "horizontal",
            "min": 0,
            "description_tooltip": null,
            "_model_module": "@jupyter-widgets/controls",
            "layout": "IPY_MODEL_f600658defc04c6185cd139db9c1ddb8"
          }
        },
        "47da00665e2949bbac8f0d048694d079": {
          "model_module": "@jupyter-widgets/controls",
          "model_name": "HTMLModel",
          "state": {
            "_view_name": "HTMLView",
            "style": "IPY_MODEL_fe33ffe7192447108f703720f624bfa9",
            "_dom_classes": [],
            "description": "",
            "_model_name": "HTMLModel",
            "placeholder": "​",
            "_view_module": "@jupyter-widgets/controls",
            "_model_module_version": "1.5.0",
            "value": " 434/434 [00:00&lt;00:00, 643B/s]",
            "_view_count": null,
            "_view_module_version": "1.5.0",
            "description_tooltip": null,
            "_model_module": "@jupyter-widgets/controls",
            "layout": "IPY_MODEL_034f52afa0574ef2a3ea5da773a2fc21"
          }
        },
        "b49ec9f82d0840e98c2970ac8796ba0e": {
          "model_module": "@jupyter-widgets/controls",
          "model_name": "ProgressStyleModel",
          "state": {
            "_view_name": "StyleView",
            "_model_name": "ProgressStyleModel",
            "description_width": "initial",
            "_view_module": "@jupyter-widgets/base",
            "_model_module_version": "1.5.0",
            "_view_count": null,
            "_view_module_version": "1.2.0",
            "bar_color": null,
            "_model_module": "@jupyter-widgets/controls"
          }
        },
        "f600658defc04c6185cd139db9c1ddb8": {
          "model_module": "@jupyter-widgets/base",
          "model_name": "LayoutModel",
          "state": {
            "_view_name": "LayoutView",
            "grid_template_rows": null,
            "right": null,
            "justify_content": null,
            "_view_module": "@jupyter-widgets/base",
            "overflow": null,
            "_model_module_version": "1.2.0",
            "_view_count": null,
            "flex_flow": null,
            "width": null,
            "min_width": null,
            "border": null,
            "align_items": null,
            "bottom": null,
            "_model_module": "@jupyter-widgets/base",
            "top": null,
            "grid_column": null,
            "overflow_y": null,
            "overflow_x": null,
            "grid_auto_flow": null,
            "grid_area": null,
            "grid_template_columns": null,
            "flex": null,
            "_model_name": "LayoutModel",
            "justify_items": null,
            "grid_row": null,
            "max_height": null,
            "align_content": null,
            "visibility": null,
            "align_self": null,
            "height": null,
            "min_height": null,
            "padding": null,
            "grid_auto_rows": null,
            "grid_gap": null,
            "max_width": null,
            "order": null,
            "_view_module_version": "1.2.0",
            "grid_template_areas": null,
            "object_position": null,
            "object_fit": null,
            "grid_auto_columns": null,
            "margin": null,
            "display": null,
            "left": null
          }
        },
        "fe33ffe7192447108f703720f624bfa9": {
          "model_module": "@jupyter-widgets/controls",
          "model_name": "DescriptionStyleModel",
          "state": {
            "_view_name": "StyleView",
            "_model_name": "DescriptionStyleModel",
            "description_width": "",
            "_view_module": "@jupyter-widgets/base",
            "_model_module_version": "1.5.0",
            "_view_count": null,
            "_view_module_version": "1.2.0",
            "_model_module": "@jupyter-widgets/controls"
          }
        },
        "034f52afa0574ef2a3ea5da773a2fc21": {
          "model_module": "@jupyter-widgets/base",
          "model_name": "LayoutModel",
          "state": {
            "_view_name": "LayoutView",
            "grid_template_rows": null,
            "right": null,
            "justify_content": null,
            "_view_module": "@jupyter-widgets/base",
            "overflow": null,
            "_model_module_version": "1.2.0",
            "_view_count": null,
            "flex_flow": null,
            "width": null,
            "min_width": null,
            "border": null,
            "align_items": null,
            "bottom": null,
            "_model_module": "@jupyter-widgets/base",
            "top": null,
            "grid_column": null,
            "overflow_y": null,
            "overflow_x": null,
            "grid_auto_flow": null,
            "grid_area": null,
            "grid_template_columns": null,
            "flex": null,
            "_model_name": "LayoutModel",
            "justify_items": null,
            "grid_row": null,
            "max_height": null,
            "align_content": null,
            "visibility": null,
            "align_self": null,
            "height": null,
            "min_height": null,
            "padding": null,
            "grid_auto_rows": null,
            "grid_gap": null,
            "max_width": null,
            "order": null,
            "_view_module_version": "1.2.0",
            "grid_template_areas": null,
            "object_position": null,
            "object_fit": null,
            "grid_auto_columns": null,
            "margin": null,
            "display": null,
            "left": null
          }
        },
        "2b3844ad73f245459ff39d62e8193a96": {
          "model_module": "@jupyter-widgets/controls",
          "model_name": "HBoxModel",
          "state": {
            "_view_name": "HBoxView",
            "_dom_classes": [],
            "_model_name": "HBoxModel",
            "_view_module": "@jupyter-widgets/controls",
            "_model_module_version": "1.5.0",
            "_view_count": null,
            "_view_module_version": "1.5.0",
            "box_style": "",
            "layout": "IPY_MODEL_9956d40030af4247b300082460bb92c1",
            "_model_module": "@jupyter-widgets/controls",
            "children": [
              "IPY_MODEL_1e14c4fd34bf4cfc80d4004438dc3ba0",
              "IPY_MODEL_d16c8d16b1a14cb0924f36b1d1ff8269"
            ]
          }
        },
        "9956d40030af4247b300082460bb92c1": {
          "model_module": "@jupyter-widgets/base",
          "model_name": "LayoutModel",
          "state": {
            "_view_name": "LayoutView",
            "grid_template_rows": null,
            "right": null,
            "justify_content": null,
            "_view_module": "@jupyter-widgets/base",
            "overflow": null,
            "_model_module_version": "1.2.0",
            "_view_count": null,
            "flex_flow": null,
            "width": null,
            "min_width": null,
            "border": null,
            "align_items": null,
            "bottom": null,
            "_model_module": "@jupyter-widgets/base",
            "top": null,
            "grid_column": null,
            "overflow_y": null,
            "overflow_x": null,
            "grid_auto_flow": null,
            "grid_area": null,
            "grid_template_columns": null,
            "flex": null,
            "_model_name": "LayoutModel",
            "justify_items": null,
            "grid_row": null,
            "max_height": null,
            "align_content": null,
            "visibility": null,
            "align_self": null,
            "height": null,
            "min_height": null,
            "padding": null,
            "grid_auto_rows": null,
            "grid_gap": null,
            "max_width": null,
            "order": null,
            "_view_module_version": "1.2.0",
            "grid_template_areas": null,
            "object_position": null,
            "object_fit": null,
            "grid_auto_columns": null,
            "margin": null,
            "display": null,
            "left": null
          }
        },
        "1e14c4fd34bf4cfc80d4004438dc3ba0": {
          "model_module": "@jupyter-widgets/controls",
          "model_name": "FloatProgressModel",
          "state": {
            "_view_name": "ProgressView",
            "style": "IPY_MODEL_ca526f917cc6456abead77d360cfbb60",
            "_dom_classes": [],
            "description": "Downloading: 100%",
            "_model_name": "FloatProgressModel",
            "bar_style": "success",
            "max": 1215509,
            "_view_module": "@jupyter-widgets/controls",
            "_model_module_version": "1.5.0",
            "value": 1215509,
            "_view_count": null,
            "_view_module_version": "1.5.0",
            "orientation": "horizontal",
            "min": 0,
            "description_tooltip": null,
            "_model_module": "@jupyter-widgets/controls",
            "layout": "IPY_MODEL_44324737340341c089db8858bd3f08bb"
          }
        },
        "d16c8d16b1a14cb0924f36b1d1ff8269": {
          "model_module": "@jupyter-widgets/controls",
          "model_name": "HTMLModel",
          "state": {
            "_view_name": "HTMLView",
            "style": "IPY_MODEL_b8a0c876901d4e8daef13d4dd580a533",
            "_dom_classes": [],
            "description": "",
            "_model_name": "HTMLModel",
            "placeholder": "​",
            "_view_module": "@jupyter-widgets/controls",
            "_model_module_version": "1.5.0",
            "value": " 1.22M/1.22M [00:01&lt;00:00, 738kB/s]",
            "_view_count": null,
            "_view_module_version": "1.5.0",
            "description_tooltip": null,
            "_model_module": "@jupyter-widgets/controls",
            "layout": "IPY_MODEL_7af9029ac27f44b4a4b3e94df96f6ecf"
          }
        },
        "ca526f917cc6456abead77d360cfbb60": {
          "model_module": "@jupyter-widgets/controls",
          "model_name": "ProgressStyleModel",
          "state": {
            "_view_name": "StyleView",
            "_model_name": "ProgressStyleModel",
            "description_width": "initial",
            "_view_module": "@jupyter-widgets/base",
            "_model_module_version": "1.5.0",
            "_view_count": null,
            "_view_module_version": "1.2.0",
            "bar_color": null,
            "_model_module": "@jupyter-widgets/controls"
          }
        },
        "44324737340341c089db8858bd3f08bb": {
          "model_module": "@jupyter-widgets/base",
          "model_name": "LayoutModel",
          "state": {
            "_view_name": "LayoutView",
            "grid_template_rows": null,
            "right": null,
            "justify_content": null,
            "_view_module": "@jupyter-widgets/base",
            "overflow": null,
            "_model_module_version": "1.2.0",
            "_view_count": null,
            "flex_flow": null,
            "width": null,
            "min_width": null,
            "border": null,
            "align_items": null,
            "bottom": null,
            "_model_module": "@jupyter-widgets/base",
            "top": null,
            "grid_column": null,
            "overflow_y": null,
            "overflow_x": null,
            "grid_auto_flow": null,
            "grid_area": null,
            "grid_template_columns": null,
            "flex": null,
            "_model_name": "LayoutModel",
            "justify_items": null,
            "grid_row": null,
            "max_height": null,
            "align_content": null,
            "visibility": null,
            "align_self": null,
            "height": null,
            "min_height": null,
            "padding": null,
            "grid_auto_rows": null,
            "grid_gap": null,
            "max_width": null,
            "order": null,
            "_view_module_version": "1.2.0",
            "grid_template_areas": null,
            "object_position": null,
            "object_fit": null,
            "grid_auto_columns": null,
            "margin": null,
            "display": null,
            "left": null
          }
        },
        "b8a0c876901d4e8daef13d4dd580a533": {
          "model_module": "@jupyter-widgets/controls",
          "model_name": "DescriptionStyleModel",
          "state": {
            "_view_name": "StyleView",
            "_model_name": "DescriptionStyleModel",
            "description_width": "",
            "_view_module": "@jupyter-widgets/base",
            "_model_module_version": "1.5.0",
            "_view_count": null,
            "_view_module_version": "1.2.0",
            "_model_module": "@jupyter-widgets/controls"
          }
        },
        "7af9029ac27f44b4a4b3e94df96f6ecf": {
          "model_module": "@jupyter-widgets/base",
          "model_name": "LayoutModel",
          "state": {
            "_view_name": "LayoutView",
            "grid_template_rows": null,
            "right": null,
            "justify_content": null,
            "_view_module": "@jupyter-widgets/base",
            "overflow": null,
            "_model_module_version": "1.2.0",
            "_view_count": null,
            "flex_flow": null,
            "width": null,
            "min_width": null,
            "border": null,
            "align_items": null,
            "bottom": null,
            "_model_module": "@jupyter-widgets/base",
            "top": null,
            "grid_column": null,
            "overflow_y": null,
            "overflow_x": null,
            "grid_auto_flow": null,
            "grid_area": null,
            "grid_template_columns": null,
            "flex": null,
            "_model_name": "LayoutModel",
            "justify_items": null,
            "grid_row": null,
            "max_height": null,
            "align_content": null,
            "visibility": null,
            "align_self": null,
            "height": null,
            "min_height": null,
            "padding": null,
            "grid_auto_rows": null,
            "grid_gap": null,
            "max_width": null,
            "order": null,
            "_view_module_version": "1.2.0",
            "grid_template_areas": null,
            "object_position": null,
            "object_fit": null,
            "grid_auto_columns": null,
            "margin": null,
            "display": null,
            "left": null
          }
        },
        "72b3464c537b40b7a345f5dcb04483ea": {
          "model_module": "@jupyter-widgets/controls",
          "model_name": "HBoxModel",
          "state": {
            "_view_name": "HBoxView",
            "_dom_classes": [],
            "_model_name": "HBoxModel",
            "_view_module": "@jupyter-widgets/controls",
            "_model_module_version": "1.5.0",
            "_view_count": null,
            "_view_module_version": "1.5.0",
            "box_style": "",
            "layout": "IPY_MODEL_2eedd35f05e849eba3cb9569e5d21412",
            "_model_module": "@jupyter-widgets/controls",
            "children": [
              "IPY_MODEL_820abb12f4e444d1aa5ee5cc4bb7ab08",
              "IPY_MODEL_f2a7e34cf2cc4586844015b779e9950c"
            ]
          }
        },
        "2eedd35f05e849eba3cb9569e5d21412": {
          "model_module": "@jupyter-widgets/base",
          "model_name": "LayoutModel",
          "state": {
            "_view_name": "LayoutView",
            "grid_template_rows": null,
            "right": null,
            "justify_content": null,
            "_view_module": "@jupyter-widgets/base",
            "overflow": null,
            "_model_module_version": "1.2.0",
            "_view_count": null,
            "flex_flow": null,
            "width": null,
            "min_width": null,
            "border": null,
            "align_items": null,
            "bottom": null,
            "_model_module": "@jupyter-widgets/base",
            "top": null,
            "grid_column": null,
            "overflow_y": null,
            "overflow_x": null,
            "grid_auto_flow": null,
            "grid_area": null,
            "grid_template_columns": null,
            "flex": null,
            "_model_name": "LayoutModel",
            "justify_items": null,
            "grid_row": null,
            "max_height": null,
            "align_content": null,
            "visibility": null,
            "align_self": null,
            "height": null,
            "min_height": null,
            "padding": null,
            "grid_auto_rows": null,
            "grid_gap": null,
            "max_width": null,
            "order": null,
            "_view_module_version": "1.2.0",
            "grid_template_areas": null,
            "object_position": null,
            "object_fit": null,
            "grid_auto_columns": null,
            "margin": null,
            "display": null,
            "left": null
          }
        },
        "820abb12f4e444d1aa5ee5cc4bb7ab08": {
          "model_module": "@jupyter-widgets/controls",
          "model_name": "FloatProgressModel",
          "state": {
            "_view_name": "ProgressView",
            "style": "IPY_MODEL_b8b72e98ab6842b281f4cbe134df62ed",
            "_dom_classes": [],
            "description": "Downloading: 100%",
            "_model_name": "FloatProgressModel",
            "bar_style": "success",
            "max": 654186735,
            "_view_module": "@jupyter-widgets/controls",
            "_model_module_version": "1.5.0",
            "value": 654186735,
            "_view_count": null,
            "_view_module_version": "1.5.0",
            "orientation": "horizontal",
            "min": 0,
            "description_tooltip": null,
            "_model_module": "@jupyter-widgets/controls",
            "layout": "IPY_MODEL_a3ea03245b0c4e4c80c7b0a366db5649"
          }
        },
        "f2a7e34cf2cc4586844015b779e9950c": {
          "model_module": "@jupyter-widgets/controls",
          "model_name": "HTMLModel",
          "state": {
            "_view_name": "HTMLView",
            "style": "IPY_MODEL_ccffb61beecf40948b33fb0ce48b982a",
            "_dom_classes": [],
            "description": "",
            "_model_name": "HTMLModel",
            "placeholder": "​",
            "_view_module": "@jupyter-widgets/controls",
            "_model_module_version": "1.5.0",
            "value": " 654M/654M [00:10&lt;00:00, 63.2MB/s]",
            "_view_count": null,
            "_view_module_version": "1.5.0",
            "description_tooltip": null,
            "_model_module": "@jupyter-widgets/controls",
            "layout": "IPY_MODEL_43e95404b035471687dcdfef0ebbc2dd"
          }
        },
        "b8b72e98ab6842b281f4cbe134df62ed": {
          "model_module": "@jupyter-widgets/controls",
          "model_name": "ProgressStyleModel",
          "state": {
            "_view_name": "StyleView",
            "_model_name": "ProgressStyleModel",
            "description_width": "initial",
            "_view_module": "@jupyter-widgets/base",
            "_model_module_version": "1.5.0",
            "_view_count": null,
            "_view_module_version": "1.2.0",
            "bar_color": null,
            "_model_module": "@jupyter-widgets/controls"
          }
        },
        "a3ea03245b0c4e4c80c7b0a366db5649": {
          "model_module": "@jupyter-widgets/base",
          "model_name": "LayoutModel",
          "state": {
            "_view_name": "LayoutView",
            "grid_template_rows": null,
            "right": null,
            "justify_content": null,
            "_view_module": "@jupyter-widgets/base",
            "overflow": null,
            "_model_module_version": "1.2.0",
            "_view_count": null,
            "flex_flow": null,
            "width": null,
            "min_width": null,
            "border": null,
            "align_items": null,
            "bottom": null,
            "_model_module": "@jupyter-widgets/base",
            "top": null,
            "grid_column": null,
            "overflow_y": null,
            "overflow_x": null,
            "grid_auto_flow": null,
            "grid_area": null,
            "grid_template_columns": null,
            "flex": null,
            "_model_name": "LayoutModel",
            "justify_items": null,
            "grid_row": null,
            "max_height": null,
            "align_content": null,
            "visibility": null,
            "align_self": null,
            "height": null,
            "min_height": null,
            "padding": null,
            "grid_auto_rows": null,
            "grid_gap": null,
            "max_width": null,
            "order": null,
            "_view_module_version": "1.2.0",
            "grid_template_areas": null,
            "object_position": null,
            "object_fit": null,
            "grid_auto_columns": null,
            "margin": null,
            "display": null,
            "left": null
          }
        },
        "ccffb61beecf40948b33fb0ce48b982a": {
          "model_module": "@jupyter-widgets/controls",
          "model_name": "DescriptionStyleModel",
          "state": {
            "_view_name": "StyleView",
            "_model_name": "DescriptionStyleModel",
            "description_width": "",
            "_view_module": "@jupyter-widgets/base",
            "_model_module_version": "1.5.0",
            "_view_count": null,
            "_view_module_version": "1.2.0",
            "_model_module": "@jupyter-widgets/controls"
          }
        },
        "43e95404b035471687dcdfef0ebbc2dd": {
          "model_module": "@jupyter-widgets/base",
          "model_name": "LayoutModel",
          "state": {
            "_view_name": "LayoutView",
            "grid_template_rows": null,
            "right": null,
            "justify_content": null,
            "_view_module": "@jupyter-widgets/base",
            "overflow": null,
            "_model_module_version": "1.2.0",
            "_view_count": null,
            "flex_flow": null,
            "width": null,
            "min_width": null,
            "border": null,
            "align_items": null,
            "bottom": null,
            "_model_module": "@jupyter-widgets/base",
            "top": null,
            "grid_column": null,
            "overflow_y": null,
            "overflow_x": null,
            "grid_auto_flow": null,
            "grid_area": null,
            "grid_template_columns": null,
            "flex": null,
            "_model_name": "LayoutModel",
            "justify_items": null,
            "grid_row": null,
            "max_height": null,
            "align_content": null,
            "visibility": null,
            "align_self": null,
            "height": null,
            "min_height": null,
            "padding": null,
            "grid_auto_rows": null,
            "grid_gap": null,
            "max_width": null,
            "order": null,
            "_view_module_version": "1.2.0",
            "grid_template_areas": null,
            "object_position": null,
            "object_fit": null,
            "grid_auto_columns": null,
            "margin": null,
            "display": null,
            "left": null
          }
        }
      }
    }
  },
  "cells": [
    {
      "cell_type": "markdown",
      "metadata": {
        "id": "view-in-github",
        "colab_type": "text"
      },
      "source": [
        "<a href=\"https://colab.research.google.com/github/AliAkbarBadri/topics-for-types/blob/main/types.ipynb\" target=\"_parent\"><img src=\"https://colab.research.google.com/assets/colab-badge.svg\" alt=\"Open In Colab\"/></a>"
      ]
    },
    {
      "cell_type": "markdown",
      "metadata": {
        "id": "35118jEtNm5E"
      },
      "source": [
        "# Setup"
      ]
    },
    {
      "cell_type": "code",
      "metadata": {
        "id": "SJFNjxht1SE5",
        "outputId": "89252d8a-0076-4fa1-d3fb-0380be1f25aa",
        "colab": {
          "base_uri": "https://localhost:8080/"
        }
      },
      "source": [
        "! pip -q install laserembeddings\n",
        "! python -m laserembeddings download-models\n",
        "! pip -q install transformers\n",
        "! pip -q install parsivar"
      ],
      "execution_count": 1,
      "outputs": [
        {
          "output_type": "stream",
          "text": [
            "\u001b[K     |████████████████████████████████| 860kB 6.7MB/s \n",
            "\u001b[K     |████████████████████████████████| 51kB 8.8MB/s \n",
            "\u001b[?25h  Building wheel for sacremoses (setup.py) ... \u001b[?25l\u001b[?25hdone\n",
            "Downloading models into /usr/local/lib/python3.6/dist-packages/laserembeddings/data\n",
            "\n",
            "✅   Downloaded https://dl.fbaipublicfiles.com/laser/models/93langs.fcodes    \n",
            "✅   Downloaded https://dl.fbaipublicfiles.com/laser/models/93langs.fvocab    \n",
            "✅   Downloaded https://dl.fbaipublicfiles.com/laser/models/bilstm.93langs.2018-12-26.pt    \n",
            "\n",
            "✨ You're all set!\n",
            "\u001b[K     |████████████████████████████████| 1.3MB 8.7MB/s \n",
            "\u001b[K     |████████████████████████████████| 1.1MB 49.9MB/s \n",
            "\u001b[K     |████████████████████████████████| 2.9MB 52.5MB/s \n",
            "\u001b[K     |████████████████████████████████| 36.2MB 70kB/s \n",
            "\u001b[K     |████████████████████████████████| 1.5MB 43.1MB/s \n",
            "\u001b[?25h  Building wheel for parsivar (setup.py) ... \u001b[?25l\u001b[?25hdone\n",
            "  Building wheel for nltk (setup.py) ... \u001b[?25l\u001b[?25hdone\n"
          ],
          "name": "stdout"
        }
      ]
    },
    {
      "cell_type": "code",
      "metadata": {
        "id": "bxA_PSMaBhzU"
      },
      "source": [
        "import pandas as pd\n",
        "import numpy as np\n",
        "import numpy as np\n",
        "import matplotlib.pyplot as plt\n",
        "import os\n",
        "import tensorflow as tf\n",
        "import tensorflow_addons as tfa\n",
        "from tensorflow.keras.preprocessing.text import Tokenizer\n",
        "from tensorflow.keras.preprocessing.sequence import pad_sequences\n",
        "import torch\n",
        "from sklearn.model_selection import train_test_split\n",
        "from transformers import AutoConfig, AutoTokenizer, AutoModel\n",
        "from laserembeddings import Laser\n",
        "from parsivar import *\n",
        "from __future__ import unicode_literals"
      ],
      "execution_count": 2,
      "outputs": []
    },
    {
      "cell_type": "code",
      "metadata": {
        "id": "LCVAXfOLRn17",
        "outputId": "87cd09e1-b55f-4cf1-f050-74586d213a90",
        "colab": {
          "base_uri": "https://localhost:8080/"
        }
      },
      "source": [
        "from google.colab import drive\n",
        "drive.mount('/content/drive')"
      ],
      "execution_count": 4,
      "outputs": [
        {
          "output_type": "stream",
          "text": [
            "Mounted at /content/drive\n"
          ],
          "name": "stdout"
        }
      ]
    },
    {
      "cell_type": "markdown",
      "metadata": {
        "id": "YOWqOnmkpowp"
      },
      "source": [
        "# LASER"
      ]
    },
    {
      "cell_type": "code",
      "metadata": {
        "id": "36sadEN82ZUu"
      },
      "source": [
        "laser = Laser()"
      ],
      "execution_count": null,
      "outputs": []
    },
    {
      "cell_type": "code",
      "metadata": {
        "id": "lSQdhjdD8Osl",
        "outputId": "6ea51c6b-b36b-41fa-eb19-8a4dc986818e",
        "colab": {
          "base_uri": "https://localhost:8080/",
          "height": 204
        }
      },
      "source": [
        "df_types_laser = pd.read_csv(\"/content/drive/My Drive/topics-for-types/df_types.csv\")\n",
        "df_types_laser.head()"
      ],
      "execution_count": null,
      "outputs": [
        {
          "output_type": "execute_result",
          "data": {
            "text/html": [
              "<div>\n",
              "<style scoped>\n",
              "    .dataframe tbody tr th:only-of-type {\n",
              "        vertical-align: middle;\n",
              "    }\n",
              "\n",
              "    .dataframe tbody tr th {\n",
              "        vertical-align: top;\n",
              "    }\n",
              "\n",
              "    .dataframe thead th {\n",
              "        text-align: right;\n",
              "    }\n",
              "</style>\n",
              "<table border=\"1\" class=\"dataframe\">\n",
              "  <thead>\n",
              "    <tr style=\"text-align: right;\">\n",
              "      <th></th>\n",
              "      <th>sentence</th>\n",
              "      <th>انتخاب</th>\n",
              "      <th>بله/خیر</th>\n",
              "      <th>ترجمه</th>\n",
              "      <th>تعامل</th>\n",
              "      <th>تعریف</th>\n",
              "      <th>توضیح</th>\n",
              "      <th>دلیل</th>\n",
              "      <th>ریاضی</th>\n",
              "      <th>لیست</th>\n",
              "      <th>نظر</th>\n",
              "      <th>واقعیت</th>\n",
              "      <th>پیشنهاد</th>\n",
              "    </tr>\n",
              "  </thead>\n",
              "  <tbody>\n",
              "    <tr>\n",
              "      <th>0</th>\n",
              "      <td>تفاوت ترمز عقب دیسکی و کاسه ای چیست؟</td>\n",
              "      <td>0</td>\n",
              "      <td>0</td>\n",
              "      <td>0</td>\n",
              "      <td>0</td>\n",
              "      <td>1</td>\n",
              "      <td>1</td>\n",
              "      <td>0</td>\n",
              "      <td>0</td>\n",
              "      <td>0</td>\n",
              "      <td>1</td>\n",
              "      <td>0</td>\n",
              "      <td>0</td>\n",
              "    </tr>\n",
              "    <tr>\n",
              "      <th>1</th>\n",
              "      <td>آیا ترمز ضدقفل ABS در همه چرخ ها عمل می کند؟</td>\n",
              "      <td>0</td>\n",
              "      <td>1</td>\n",
              "      <td>0</td>\n",
              "      <td>0</td>\n",
              "      <td>0</td>\n",
              "      <td>1</td>\n",
              "      <td>0</td>\n",
              "      <td>0</td>\n",
              "      <td>0</td>\n",
              "      <td>1</td>\n",
              "      <td>0</td>\n",
              "      <td>0</td>\n",
              "    </tr>\n",
              "    <tr>\n",
              "      <th>2</th>\n",
              "      <td>چرا باوجود نصب بودن ترمز ABS بر روی خودرو، ترم...</td>\n",
              "      <td>0</td>\n",
              "      <td>0</td>\n",
              "      <td>0</td>\n",
              "      <td>0</td>\n",
              "      <td>0</td>\n",
              "      <td>1</td>\n",
              "      <td>1</td>\n",
              "      <td>0</td>\n",
              "      <td>0</td>\n",
              "      <td>1</td>\n",
              "      <td>0</td>\n",
              "      <td>0</td>\n",
              "    </tr>\n",
              "    <tr>\n",
              "      <th>3</th>\n",
              "      <td>چرا با وجود نصب بودن Airbag بر روی خودرو، در ه...</td>\n",
              "      <td>0</td>\n",
              "      <td>0</td>\n",
              "      <td>0</td>\n",
              "      <td>0</td>\n",
              "      <td>0</td>\n",
              "      <td>1</td>\n",
              "      <td>1</td>\n",
              "      <td>0</td>\n",
              "      <td>0</td>\n",
              "      <td>1</td>\n",
              "      <td>0</td>\n",
              "      <td>0</td>\n",
              "    </tr>\n",
              "    <tr>\n",
              "      <th>4</th>\n",
              "      <td>کلاس های مختلف خودرو چگونه شناسایی می شوند؟</td>\n",
              "      <td>0</td>\n",
              "      <td>0</td>\n",
              "      <td>0</td>\n",
              "      <td>0</td>\n",
              "      <td>1</td>\n",
              "      <td>0</td>\n",
              "      <td>0</td>\n",
              "      <td>0</td>\n",
              "      <td>1</td>\n",
              "      <td>1</td>\n",
              "      <td>0</td>\n",
              "      <td>0</td>\n",
              "    </tr>\n",
              "  </tbody>\n",
              "</table>\n",
              "</div>"
            ],
            "text/plain": [
              "                                            sentence  انتخاب  ...  واقعیت  پیشنهاد\n",
              "0              تفاوت ترمز عقب دیسکی و کاسه ای چیست؟        0  ...       0        0\n",
              "1     آیا ترمز ضدقفل ABS در همه چرخ ها عمل می کند؟         0  ...       0        0\n",
              "2  چرا باوجود نصب بودن ترمز ABS بر روی خودرو، ترم...       0  ...       0        0\n",
              "3  چرا با وجود نصب بودن Airbag بر روی خودرو، در ه...       0  ...       0        0\n",
              "4       کلاس های مختلف خودرو چگونه شناسایی می شوند؟        0  ...       0        0\n",
              "\n",
              "[5 rows x 13 columns]"
            ]
          },
          "metadata": {
            "tags": []
          },
          "execution_count": 5
        }
      ]
    },
    {
      "cell_type": "code",
      "metadata": {
        "id": "HzeYZUYk40hA",
        "outputId": "c066bf41-6f33-4923-eed9-ce2d0cf62a94",
        "colab": {
          "base_uri": "https://localhost:8080/",
          "height": 34
        }
      },
      "source": [
        "n_class = len(df_types_laser.columns.values)-1\n",
        "n_class"
      ],
      "execution_count": null,
      "outputs": [
        {
          "output_type": "execute_result",
          "data": {
            "text/plain": [
              "12"
            ]
          },
          "metadata": {
            "tags": []
          },
          "execution_count": 21
        }
      ]
    },
    {
      "cell_type": "code",
      "metadata": {
        "id": "opZheLr-1fI6",
        "outputId": "ab9412a3-eed8-41e2-b140-4375396940b7",
        "colab": {
          "base_uri": "https://localhost:8080/",
          "height": 204
        }
      },
      "source": [
        "df_types_laser['sentence'] = df_types_laser['sentence'].apply(lambda sent: laser.embed_sentences(sent, lang='fa')[0])\n",
        "df_types_laser.head()"
      ],
      "execution_count": null,
      "outputs": [
        {
          "output_type": "execute_result",
          "data": {
            "text/html": [
              "<div>\n",
              "<style scoped>\n",
              "    .dataframe tbody tr th:only-of-type {\n",
              "        vertical-align: middle;\n",
              "    }\n",
              "\n",
              "    .dataframe tbody tr th {\n",
              "        vertical-align: top;\n",
              "    }\n",
              "\n",
              "    .dataframe thead th {\n",
              "        text-align: right;\n",
              "    }\n",
              "</style>\n",
              "<table border=\"1\" class=\"dataframe\">\n",
              "  <thead>\n",
              "    <tr style=\"text-align: right;\">\n",
              "      <th></th>\n",
              "      <th>sentence</th>\n",
              "      <th>انتخاب</th>\n",
              "      <th>بله/خیر</th>\n",
              "      <th>ترجمه</th>\n",
              "      <th>تعامل</th>\n",
              "      <th>تعریف</th>\n",
              "      <th>توضیح</th>\n",
              "      <th>دلیل</th>\n",
              "      <th>ریاضی</th>\n",
              "      <th>لیست</th>\n",
              "      <th>نظر</th>\n",
              "      <th>واقعیت</th>\n",
              "      <th>پیشنهاد</th>\n",
              "    </tr>\n",
              "  </thead>\n",
              "  <tbody>\n",
              "    <tr>\n",
              "      <th>0</th>\n",
              "      <td>[0.020942228, -8.114154e-05, -0.0009854127, 0....</td>\n",
              "      <td>0</td>\n",
              "      <td>0</td>\n",
              "      <td>0</td>\n",
              "      <td>0</td>\n",
              "      <td>1</td>\n",
              "      <td>1</td>\n",
              "      <td>0</td>\n",
              "      <td>0</td>\n",
              "      <td>0</td>\n",
              "      <td>1</td>\n",
              "      <td>0</td>\n",
              "      <td>0</td>\n",
              "    </tr>\n",
              "    <tr>\n",
              "      <th>1</th>\n",
              "      <td>[0.008679963, 0.0027223488, -0.000162347, 0.01...</td>\n",
              "      <td>0</td>\n",
              "      <td>1</td>\n",
              "      <td>0</td>\n",
              "      <td>0</td>\n",
              "      <td>0</td>\n",
              "      <td>1</td>\n",
              "      <td>0</td>\n",
              "      <td>0</td>\n",
              "      <td>0</td>\n",
              "      <td>1</td>\n",
              "      <td>0</td>\n",
              "      <td>0</td>\n",
              "    </tr>\n",
              "    <tr>\n",
              "      <th>2</th>\n",
              "      <td>[0.011158587, 0.01838572, -8.3516294e-05, 0.01...</td>\n",
              "      <td>0</td>\n",
              "      <td>0</td>\n",
              "      <td>0</td>\n",
              "      <td>0</td>\n",
              "      <td>0</td>\n",
              "      <td>1</td>\n",
              "      <td>1</td>\n",
              "      <td>0</td>\n",
              "      <td>0</td>\n",
              "      <td>1</td>\n",
              "      <td>0</td>\n",
              "      <td>0</td>\n",
              "    </tr>\n",
              "    <tr>\n",
              "      <th>3</th>\n",
              "      <td>[0.00957515, 0.013646437, 7.700363e-05, 0.0117...</td>\n",
              "      <td>0</td>\n",
              "      <td>0</td>\n",
              "      <td>0</td>\n",
              "      <td>0</td>\n",
              "      <td>0</td>\n",
              "      <td>1</td>\n",
              "      <td>1</td>\n",
              "      <td>0</td>\n",
              "      <td>0</td>\n",
              "      <td>1</td>\n",
              "      <td>0</td>\n",
              "      <td>0</td>\n",
              "    </tr>\n",
              "    <tr>\n",
              "      <th>4</th>\n",
              "      <td>[0.027029112, 0.0024084542, 0.0004833732, 0.00...</td>\n",
              "      <td>0</td>\n",
              "      <td>0</td>\n",
              "      <td>0</td>\n",
              "      <td>0</td>\n",
              "      <td>1</td>\n",
              "      <td>0</td>\n",
              "      <td>0</td>\n",
              "      <td>0</td>\n",
              "      <td>1</td>\n",
              "      <td>1</td>\n",
              "      <td>0</td>\n",
              "      <td>0</td>\n",
              "    </tr>\n",
              "  </tbody>\n",
              "</table>\n",
              "</div>"
            ],
            "text/plain": [
              "                                            sentence  انتخاب  ...  واقعیت  پیشنهاد\n",
              "0  [0.020942228, -8.114154e-05, -0.0009854127, 0....       0  ...       0        0\n",
              "1  [0.008679963, 0.0027223488, -0.000162347, 0.01...       0  ...       0        0\n",
              "2  [0.011158587, 0.01838572, -8.3516294e-05, 0.01...       0  ...       0        0\n",
              "3  [0.00957515, 0.013646437, 7.700363e-05, 0.0117...       0  ...       0        0\n",
              "4  [0.027029112, 0.0024084542, 0.0004833732, 0.00...       0  ...       0        0\n",
              "\n",
              "[5 rows x 13 columns]"
            ]
          },
          "metadata": {
            "tags": []
          },
          "execution_count": 6
        }
      ]
    },
    {
      "cell_type": "code",
      "metadata": {
        "id": "zfS5i6JY5wtz",
        "outputId": "19551df0-1c07-4f5e-bddb-721c03822fd1",
        "colab": {
          "base_uri": "https://localhost:8080/",
          "height": 34
        }
      },
      "source": [
        "X = np.array(df_types_laser[df_types_laser.columns[0]])\n",
        "X = np.vstack(X)\n",
        "\n",
        "Y = df_types_laser[df_types_laser.columns[1:]].values\n",
        "\n",
        "X.shape, Y.shape"
      ],
      "execution_count": null,
      "outputs": [
        {
          "output_type": "execute_result",
          "data": {
            "text/plain": [
              "((2424, 1024), (2424, 12))"
            ]
          },
          "metadata": {
            "tags": []
          },
          "execution_count": 7
        }
      ]
    },
    {
      "cell_type": "code",
      "metadata": {
        "id": "2dIU12_77FYS"
      },
      "source": [
        "X_train, X_test, y_train, y_test = train_test_split(X, Y, test_size=0.10)"
      ],
      "execution_count": null,
      "outputs": []
    },
    {
      "cell_type": "code",
      "metadata": {
        "id": "FGgNLji77YUg",
        "outputId": "6eca9819-b908-4a3e-bc83-05b6824a32ba",
        "colab": {
          "base_uri": "https://localhost:8080/",
          "height": 34
        }
      },
      "source": [
        "len(X_train),len(X_test),len(y_train),len(y_test)"
      ],
      "execution_count": null,
      "outputs": [
        {
          "output_type": "execute_result",
          "data": {
            "text/plain": [
              "(2181, 243, 2181, 243)"
            ]
          },
          "metadata": {
            "tags": []
          },
          "execution_count": 9
        }
      ]
    },
    {
      "cell_type": "code",
      "metadata": {
        "id": "Ft6tF_ek3LQo",
        "outputId": "c1a63633-2b70-43df-9c17-360aa3d20341",
        "colab": {
          "base_uri": "https://localhost:8080/",
          "height": 272
        }
      },
      "source": [
        "model = tf.keras.Sequential([\n",
        "    tf.keras.layers.Input(shape=X[0].shape, name='input_layer'),\n",
        "    tf.keras.layers.Dense(100, activation='relu', name='Dense_Layer'),\n",
        "    tf.keras.layers.Dense(100, activation='relu', name='Dense_Layer2'),\n",
        "    tf.keras.layers.Dense(n_class, activation='sigmoid', name='Output'),\n",
        "  ], name='LASER_Model')\n",
        "\n",
        "model.compile(loss='binary_crossentropy', optimizer='adam', \n",
        "              metrics=['acc',\n",
        "                       tfa.metrics.f_scores.F1Score(n_class,'weighted', threshold=0.5, name='f1'),\n",
        "                       tfa.metrics.f_scores.F1Score(n_class,'macro',threshold=0.5, name='macro'),\n",
        "                       tfa.metrics.f_scores.F1Score(n_class,'micro',threshold=0.5, name='micro'),\n",
        "                       tfa.metrics.HammingLoss(mode='multilabel',threshold=0.5, name='hamloss')])\n",
        "print(model.summary())"
      ],
      "execution_count": null,
      "outputs": [
        {
          "output_type": "stream",
          "text": [
            "Model: \"LASER_Model\"\n",
            "_________________________________________________________________\n",
            "Layer (type)                 Output Shape              Param #   \n",
            "=================================================================\n",
            "Dense_Layer (Dense)          (None, 100)               102500    \n",
            "_________________________________________________________________\n",
            "Dense_Layer2 (Dense)         (None, 100)               10100     \n",
            "_________________________________________________________________\n",
            "Output (Dense)               (None, 12)                1212      \n",
            "=================================================================\n",
            "Total params: 113,812\n",
            "Trainable params: 113,812\n",
            "Non-trainable params: 0\n",
            "_________________________________________________________________\n",
            "None\n"
          ],
          "name": "stdout"
        }
      ]
    },
    {
      "cell_type": "code",
      "metadata": {
        "id": "69rtCjqW7PeH",
        "outputId": "2cead43c-b799-488a-8736-7a926d492cfc",
        "colab": {
          "base_uri": "https://localhost:8080/",
          "height": 717
        }
      },
      "source": [
        "history = model.fit(X_train, y_train, batch_size=8, epochs=20, verbose=1, validation_split=0.2)"
      ],
      "execution_count": null,
      "outputs": [
        {
          "output_type": "stream",
          "text": [
            "Epoch 1/20\n",
            "218/218 [==============================] - 1s 5ms/step - loss: 0.3318 - acc: 0.4788 - f1: 0.3513 - macro: 0.0870 - micro: 0.5022 - hamloss: 0.1249 - val_loss: 0.2776 - val_acc: 0.4828 - val_f1: 0.4409 - val_macro: 0.1212 - val_micro: 0.5811 - val_hamloss: 0.1114\n",
            "Epoch 2/20\n",
            "218/218 [==============================] - 1s 4ms/step - loss: 0.2575 - acc: 0.4507 - f1: 0.5098 - macro: 0.1525 - micro: 0.6124 - hamloss: 0.1065 - val_loss: 0.2459 - val_acc: 0.5057 - val_f1: 0.5935 - val_macro: 0.1874 - val_micro: 0.6924 - val_hamloss: 0.0942\n",
            "Epoch 3/20\n",
            "218/218 [==============================] - 1s 4ms/step - loss: 0.2215 - acc: 0.6170 - f1: 0.6152 - macro: 0.2061 - micro: 0.6962 - hamloss: 0.0869 - val_loss: 0.2202 - val_acc: 0.6545 - val_f1: 0.6082 - val_macro: 0.2000 - val_micro: 0.6963 - val_hamloss: 0.0873\n",
            "Epoch 4/20\n",
            "218/218 [==============================] - 1s 4ms/step - loss: 0.2016 - acc: 0.7013 - f1: 0.6391 - macro: 0.2219 - micro: 0.7148 - hamloss: 0.0808 - val_loss: 0.2159 - val_acc: 0.7185 - val_f1: 0.5974 - val_macro: 0.1983 - val_micro: 0.6794 - val_hamloss: 0.0896\n",
            "Epoch 5/20\n",
            "218/218 [==============================] - 1s 4ms/step - loss: 0.1889 - acc: 0.7294 - f1: 0.6694 - macro: 0.2543 - micro: 0.7338 - hamloss: 0.0756 - val_loss: 0.2113 - val_acc: 0.6384 - val_f1: 0.6542 - val_macro: 0.2449 - val_micro: 0.7196 - val_hamloss: 0.0828\n",
            "Epoch 6/20\n",
            "218/218 [==============================] - 1s 4ms/step - loss: 0.1781 - acc: 0.7282 - f1: 0.7096 - macro: 0.2967 - micro: 0.7603 - hamloss: 0.0698 - val_loss: 0.2039 - val_acc: 0.7025 - val_f1: 0.6723 - val_macro: 0.2753 - val_micro: 0.7347 - val_hamloss: 0.0809\n",
            "Epoch 7/20\n",
            "218/218 [==============================] - 1s 4ms/step - loss: 0.1691 - acc: 0.7362 - f1: 0.7266 - macro: 0.3295 - micro: 0.7692 - hamloss: 0.0679 - val_loss: 0.1950 - val_acc: 0.7048 - val_f1: 0.6959 - val_macro: 0.3101 - val_micro: 0.7435 - val_hamloss: 0.0768\n",
            "Epoch 8/20\n",
            "218/218 [==============================] - 1s 4ms/step - loss: 0.1582 - acc: 0.7380 - f1: 0.7557 - macro: 0.3670 - micro: 0.7896 - hamloss: 0.0629 - val_loss: 0.1942 - val_acc: 0.6568 - val_f1: 0.7188 - val_macro: 0.3564 - val_micro: 0.7486 - val_hamloss: 0.0765\n",
            "Epoch 9/20\n",
            "218/218 [==============================] - 1s 4ms/step - loss: 0.1483 - acc: 0.7454 - f1: 0.7798 - macro: 0.4048 - micro: 0.8050 - hamloss: 0.0586 - val_loss: 0.1928 - val_acc: 0.6911 - val_f1: 0.6995 - val_macro: 0.3543 - val_micro: 0.7301 - val_hamloss: 0.0795\n",
            "Epoch 10/20\n",
            "218/218 [==============================] - 1s 4ms/step - loss: 0.1385 - acc: 0.7276 - f1: 0.7998 - macro: 0.4251 - micro: 0.8222 - hamloss: 0.0540 - val_loss: 0.1985 - val_acc: 0.6842 - val_f1: 0.7072 - val_macro: 0.3712 - val_micro: 0.7317 - val_hamloss: 0.0797\n",
            "Epoch 11/20\n",
            "218/218 [==============================] - 1s 4ms/step - loss: 0.1326 - acc: 0.7362 - f1: 0.8067 - macro: 0.4302 - micro: 0.8281 - hamloss: 0.0522 - val_loss: 0.1893 - val_acc: 0.6888 - val_f1: 0.7359 - val_macro: 0.3836 - val_micro: 0.7623 - val_hamloss: 0.0736\n",
            "Epoch 12/20\n",
            "218/218 [==============================] - 1s 4ms/step - loss: 0.1257 - acc: 0.7299 - f1: 0.8232 - macro: 0.4609 - micro: 0.8414 - hamloss: 0.0484 - val_loss: 0.1910 - val_acc: 0.6453 - val_f1: 0.7382 - val_macro: 0.3891 - val_micro: 0.7592 - val_hamloss: 0.0757\n",
            "Epoch 13/20\n",
            "218/218 [==============================] - 1s 4ms/step - loss: 0.1186 - acc: 0.7351 - f1: 0.8361 - macro: 0.4817 - micro: 0.8521 - hamloss: 0.0454 - val_loss: 0.1939 - val_acc: 0.6636 - val_f1: 0.7415 - val_macro: 0.3947 - val_micro: 0.7640 - val_hamloss: 0.0725\n",
            "Epoch 14/20\n",
            "218/218 [==============================] - 1s 4ms/step - loss: 0.1129 - acc: 0.7213 - f1: 0.8402 - macro: 0.4856 - micro: 0.8553 - hamloss: 0.0444 - val_loss: 0.2033 - val_acc: 0.7162 - val_f1: 0.7190 - val_macro: 0.3618 - val_micro: 0.7534 - val_hamloss: 0.0767\n",
            "Epoch 15/20\n",
            "218/218 [==============================] - 1s 4ms/step - loss: 0.1072 - acc: 0.7328 - f1: 0.8502 - macro: 0.5081 - micro: 0.8640 - hamloss: 0.0418 - val_loss: 0.2043 - val_acc: 0.6659 - val_f1: 0.7197 - val_macro: 0.3951 - val_micro: 0.7361 - val_hamloss: 0.0816\n",
            "Epoch 16/20\n",
            "218/218 [==============================] - 1s 4ms/step - loss: 0.1014 - acc: 0.7397 - f1: 0.8628 - macro: 0.5292 - micro: 0.8748 - hamloss: 0.0386 - val_loss: 0.1993 - val_acc: 0.6773 - val_f1: 0.7328 - val_macro: 0.3862 - val_micro: 0.7577 - val_hamloss: 0.0751\n",
            "Epoch 17/20\n",
            "218/218 [==============================] - 1s 4ms/step - loss: 0.0964 - acc: 0.7380 - f1: 0.8693 - macro: 0.5410 - micro: 0.8803 - hamloss: 0.0371 - val_loss: 0.2180 - val_acc: 0.6178 - val_f1: 0.7184 - val_macro: 0.3803 - val_micro: 0.7363 - val_hamloss: 0.0824\n",
            "Epoch 18/20\n",
            "218/218 [==============================] - 1s 4ms/step - loss: 0.0914 - acc: 0.7294 - f1: 0.8803 - macro: 0.5628 - micro: 0.8897 - hamloss: 0.0344 - val_loss: 0.2073 - val_acc: 0.6979 - val_f1: 0.7359 - val_macro: 0.4082 - val_micro: 0.7607 - val_hamloss: 0.0744\n",
            "Epoch 19/20\n",
            "218/218 [==============================] - 1s 4ms/step - loss: 0.0854 - acc: 0.7328 - f1: 0.8897 - macro: 0.5841 - micro: 0.8974 - hamloss: 0.0318 - val_loss: 0.2161 - val_acc: 0.6476 - val_f1: 0.7275 - val_macro: 0.3917 - val_micro: 0.7448 - val_hamloss: 0.0793\n",
            "Epoch 20/20\n",
            "218/218 [==============================] - 1s 4ms/step - loss: 0.0804 - acc: 0.7311 - f1: 0.9030 - macro: 0.5979 - micro: 0.9102 - hamloss: 0.0280 - val_loss: 0.2167 - val_acc: 0.6545 - val_f1: 0.7318 - val_macro: 0.3988 - val_micro: 0.7477 - val_hamloss: 0.0780\n"
          ],
          "name": "stdout"
        }
      ]
    },
    {
      "cell_type": "code",
      "metadata": {
        "id": "YiK0QiVIxmkW",
        "outputId": "1c534aa5-c146-442d-bd91-e46e333a3f74",
        "colab": {
          "base_uri": "https://localhost:8080/",
          "height": 34
        }
      },
      "source": [
        "score = model.evaluate(X_test, y_test, verbose=1)"
      ],
      "execution_count": null,
      "outputs": [
        {
          "output_type": "stream",
          "text": [
            "8/8 [==============================] - 0s 3ms/step - loss: 0.2270 - acc: 0.6255 - f1: 0.7435 - macro: 0.4077 - micro: 0.7541 - hamloss: 0.0772\n"
          ],
          "name": "stdout"
        }
      ]
    },
    {
      "cell_type": "code",
      "metadata": {
        "id": "6o8p6HcnhLET",
        "outputId": "26ad7b20-a9da-467f-c49d-b439eed8d09a",
        "colab": {
          "base_uri": "https://localhost:8080/",
          "height": 573
        }
      },
      "source": [
        "import matplotlib.pyplot as plt\n",
        "\n",
        "plt.plot(history.history['acc'])\n",
        "plt.plot(history.history['val_acc'])\n",
        "\n",
        "plt.title('model accuracy')\n",
        "plt.ylabel('accuracy')\n",
        "plt.xlabel('epoch')\n",
        "plt.legend(['train','test'], loc='upper left')\n",
        "plt.show()\n",
        "\n",
        "plt.plot(history.history['loss'])\n",
        "plt.plot(history.history['val_loss'])\n",
        "\n",
        "plt.title('model loss')\n",
        "plt.ylabel('loss')\n",
        "plt.xlabel('epoch')\n",
        "plt.legend(['train','test'], loc='upper left')\n",
        "plt.show()"
      ],
      "execution_count": null,
      "outputs": [
        {
          "output_type": "display_data",
          "data": {
            "image/png": "[encoded data removed]",
            "text/plain": [
              "<Figure size 432x288 with 1 Axes>"
            ]
          },
          "metadata": {
            "tags": [],
            "needs_background": "light"
          }
        },
        {
          "output_type": "display_data",
          "data": {
            "image/png": "[encoded data removed]",
            "text/plain": [
              "<Figure size 432x288 with 1 Axes>"
            ]
          },
          "metadata": {
            "tags": [],
            "needs_background": "light"
          }
        }
      ]
    },
    {
      "cell_type": "markdown",
      "metadata": {
        "id": "qQnFh-sk7LQB"
      },
      "source": [
        "# ALBERT"
      ]
    },
    {
      "cell_type": "code",
      "metadata": {
        "id": "1mhm9Px77LQN",
        "outputId": "bc3622cc-dc68-4756-f7f2-7f7ad4d8a6d6",
        "colab": {
          "base_uri": "https://localhost:8080/",
          "height": 164,
          "referenced_widgets": [
            "1c7b9133cbed478e978721bf1176f26f",
            "73d76c89f8d94a9aa6631a410135f29d",
            "c4836deaf80745a6a0d15853a4a07a0e",
            "67e45c62b5624c9093f686e21a700f7d",
            "356327e985644601834ffaac6ad09d4e",
            "11a3548e4e114e228d7c3bf71cba2cc6",
            "6d3238f1ef30476d9a4f9318772ccf98",
            "9bd658afd89f4e2ca48eb4b75d7cabbb",
            "66673709dcb348028a1b136e7d8b2a76",
            "14a1fea9a6a049eabc76c75d4d5131f7",
            "c1284fd3995441ac8c61df55bc527ca4",
            "eb6850771ecd432da273c4c0c1501bd5",
            "84aaae17ab5e4da5a097945d718bf5ae",
            "eaf8dd7addfb4112a942628abcb26c54",
            "cd2292e086d547699fe6e348ee78c688",
            "20da699886984e61a3b82af3679cb0ed",
            "9e079978a10143798678f7148d8f57bc",
            "862211ee717746508826bb38b5a4535c",
            "6000ff642c924e1d9d41e72e4452acbf",
            "a8d268852b524074b8d3d33b17df89e7",
            "06facf98d994485d96efc287fae887d2",
            "e3cd12ade12f403f96b9531872fed155",
            "43053cedb32f43999e1f46a8be85ccba",
            "d4acff0c439d4dd2a56c561e1c77d6c9"
          ]
        }
      },
      "source": [
        "config = AutoConfig.from_pretrained(\"m3hrdadfi/albert-fa-base-v2\")\n",
        "tokenizer = AutoTokenizer.from_pretrained(\"m3hrdadfi/albert-fa-base-v2\")\n",
        "bert_model = AutoModel.from_pretrained(\"m3hrdadfi/albert-fa-base-v2\")"
      ],
      "execution_count": null,
      "outputs": [
        {
          "output_type": "display_data",
          "data": {
            "application/vnd.jupyter.widget-view+json": {
              "model_id": "1c7b9133cbed478e978721bf1176f26f",
              "version_minor": 0,
              "version_major": 2
            },
            "text/plain": [
              "HBox(children=(FloatProgress(value=0.0, description='Downloading', max=684.0, style=ProgressStyle(description_…"
            ]
          },
          "metadata": {
            "tags": []
          }
        },
        {
          "output_type": "stream",
          "text": [
            "\n"
          ],
          "name": "stdout"
        },
        {
          "output_type": "display_data",
          "data": {
            "application/vnd.jupyter.widget-view+json": {
              "model_id": "66673709dcb348028a1b136e7d8b2a76",
              "version_minor": 0,
              "version_major": 2
            },
            "text/plain": [
              "HBox(children=(FloatProgress(value=0.0, description='Downloading', max=1882978.0, style=ProgressStyle(descript…"
            ]
          },
          "metadata": {
            "tags": []
          }
        },
        {
          "output_type": "stream",
          "text": [
            "\n"
          ],
          "name": "stdout"
        },
        {
          "output_type": "display_data",
          "data": {
            "application/vnd.jupyter.widget-view+json": {
              "model_id": "9e079978a10143798678f7148d8f57bc",
              "version_minor": 0,
              "version_major": 2
            },
            "text/plain": [
              "HBox(children=(FloatProgress(value=0.0, description='Downloading', max=73062448.0, style=ProgressStyle(descrip…"
            ]
          },
          "metadata": {
            "tags": []
          }
        },
        {
          "output_type": "stream",
          "text": [
            "\n"
          ],
          "name": "stdout"
        }
      ]
    },
    {
      "cell_type": "code",
      "metadata": {
        "id": "wOiozxD9kqRH"
      },
      "source": [
        "# def get_embedding(sent):\n",
        "#     input_sentence = torch.tensor(tokenizer.encode(sent, max_length = 500)).unsqueeze(0)\n",
        "#     out = bert_model(input_sentence)\n",
        "#     embeddings_of_last_layer = out[0]\n",
        "#     cls_embeddings = embeddings_of_last_layer[0][0]\n",
        "#     cls_embeddings = cls_embeddings.detach().numpy()\n",
        "#     return cls_embeddings"
      ],
      "execution_count": null,
      "outputs": []
    },
    {
      "cell_type": "code",
      "metadata": {
        "id": "jVAQVz_-7LQd"
      },
      "source": [
        "# df_types_bert = pd.read_csv(\"/content/drive/My Drive/topics-for-types/df_types.csv\")"
      ],
      "execution_count": null,
      "outputs": []
    },
    {
      "cell_type": "code",
      "metadata": {
        "id": "_dJnPuA97LQl",
        "outputId": "6b042228-2099-4636-fd4a-d73516e37812",
        "colab": {
          "base_uri": "https://localhost:8080/",
          "height": 204
        }
      },
      "source": [
        "# df_types_bert['sentence'] = df_types_bert['sentence'].apply(lambda sent: get_embedding(sent))\n",
        "# df_types_bert.to_csv(\"/content/drive/My Drive/topics-for-types/df_types_bert.csv\", index=False)\n",
        "# df_types_bert.head()"
      ],
      "execution_count": null,
      "outputs": [
        {
          "output_type": "execute_result",
          "data": {
            "text/html": [
              "<div>\n",
              "<style scoped>\n",
              "    .dataframe tbody tr th:only-of-type {\n",
              "        vertical-align: middle;\n",
              "    }\n",
              "\n",
              "    .dataframe tbody tr th {\n",
              "        vertical-align: top;\n",
              "    }\n",
              "\n",
              "    .dataframe thead th {\n",
              "        text-align: right;\n",
              "    }\n",
              "</style>\n",
              "<table border=\"1\" class=\"dataframe\">\n",
              "  <thead>\n",
              "    <tr style=\"text-align: right;\">\n",
              "      <th></th>\n",
              "      <th>sentence</th>\n",
              "      <th>انتخاب</th>\n",
              "      <th>بله/خیر</th>\n",
              "      <th>ترجمه</th>\n",
              "      <th>تعامل</th>\n",
              "      <th>تعریف</th>\n",
              "      <th>توضیح</th>\n",
              "      <th>دلیل</th>\n",
              "      <th>ریاضی</th>\n",
              "      <th>لیست</th>\n",
              "      <th>نظر</th>\n",
              "      <th>واقعیت</th>\n",
              "      <th>پیشنهاد</th>\n",
              "    </tr>\n",
              "  </thead>\n",
              "  <tbody>\n",
              "    <tr>\n",
              "      <th>0</th>\n",
              "      <td>[-0.5841074, -0.017078003, -0.32405344, -0.645...</td>\n",
              "      <td>0</td>\n",
              "      <td>0</td>\n",
              "      <td>0</td>\n",
              "      <td>0</td>\n",
              "      <td>1</td>\n",
              "      <td>1</td>\n",
              "      <td>0</td>\n",
              "      <td>0</td>\n",
              "      <td>0</td>\n",
              "      <td>1</td>\n",
              "      <td>0</td>\n",
              "      <td>0</td>\n",
              "    </tr>\n",
              "    <tr>\n",
              "      <th>1</th>\n",
              "      <td>[-0.31120673, -0.0050979797, 0.10509731, -0.36...</td>\n",
              "      <td>0</td>\n",
              "      <td>1</td>\n",
              "      <td>0</td>\n",
              "      <td>0</td>\n",
              "      <td>0</td>\n",
              "      <td>1</td>\n",
              "      <td>0</td>\n",
              "      <td>0</td>\n",
              "      <td>0</td>\n",
              "      <td>1</td>\n",
              "      <td>0</td>\n",
              "      <td>0</td>\n",
              "    </tr>\n",
              "    <tr>\n",
              "      <th>2</th>\n",
              "      <td>[0.05544515, -0.23301096, 0.12021764, -0.33959...</td>\n",
              "      <td>0</td>\n",
              "      <td>0</td>\n",
              "      <td>0</td>\n",
              "      <td>0</td>\n",
              "      <td>0</td>\n",
              "      <td>1</td>\n",
              "      <td>1</td>\n",
              "      <td>0</td>\n",
              "      <td>0</td>\n",
              "      <td>1</td>\n",
              "      <td>0</td>\n",
              "      <td>0</td>\n",
              "    </tr>\n",
              "    <tr>\n",
              "      <th>3</th>\n",
              "      <td>[0.37881416, -0.1909234, 0.16427912, -0.383240...</td>\n",
              "      <td>0</td>\n",
              "      <td>0</td>\n",
              "      <td>0</td>\n",
              "      <td>0</td>\n",
              "      <td>0</td>\n",
              "      <td>1</td>\n",
              "      <td>1</td>\n",
              "      <td>0</td>\n",
              "      <td>0</td>\n",
              "      <td>1</td>\n",
              "      <td>0</td>\n",
              "      <td>0</td>\n",
              "    </tr>\n",
              "    <tr>\n",
              "      <th>4</th>\n",
              "      <td>[-0.46968994, -0.2401005, 0.20189604, -0.20498...</td>\n",
              "      <td>0</td>\n",
              "      <td>0</td>\n",
              "      <td>0</td>\n",
              "      <td>0</td>\n",
              "      <td>1</td>\n",
              "      <td>0</td>\n",
              "      <td>0</td>\n",
              "      <td>0</td>\n",
              "      <td>1</td>\n",
              "      <td>1</td>\n",
              "      <td>0</td>\n",
              "      <td>0</td>\n",
              "    </tr>\n",
              "  </tbody>\n",
              "</table>\n",
              "</div>"
            ],
            "text/plain": [
              "                                            sentence  انتخاب  ...  واقعیت  پیشنهاد\n",
              "0  [-0.5841074, -0.017078003, -0.32405344, -0.645...       0  ...       0        0\n",
              "1  [-0.31120673, -0.0050979797, 0.10509731, -0.36...       0  ...       0        0\n",
              "2  [0.05544515, -0.23301096, 0.12021764, -0.33959...       0  ...       0        0\n",
              "3  [0.37881416, -0.1909234, 0.16427912, -0.383240...       0  ...       0        0\n",
              "4  [-0.46968994, -0.2401005, 0.20189604, -0.20498...       0  ...       0        0\n",
              "\n",
              "[5 rows x 13 columns]"
            ]
          },
          "metadata": {
            "tags": []
          },
          "execution_count": 90
        }
      ]
    },
    {
      "cell_type": "code",
      "metadata": {
        "id": "ipJXyeK_onoh",
        "outputId": "6ec3fe3f-48c8-4de5-d1c0-97ac79f0168c",
        "colab": {
          "base_uri": "https://localhost:8080/",
          "height": 204
        }
      },
      "source": [
        "df_types_bert = pd.read_csv(\"/content/drive/My Drive/topics-for-types/df_types_albert.csv\")\n",
        "df_types_bert['sentence'] = df_types_bert['sentence'].apply(lambda x: \n",
        "                           np.fromstring(\n",
        "                               x.replace('\\n','')\n",
        "                                .replace('[','')\n",
        "                                .replace(']','')\n",
        "                                .replace('  ',' '), sep=' '))\n",
        "df_types_bert.head()"
      ],
      "execution_count": null,
      "outputs": [
        {
          "output_type": "execute_result",
          "data": {
            "text/html": [
              "<div>\n",
              "<style scoped>\n",
              "    .dataframe tbody tr th:only-of-type {\n",
              "        vertical-align: middle;\n",
              "    }\n",
              "\n",
              "    .dataframe tbody tr th {\n",
              "        vertical-align: top;\n",
              "    }\n",
              "\n",
              "    .dataframe thead th {\n",
              "        text-align: right;\n",
              "    }\n",
              "</style>\n",
              "<table border=\"1\" class=\"dataframe\">\n",
              "  <thead>\n",
              "    <tr style=\"text-align: right;\">\n",
              "      <th></th>\n",
              "      <th>sentence</th>\n",
              "      <th>انتخاب</th>\n",
              "      <th>بله/خیر</th>\n",
              "      <th>ترجمه</th>\n",
              "      <th>تعامل</th>\n",
              "      <th>تعریف</th>\n",
              "      <th>توضیح</th>\n",
              "      <th>دلیل</th>\n",
              "      <th>ریاضی</th>\n",
              "      <th>لیست</th>\n",
              "      <th>نظر</th>\n",
              "      <th>واقعیت</th>\n",
              "      <th>پیشنهاد</th>\n",
              "    </tr>\n",
              "  </thead>\n",
              "  <tbody>\n",
              "    <tr>\n",
              "      <th>0</th>\n",
              "      <td>[-0.584107399, -0.0170780029, -0.324053437, -0...</td>\n",
              "      <td>0</td>\n",
              "      <td>0</td>\n",
              "      <td>0</td>\n",
              "      <td>0</td>\n",
              "      <td>1</td>\n",
              "      <td>1</td>\n",
              "      <td>0</td>\n",
              "      <td>0</td>\n",
              "      <td>0</td>\n",
              "      <td>1</td>\n",
              "      <td>0</td>\n",
              "      <td>0</td>\n",
              "    </tr>\n",
              "    <tr>\n",
              "      <th>1</th>\n",
              "      <td>[-0.311206728, -0.00509797968, 0.105097309, -0...</td>\n",
              "      <td>0</td>\n",
              "      <td>1</td>\n",
              "      <td>0</td>\n",
              "      <td>0</td>\n",
              "      <td>0</td>\n",
              "      <td>1</td>\n",
              "      <td>0</td>\n",
              "      <td>0</td>\n",
              "      <td>0</td>\n",
              "      <td>1</td>\n",
              "      <td>0</td>\n",
              "      <td>0</td>\n",
              "    </tr>\n",
              "    <tr>\n",
              "      <th>2</th>\n",
              "      <td>[0.0554451495, -0.233010963, 0.120217644, -0.3...</td>\n",
              "      <td>0</td>\n",
              "      <td>0</td>\n",
              "      <td>0</td>\n",
              "      <td>0</td>\n",
              "      <td>0</td>\n",
              "      <td>1</td>\n",
              "      <td>1</td>\n",
              "      <td>0</td>\n",
              "      <td>0</td>\n",
              "      <td>1</td>\n",
              "      <td>0</td>\n",
              "      <td>0</td>\n",
              "    </tr>\n",
              "    <tr>\n",
              "      <th>3</th>\n",
              "      <td>[0.378814161, -0.190923393, 0.164279118, -0.38...</td>\n",
              "      <td>0</td>\n",
              "      <td>0</td>\n",
              "      <td>0</td>\n",
              "      <td>0</td>\n",
              "      <td>0</td>\n",
              "      <td>1</td>\n",
              "      <td>1</td>\n",
              "      <td>0</td>\n",
              "      <td>0</td>\n",
              "      <td>1</td>\n",
              "      <td>0</td>\n",
              "      <td>0</td>\n",
              "    </tr>\n",
              "    <tr>\n",
              "      <th>4</th>\n",
              "      <td>[-0.469689935, -0.240100503, 0.201896042, -0.2...</td>\n",
              "      <td>0</td>\n",
              "      <td>0</td>\n",
              "      <td>0</td>\n",
              "      <td>0</td>\n",
              "      <td>1</td>\n",
              "      <td>0</td>\n",
              "      <td>0</td>\n",
              "      <td>0</td>\n",
              "      <td>1</td>\n",
              "      <td>1</td>\n",
              "      <td>0</td>\n",
              "      <td>0</td>\n",
              "    </tr>\n",
              "  </tbody>\n",
              "</table>\n",
              "</div>"
            ],
            "text/plain": [
              "                                            sentence  انتخاب  ...  واقعیت  پیشنهاد\n",
              "0  [-0.584107399, -0.0170780029, -0.324053437, -0...       0  ...       0        0\n",
              "1  [-0.311206728, -0.00509797968, 0.105097309, -0...       0  ...       0        0\n",
              "2  [0.0554451495, -0.233010963, 0.120217644, -0.3...       0  ...       0        0\n",
              "3  [0.378814161, -0.190923393, 0.164279118, -0.38...       0  ...       0        0\n",
              "4  [-0.469689935, -0.240100503, 0.201896042, -0.2...       0  ...       0        0\n",
              "\n",
              "[5 rows x 13 columns]"
            ]
          },
          "metadata": {
            "tags": []
          },
          "execution_count": 30
        }
      ]
    },
    {
      "cell_type": "code",
      "metadata": {
        "id": "peiiVocu7LQq",
        "outputId": "4647c807-97a9-48a3-af20-5bf8b052106a",
        "colab": {
          "base_uri": "https://localhost:8080/",
          "height": 34
        }
      },
      "source": [
        "X = np.array(df_types_bert[df_types_bert.columns[0]])\n",
        "X = np.vstack(X)\n",
        "\n",
        "Y = df_types_bert[df_types_bert.columns[1:]].values\n",
        "\n",
        "X.shape, Y.shape"
      ],
      "execution_count": null,
      "outputs": [
        {
          "output_type": "execute_result",
          "data": {
            "text/plain": [
              "((2424, 768), (2424, 12))"
            ]
          },
          "metadata": {
            "tags": []
          },
          "execution_count": 31
        }
      ]
    },
    {
      "cell_type": "code",
      "metadata": {
        "id": "F40dV3XV7LQt"
      },
      "source": [
        "X_train, X_test, y_train, y_test = train_test_split(X, Y, test_size=0.10)"
      ],
      "execution_count": null,
      "outputs": []
    },
    {
      "cell_type": "code",
      "metadata": {
        "id": "PoDo8cwa7LQv",
        "outputId": "2174f845-f644-45f5-eba2-3f96c77c8987",
        "colab": {
          "base_uri": "https://localhost:8080/",
          "height": 34
        }
      },
      "source": [
        "len(X_train),len(X_test),len(y_train),len(y_test)"
      ],
      "execution_count": null,
      "outputs": [
        {
          "output_type": "execute_result",
          "data": {
            "text/plain": [
              "(2181, 243, 2181, 243)"
            ]
          },
          "metadata": {
            "tags": []
          },
          "execution_count": 35
        }
      ]
    },
    {
      "cell_type": "code",
      "metadata": {
        "id": "-6VNFGrx7LQ1",
        "outputId": "12c4c289-3b7b-47bb-940a-453960546a06",
        "colab": {
          "base_uri": "https://localhost:8080/",
          "height": 238
        }
      },
      "source": [
        "model = tf.keras.Sequential([\n",
        "    tf.keras.layers.Input(shape=X[0].shape, name='input_layer'),\n",
        "    tf.keras.layers.Dense(128, activation='relu', name='Dense_Layer',\n",
        "                          activity_regularizer=tf.keras.regularizers.l2()),\n",
        "    # tf.keras.layers.Dropout(rate=0.2, name=\"Dropout\"),\n",
        "    # tf.keras.layers.Dense(100, activation='relu', name='Dense_Layer2',\n",
        "                          # activity_regularizer=tf.keras.regularizers.l2()),\n",
        "    # tf.keras.layers.Dropout(rate=0.2, name=\"Dropout2\"),\n",
        "    tf.keras.layers.Dense(12, activation='sigmoid', name='Dense_Layer3'),\n",
        "\n",
        "  ], name='ALBERT_MODEL')\n",
        "\n",
        "model.compile(loss='binary_crossentropy', optimizer='adam', \n",
        "              metrics=['acc',\n",
        "                       tfa.metrics.f_scores.F1Score(12,'weighted', threshold=0.5, name='f1'),\n",
        "                       tfa.metrics.f_scores.F1Score(12,'macro',threshold=0.5, name='macro'),\n",
        "                       tfa.metrics.f_scores.F1Score(12,'micro',threshold=0.5, name='micro'),\n",
        "                       tfa.metrics.HammingLoss(mode='multilabel',threshold=0.5, name='hamloss')])\n",
        "print(model.summary())"
      ],
      "execution_count": null,
      "outputs": [
        {
          "output_type": "stream",
          "text": [
            "Model: \"BERT_MODEL\"\n",
            "_________________________________________________________________\n",
            "Layer (type)                 Output Shape              Param #   \n",
            "=================================================================\n",
            "Dense_Layer (Dense)          (None, 128)               98432     \n",
            "_________________________________________________________________\n",
            "Dense_Layer3 (Dense)         (None, 12)                1548      \n",
            "=================================================================\n",
            "Total params: 99,980\n",
            "Trainable params: 99,980\n",
            "Non-trainable params: 0\n",
            "_________________________________________________________________\n",
            "None\n"
          ],
          "name": "stdout"
        }
      ]
    },
    {
      "cell_type": "code",
      "metadata": {
        "id": "oUMOG_Qa7LQ4",
        "outputId": "8e3434b1-d35e-428b-b08a-c993209c2d3d",
        "colab": {
          "base_uri": "https://localhost:8080/",
          "height": 717
        }
      },
      "source": [
        "history = model.fit(X_train, y_train, batch_size=8, epochs=20, verbose=1, validation_split=0.2)"
      ],
      "execution_count": null,
      "outputs": [
        {
          "output_type": "stream",
          "text": [
            "Epoch 1/20\n",
            "218/218 [==============================] - 1s 5ms/step - loss: 0.4548 - acc: 0.4765 - f1: 0.4969 - macro: 0.1542 - micro: 0.5778 - hamloss: 0.1141 - val_loss: 0.3659 - val_acc: 0.5011 - val_f1: 0.5506 - val_macro: 0.1732 - val_micro: 0.6462 - val_hamloss: 0.0990\n",
            "Epoch 2/20\n",
            "218/218 [==============================] - 1s 4ms/step - loss: 0.3315 - acc: 0.6009 - f1: 0.5848 - macro: 0.1861 - micro: 0.6789 - hamloss: 0.0901 - val_loss: 0.3187 - val_acc: 0.6087 - val_f1: 0.5523 - val_macro: 0.1742 - val_micro: 0.6498 - val_hamloss: 0.0974\n",
            "Epoch 3/20\n",
            "218/218 [==============================] - 1s 4ms/step - loss: 0.2953 - acc: 0.6640 - f1: 0.6051 - macro: 0.1948 - micro: 0.7001 - hamloss: 0.0860 - val_loss: 0.2914 - val_acc: 0.6934 - val_f1: 0.5965 - val_macro: 0.1957 - val_micro: 0.6871 - val_hamloss: 0.0915\n",
            "Epoch 4/20\n",
            "218/218 [==============================] - 1s 4ms/step - loss: 0.2715 - acc: 0.7064 - f1: 0.6204 - macro: 0.2043 - micro: 0.7117 - hamloss: 0.0824 - val_loss: 0.2753 - val_acc: 0.6957 - val_f1: 0.6184 - val_macro: 0.2084 - val_micro: 0.7050 - val_hamloss: 0.0870\n",
            "Epoch 5/20\n",
            "218/218 [==============================] - 1s 4ms/step - loss: 0.2578 - acc: 0.7053 - f1: 0.6553 - macro: 0.2416 - micro: 0.7325 - hamloss: 0.0774 - val_loss: 0.2965 - val_acc: 0.7185 - val_f1: 0.5290 - val_macro: 0.1678 - val_micro: 0.6517 - val_hamloss: 0.0978\n",
            "Epoch 6/20\n",
            "218/218 [==============================] - 1s 4ms/step - loss: 0.2420 - acc: 0.7196 - f1: 0.6765 - macro: 0.2646 - micro: 0.7455 - hamloss: 0.0737 - val_loss: 0.2658 - val_acc: 0.7025 - val_f1: 0.6158 - val_macro: 0.2561 - val_micro: 0.6893 - val_hamloss: 0.0908\n",
            "Epoch 7/20\n",
            "218/218 [==============================] - 1s 4ms/step - loss: 0.2333 - acc: 0.7265 - f1: 0.6976 - macro: 0.2920 - micro: 0.7565 - hamloss: 0.0713 - val_loss: 0.2587 - val_acc: 0.7140 - val_f1: 0.6582 - val_macro: 0.2617 - val_micro: 0.7278 - val_hamloss: 0.0820\n",
            "Epoch 8/20\n",
            "218/218 [==============================] - 1s 4ms/step - loss: 0.2239 - acc: 0.7225 - f1: 0.7258 - macro: 0.3310 - micro: 0.7747 - hamloss: 0.0663 - val_loss: 0.2541 - val_acc: 0.6979 - val_f1: 0.6560 - val_macro: 0.2822 - val_micro: 0.7134 - val_hamloss: 0.0833\n",
            "Epoch 9/20\n",
            "218/218 [==============================] - 1s 4ms/step - loss: 0.2176 - acc: 0.7294 - f1: 0.7317 - macro: 0.3259 - micro: 0.7792 - hamloss: 0.0652 - val_loss: 0.2490 - val_acc: 0.6911 - val_f1: 0.6640 - val_macro: 0.3009 - val_micro: 0.7158 - val_hamloss: 0.0839\n",
            "Epoch 10/20\n",
            "218/218 [==============================] - 1s 4ms/step - loss: 0.2115 - acc: 0.7351 - f1: 0.7480 - macro: 0.3537 - micro: 0.7884 - hamloss: 0.0630 - val_loss: 0.2484 - val_acc: 0.6453 - val_f1: 0.6771 - val_macro: 0.3126 - val_micro: 0.7252 - val_hamloss: 0.0847\n",
            "Epoch 11/20\n",
            "218/218 [==============================] - 1s 4ms/step - loss: 0.2049 - acc: 0.7448 - f1: 0.7585 - macro: 0.3641 - micro: 0.7971 - hamloss: 0.0605 - val_loss: 0.2492 - val_acc: 0.6636 - val_f1: 0.6881 - val_macro: 0.3164 - val_micro: 0.7329 - val_hamloss: 0.0835\n",
            "Epoch 12/20\n",
            "218/218 [==============================] - 1s 4ms/step - loss: 0.2001 - acc: 0.7466 - f1: 0.7716 - macro: 0.3879 - micro: 0.8029 - hamloss: 0.0591 - val_loss: 0.2531 - val_acc: 0.6110 - val_f1: 0.6614 - val_macro: 0.3203 - val_micro: 0.7066 - val_hamloss: 0.0870\n",
            "Epoch 13/20\n",
            "218/218 [==============================] - 1s 4ms/step - loss: 0.1908 - acc: 0.7219 - f1: 0.7858 - macro: 0.4045 - micro: 0.8148 - hamloss: 0.0556 - val_loss: 0.2562 - val_acc: 0.7231 - val_f1: 0.6591 - val_macro: 0.3009 - val_micro: 0.7168 - val_hamloss: 0.0862\n",
            "Epoch 14/20\n",
            "218/218 [==============================] - 1s 4ms/step - loss: 0.1858 - acc: 0.7357 - f1: 0.7936 - macro: 0.4145 - micro: 0.8206 - hamloss: 0.0543 - val_loss: 0.2483 - val_acc: 0.6613 - val_f1: 0.6763 - val_macro: 0.3180 - val_micro: 0.7249 - val_hamloss: 0.0858\n",
            "Epoch 15/20\n",
            "218/218 [==============================] - 1s 4ms/step - loss: 0.1801 - acc: 0.7380 - f1: 0.8024 - macro: 0.4255 - micro: 0.8281 - hamloss: 0.0520 - val_loss: 0.2423 - val_acc: 0.7002 - val_f1: 0.7032 - val_macro: 0.3625 - val_micro: 0.7390 - val_hamloss: 0.0803\n",
            "Epoch 16/20\n",
            "218/218 [==============================] - 1s 4ms/step - loss: 0.1774 - acc: 0.7362 - f1: 0.8056 - macro: 0.4274 - micro: 0.8300 - hamloss: 0.0515 - val_loss: 0.2449 - val_acc: 0.6568 - val_f1: 0.7059 - val_macro: 0.3548 - val_micro: 0.7399 - val_hamloss: 0.0822\n",
            "Epoch 17/20\n",
            "218/218 [==============================] - 1s 4ms/step - loss: 0.1706 - acc: 0.7431 - f1: 0.8157 - macro: 0.4370 - micro: 0.8395 - hamloss: 0.0486 - val_loss: 0.2452 - val_acc: 0.6636 - val_f1: 0.7015 - val_macro: 0.3565 - val_micro: 0.7360 - val_hamloss: 0.0809\n",
            "Epoch 18/20\n",
            "218/218 [==============================] - 1s 4ms/step - loss: 0.1675 - acc: 0.7552 - f1: 0.8206 - macro: 0.4430 - micro: 0.8432 - hamloss: 0.0476 - val_loss: 0.2408 - val_acc: 0.6453 - val_f1: 0.7008 - val_macro: 0.3456 - val_micro: 0.7334 - val_hamloss: 0.0818\n",
            "Epoch 19/20\n",
            "218/218 [==============================] - 1s 4ms/step - loss: 0.1657 - acc: 0.7477 - f1: 0.8222 - macro: 0.4458 - micro: 0.8445 - hamloss: 0.0473 - val_loss: 0.2361 - val_acc: 0.6705 - val_f1: 0.7085 - val_macro: 0.3682 - val_micro: 0.7380 - val_hamloss: 0.0812\n",
            "Epoch 20/20\n",
            "218/218 [==============================] - 1s 4ms/step - loss: 0.1611 - acc: 0.7477 - f1: 0.8284 - macro: 0.4555 - micro: 0.8488 - hamloss: 0.0461 - val_loss: 0.2353 - val_acc: 0.6865 - val_f1: 0.7011 - val_macro: 0.3614 - val_micro: 0.7299 - val_hamloss: 0.0831\n"
          ],
          "name": "stdout"
        }
      ]
    },
    {
      "cell_type": "code",
      "metadata": {
        "id": "luObyoYB7LQ6",
        "outputId": "c94c7b88-787f-4930-ebfb-d3b177284add",
        "colab": {
          "base_uri": "https://localhost:8080/",
          "height": 34
        }
      },
      "source": [
        "score = model.evaluate(X_test, y_test, verbose=1)"
      ],
      "execution_count": null,
      "outputs": [
        {
          "output_type": "stream",
          "text": [
            "8/8 [==============================] - 0s 3ms/step - loss: 0.2373 - acc: 0.6543 - f1: 0.7090 - macro: 0.3414 - micro: 0.7333 - hamloss: 0.0823\n"
          ],
          "name": "stdout"
        }
      ]
    },
    {
      "cell_type": "code",
      "metadata": {
        "id": "LzKKewPO7LQ8",
        "outputId": "acc32922-f2da-4abf-edee-f61ecee60680",
        "colab": {
          "base_uri": "https://localhost:8080/",
          "height": 573
        }
      },
      "source": [
        "import matplotlib.pyplot as plt\n",
        "\n",
        "plt.plot(history.history['acc'])\n",
        "plt.plot(history.history['val_acc'])\n",
        "\n",
        "plt.title('model accuracy')\n",
        "plt.ylabel('accuracy')\n",
        "plt.xlabel('epoch')\n",
        "plt.legend(['train','test'], loc='upper left')\n",
        "plt.show()\n",
        "\n",
        "plt.plot(history.history['loss'])\n",
        "plt.plot(history.history['val_loss'])\n",
        "\n",
        "plt.title('model loss')\n",
        "plt.ylabel('loss')\n",
        "plt.xlabel('epoch')\n",
        "plt.legend(['train','test'], loc='upper left')\n",
        "plt.show()"
      ],
      "execution_count": null,
      "outputs": [
        {
          "output_type": "display_data",
          "data": {
            "image/png": "[encoded data removed]",
            "text/plain": [
              "<Figure size 432x288 with 1 Axes>"
            ]
          },
          "metadata": {
            "tags": [],
            "needs_background": "light"
          }
        },
        {
          "output_type": "display_data",
          "data": {
            "image/png": "[encoded data removed]",
            "text/plain": [
              "<Figure size 432x288 with 1 Axes>"
            ]
          },
          "metadata": {
            "tags": [],
            "needs_background": "light"
          }
        }
      ]
    },
    {
      "cell_type": "markdown",
      "metadata": {
        "id": "23bqPkUFAUc8"
      },
      "source": [
        "# BERT"
      ]
    },
    {
      "cell_type": "code",
      "metadata": {
        "id": "fJlCUsYvAUdG",
        "outputId": "a8df1819-243b-47dd-81f0-fb5c05e6d1c1",
        "colab": {
          "base_uri": "https://localhost:8080/",
          "height": 164,
          "referenced_widgets": [
            "e871ee251b5341148aa1cbd8ef18ec69",
            "a81cfe3a13fb44a4bea9952e9afcfdaf",
            "367b70c757e441af89fd1363e2c96ca4",
            "47da00665e2949bbac8f0d048694d079",
            "b49ec9f82d0840e98c2970ac8796ba0e",
            "f600658defc04c6185cd139db9c1ddb8",
            "fe33ffe7192447108f703720f624bfa9",
            "034f52afa0574ef2a3ea5da773a2fc21",
            "2b3844ad73f245459ff39d62e8193a96",
            "9956d40030af4247b300082460bb92c1",
            "1e14c4fd34bf4cfc80d4004438dc3ba0",
            "d16c8d16b1a14cb0924f36b1d1ff8269",
            "ca526f917cc6456abead77d360cfbb60",
            "44324737340341c089db8858bd3f08bb",
            "b8a0c876901d4e8daef13d4dd580a533",
            "7af9029ac27f44b4a4b3e94df96f6ecf",
            "72b3464c537b40b7a345f5dcb04483ea",
            "2eedd35f05e849eba3cb9569e5d21412",
            "820abb12f4e444d1aa5ee5cc4bb7ab08",
            "f2a7e34cf2cc4586844015b779e9950c",
            "b8b72e98ab6842b281f4cbe134df62ed",
            "a3ea03245b0c4e4c80c7b0a366db5649",
            "ccffb61beecf40948b33fb0ce48b982a",
            "43e95404b035471687dcdfef0ebbc2dd"
          ]
        }
      },
      "source": [
        "bert_tokenizer = AutoTokenizer.from_pretrained(\"HooshvareLab/bert-base-parsbert-uncased\")  \n",
        "bert_model = AutoModel.from_pretrained(\"HooshvareLab/bert-base-parsbert-uncased\")"
      ],
      "execution_count": null,
      "outputs": [
        {
          "output_type": "display_data",
          "data": {
            "application/vnd.jupyter.widget-view+json": {
              "model_id": "e871ee251b5341148aa1cbd8ef18ec69",
              "version_minor": 0,
              "version_major": 2
            },
            "text/plain": [
              "HBox(children=(FloatProgress(value=0.0, description='Downloading', max=434.0, style=ProgressStyle(description_…"
            ]
          },
          "metadata": {
            "tags": []
          }
        },
        {
          "output_type": "stream",
          "text": [
            "\n"
          ],
          "name": "stdout"
        },
        {
          "output_type": "display_data",
          "data": {
            "application/vnd.jupyter.widget-view+json": {
              "model_id": "2b3844ad73f245459ff39d62e8193a96",
              "version_minor": 0,
              "version_major": 2
            },
            "text/plain": [
              "HBox(children=(FloatProgress(value=0.0, description='Downloading', max=1215509.0, style=ProgressStyle(descript…"
            ]
          },
          "metadata": {
            "tags": []
          }
        },
        {
          "output_type": "stream",
          "text": [
            "\n"
          ],
          "name": "stdout"
        },
        {
          "output_type": "display_data",
          "data": {
            "application/vnd.jupyter.widget-view+json": {
              "model_id": "72b3464c537b40b7a345f5dcb04483ea",
              "version_minor": 0,
              "version_major": 2
            },
            "text/plain": [
              "HBox(children=(FloatProgress(value=0.0, description='Downloading', max=654186735.0, style=ProgressStyle(descri…"
            ]
          },
          "metadata": {
            "tags": []
          }
        },
        {
          "output_type": "stream",
          "text": [
            "\n"
          ],
          "name": "stdout"
        }
      ]
    },
    {
      "cell_type": "code",
      "metadata": {
        "id": "Qt1MMIH6AUdO"
      },
      "source": [
        "# def get_embedding(sent):\n",
        "#     input_sentence = torch.tensor(bert_tokenizer.encode(sent, max_length = 500)).unsqueeze(0)\n",
        "#     out = bert_model(input_sentence)\n",
        "#     embeddings_of_last_layer = out[0]\n",
        "#     cls_embeddings = embeddings_of_last_layer[0][0]\n",
        "#     cls_embeddings = cls_embeddings.detach().numpy()\n",
        "#     return cls_embeddings"
      ],
      "execution_count": null,
      "outputs": []
    },
    {
      "cell_type": "code",
      "metadata": {
        "id": "xKLAAlQFAUdT"
      },
      "source": [
        "# df_types_bert = pd.read_csv(\"/content/drive/My Drive/topics-for-types/df_types.csv\")"
      ],
      "execution_count": null,
      "outputs": []
    },
    {
      "cell_type": "code",
      "metadata": {
        "id": "WlvIB05WAUdX",
        "outputId": "682eafd9-d47f-4484-d9ec-34c3b4dcddef",
        "colab": {
          "base_uri": "https://localhost:8080/",
          "height": 241
        }
      },
      "source": [
        "# df_types_bert['sentence'] = df_types_bert['sentence'].apply(lambda sent: get_embedding(sent))\n",
        "# df_types_bert.to_csv(\"/content/drive/My Drive/topics-for-types/df_types_bert.csv\", index=False)\n",
        "# df_types_bert.head()"
      ],
      "execution_count": null,
      "outputs": [
        {
          "output_type": "stream",
          "text": [
            "Truncation was not explicitely activated but `max_length` is provided a specific value, please use `truncation=True` to explicitely truncate examples to max length. Defaulting to 'longest_first' truncation strategy. If you encode pairs of sequences (GLUE-style) with the tokenizer you can select this strategy more precisely by providing a specific strategy to `truncation`.\n"
          ],
          "name": "stderr"
        },
        {
          "output_type": "execute_result",
          "data": {
            "text/html": [
              "<div>\n",
              "<style scoped>\n",
              "    .dataframe tbody tr th:only-of-type {\n",
              "        vertical-align: middle;\n",
              "    }\n",
              "\n",
              "    .dataframe tbody tr th {\n",
              "        vertical-align: top;\n",
              "    }\n",
              "\n",
              "    .dataframe thead th {\n",
              "        text-align: right;\n",
              "    }\n",
              "</style>\n",
              "<table border=\"1\" class=\"dataframe\">\n",
              "  <thead>\n",
              "    <tr style=\"text-align: right;\">\n",
              "      <th></th>\n",
              "      <th>sentence</th>\n",
              "      <th>انتخاب</th>\n",
              "      <th>بله/خیر</th>\n",
              "      <th>ترجمه</th>\n",
              "      <th>تعامل</th>\n",
              "      <th>تعریف</th>\n",
              "      <th>توضیح</th>\n",
              "      <th>دلیل</th>\n",
              "      <th>ریاضی</th>\n",
              "      <th>لیست</th>\n",
              "      <th>نظر</th>\n",
              "      <th>واقعیت</th>\n",
              "      <th>پیشنهاد</th>\n",
              "    </tr>\n",
              "  </thead>\n",
              "  <tbody>\n",
              "    <tr>\n",
              "      <th>0</th>\n",
              "      <td>[-0.9806155, -0.25270098, -0.73519176, 0.52485...</td>\n",
              "      <td>0</td>\n",
              "      <td>0</td>\n",
              "      <td>0</td>\n",
              "      <td>0</td>\n",
              "      <td>1</td>\n",
              "      <td>1</td>\n",
              "      <td>0</td>\n",
              "      <td>0</td>\n",
              "      <td>0</td>\n",
              "      <td>1</td>\n",
              "      <td>0</td>\n",
              "      <td>0</td>\n",
              "    </tr>\n",
              "    <tr>\n",
              "      <th>1</th>\n",
              "      <td>[-1.2237562, -1.0405048, -0.82329005, -0.51480...</td>\n",
              "      <td>0</td>\n",
              "      <td>1</td>\n",
              "      <td>0</td>\n",
              "      <td>0</td>\n",
              "      <td>0</td>\n",
              "      <td>1</td>\n",
              "      <td>0</td>\n",
              "      <td>0</td>\n",
              "      <td>0</td>\n",
              "      <td>1</td>\n",
              "      <td>0</td>\n",
              "      <td>0</td>\n",
              "    </tr>\n",
              "    <tr>\n",
              "      <th>2</th>\n",
              "      <td>[-0.17114322, -0.8240524, -0.23230526, -0.3026...</td>\n",
              "      <td>0</td>\n",
              "      <td>0</td>\n",
              "      <td>0</td>\n",
              "      <td>0</td>\n",
              "      <td>0</td>\n",
              "      <td>1</td>\n",
              "      <td>1</td>\n",
              "      <td>0</td>\n",
              "      <td>0</td>\n",
              "      <td>1</td>\n",
              "      <td>0</td>\n",
              "      <td>0</td>\n",
              "    </tr>\n",
              "    <tr>\n",
              "      <th>3</th>\n",
              "      <td>[-0.033276368, -0.39518848, -0.75779915, -0.28...</td>\n",
              "      <td>0</td>\n",
              "      <td>0</td>\n",
              "      <td>0</td>\n",
              "      <td>0</td>\n",
              "      <td>0</td>\n",
              "      <td>1</td>\n",
              "      <td>1</td>\n",
              "      <td>0</td>\n",
              "      <td>0</td>\n",
              "      <td>1</td>\n",
              "      <td>0</td>\n",
              "      <td>0</td>\n",
              "    </tr>\n",
              "    <tr>\n",
              "      <th>4</th>\n",
              "      <td>[-1.226232, -0.88978004, -1.1824298, -0.173771...</td>\n",
              "      <td>0</td>\n",
              "      <td>0</td>\n",
              "      <td>0</td>\n",
              "      <td>0</td>\n",
              "      <td>1</td>\n",
              "      <td>0</td>\n",
              "      <td>0</td>\n",
              "      <td>0</td>\n",
              "      <td>1</td>\n",
              "      <td>1</td>\n",
              "      <td>0</td>\n",
              "      <td>0</td>\n",
              "    </tr>\n",
              "  </tbody>\n",
              "</table>\n",
              "</div>"
            ],
            "text/plain": [
              "                                            sentence  انتخاب  ...  واقعیت  پیشنهاد\n",
              "0  [-0.9806155, -0.25270098, -0.73519176, 0.52485...       0  ...       0        0\n",
              "1  [-1.2237562, -1.0405048, -0.82329005, -0.51480...       0  ...       0        0\n",
              "2  [-0.17114322, -0.8240524, -0.23230526, -0.3026...       0  ...       0        0\n",
              "3  [-0.033276368, -0.39518848, -0.75779915, -0.28...       0  ...       0        0\n",
              "4  [-1.226232, -0.88978004, -1.1824298, -0.173771...       0  ...       0        0\n",
              "\n",
              "[5 rows x 13 columns]"
            ]
          },
          "metadata": {
            "tags": []
          },
          "execution_count": 45
        }
      ]
    },
    {
      "cell_type": "code",
      "metadata": {
        "id": "0OfgbRxhAUdc",
        "outputId": "6a121f75-3823-484c-d8a2-d61ec6bc5c60",
        "colab": {
          "base_uri": "https://localhost:8080/",
          "height": 204
        }
      },
      "source": [
        "df_types_bert = pd.read_csv(\"/content/drive/My Drive/topics-for-types/df_types_albert.csv\")\n",
        "df_types_bert['sentence'] = df_types_bert['sentence'].apply(lambda x: \n",
        "                           np.fromstring(\n",
        "                               x.replace('\\n','')\n",
        "                                .replace('[','')\n",
        "                                .replace(']','')\n",
        "                                .replace('  ',' '), sep=' '))\n",
        "df_types_bert.head()"
      ],
      "execution_count": null,
      "outputs": [
        {
          "output_type": "execute_result",
          "data": {
            "text/html": [
              "<div>\n",
              "<style scoped>\n",
              "    .dataframe tbody tr th:only-of-type {\n",
              "        vertical-align: middle;\n",
              "    }\n",
              "\n",
              "    .dataframe tbody tr th {\n",
              "        vertical-align: top;\n",
              "    }\n",
              "\n",
              "    .dataframe thead th {\n",
              "        text-align: right;\n",
              "    }\n",
              "</style>\n",
              "<table border=\"1\" class=\"dataframe\">\n",
              "  <thead>\n",
              "    <tr style=\"text-align: right;\">\n",
              "      <th></th>\n",
              "      <th>sentence</th>\n",
              "      <th>انتخاب</th>\n",
              "      <th>بله/خیر</th>\n",
              "      <th>ترجمه</th>\n",
              "      <th>تعامل</th>\n",
              "      <th>تعریف</th>\n",
              "      <th>توضیح</th>\n",
              "      <th>دلیل</th>\n",
              "      <th>ریاضی</th>\n",
              "      <th>لیست</th>\n",
              "      <th>نظر</th>\n",
              "      <th>واقعیت</th>\n",
              "      <th>پیشنهاد</th>\n",
              "    </tr>\n",
              "  </thead>\n",
              "  <tbody>\n",
              "    <tr>\n",
              "      <th>0</th>\n",
              "      <td>[-0.584107399, -0.0170780029, -0.324053437, -0...</td>\n",
              "      <td>0</td>\n",
              "      <td>0</td>\n",
              "      <td>0</td>\n",
              "      <td>0</td>\n",
              "      <td>1</td>\n",
              "      <td>1</td>\n",
              "      <td>0</td>\n",
              "      <td>0</td>\n",
              "      <td>0</td>\n",
              "      <td>1</td>\n",
              "      <td>0</td>\n",
              "      <td>0</td>\n",
              "    </tr>\n",
              "    <tr>\n",
              "      <th>1</th>\n",
              "      <td>[-0.311206728, -0.00509797968, 0.105097309, -0...</td>\n",
              "      <td>0</td>\n",
              "      <td>1</td>\n",
              "      <td>0</td>\n",
              "      <td>0</td>\n",
              "      <td>0</td>\n",
              "      <td>1</td>\n",
              "      <td>0</td>\n",
              "      <td>0</td>\n",
              "      <td>0</td>\n",
              "      <td>1</td>\n",
              "      <td>0</td>\n",
              "      <td>0</td>\n",
              "    </tr>\n",
              "    <tr>\n",
              "      <th>2</th>\n",
              "      <td>[0.0554451495, -0.233010963, 0.120217644, -0.3...</td>\n",
              "      <td>0</td>\n",
              "      <td>0</td>\n",
              "      <td>0</td>\n",
              "      <td>0</td>\n",
              "      <td>0</td>\n",
              "      <td>1</td>\n",
              "      <td>1</td>\n",
              "      <td>0</td>\n",
              "      <td>0</td>\n",
              "      <td>1</td>\n",
              "      <td>0</td>\n",
              "      <td>0</td>\n",
              "    </tr>\n",
              "    <tr>\n",
              "      <th>3</th>\n",
              "      <td>[0.378814161, -0.190923393, 0.164279118, -0.38...</td>\n",
              "      <td>0</td>\n",
              "      <td>0</td>\n",
              "      <td>0</td>\n",
              "      <td>0</td>\n",
              "      <td>0</td>\n",
              "      <td>1</td>\n",
              "      <td>1</td>\n",
              "      <td>0</td>\n",
              "      <td>0</td>\n",
              "      <td>1</td>\n",
              "      <td>0</td>\n",
              "      <td>0</td>\n",
              "    </tr>\n",
              "    <tr>\n",
              "      <th>4</th>\n",
              "      <td>[-0.469689935, -0.240100503, 0.201896042, -0.2...</td>\n",
              "      <td>0</td>\n",
              "      <td>0</td>\n",
              "      <td>0</td>\n",
              "      <td>0</td>\n",
              "      <td>1</td>\n",
              "      <td>0</td>\n",
              "      <td>0</td>\n",
              "      <td>0</td>\n",
              "      <td>1</td>\n",
              "      <td>1</td>\n",
              "      <td>0</td>\n",
              "      <td>0</td>\n",
              "    </tr>\n",
              "  </tbody>\n",
              "</table>\n",
              "</div>"
            ],
            "text/plain": [
              "                                            sentence  انتخاب  ...  واقعیت  پیشنهاد\n",
              "0  [-0.584107399, -0.0170780029, -0.324053437, -0...       0  ...       0        0\n",
              "1  [-0.311206728, -0.00509797968, 0.105097309, -0...       0  ...       0        0\n",
              "2  [0.0554451495, -0.233010963, 0.120217644, -0.3...       0  ...       0        0\n",
              "3  [0.378814161, -0.190923393, 0.164279118, -0.38...       0  ...       0        0\n",
              "4  [-0.469689935, -0.240100503, 0.201896042, -0.2...       0  ...       0        0\n",
              "\n",
              "[5 rows x 13 columns]"
            ]
          },
          "metadata": {
            "tags": []
          },
          "execution_count": 46
        }
      ]
    },
    {
      "cell_type": "code",
      "metadata": {
        "id": "P3B3OnEnAUdm",
        "outputId": "5f651166-50c8-40f4-ef69-70e871103afa",
        "colab": {
          "base_uri": "https://localhost:8080/",
          "height": 34
        }
      },
      "source": [
        "X = np.array(df_types_bert[df_types_bert.columns[0]])\n",
        "X = np.vstack(X)\n",
        "\n",
        "Y = df_types_bert[df_types_bert.columns[1:]].values\n",
        "\n",
        "X.shape, Y.shape"
      ],
      "execution_count": null,
      "outputs": [
        {
          "output_type": "execute_result",
          "data": {
            "text/plain": [
              "((2424, 768), (2424, 12))"
            ]
          },
          "metadata": {
            "tags": []
          },
          "execution_count": 47
        }
      ]
    },
    {
      "cell_type": "code",
      "metadata": {
        "id": "OEFvpohhAUdq"
      },
      "source": [
        "X_train, X_test, y_train, y_test = train_test_split(X, Y, test_size=0.10)"
      ],
      "execution_count": null,
      "outputs": []
    },
    {
      "cell_type": "code",
      "metadata": {
        "id": "ncFwOkV2AUds",
        "outputId": "a008cf54-4bec-4801-893d-02b072bdfc6c",
        "colab": {
          "base_uri": "https://localhost:8080/",
          "height": 34
        }
      },
      "source": [
        "len(X_train),len(X_test),len(y_train),len(y_test)"
      ],
      "execution_count": null,
      "outputs": [
        {
          "output_type": "execute_result",
          "data": {
            "text/plain": [
              "(2181, 243, 2181, 243)"
            ]
          },
          "metadata": {
            "tags": []
          },
          "execution_count": 49
        }
      ]
    },
    {
      "cell_type": "code",
      "metadata": {
        "id": "dcee_NDVAUdv",
        "outputId": "c28fd051-147d-43e6-fddb-69a1e1a439a5",
        "colab": {
          "base_uri": "https://localhost:8080/",
          "height": 238
        }
      },
      "source": [
        "model = tf.keras.Sequential([\n",
        "    tf.keras.layers.Input(shape=X[0].shape, name='input_layer'),\n",
        "    tf.keras.layers.Dense(128, activation='relu', name='Dense_Layer',\n",
        "                          activity_regularizer=tf.keras.regularizers.l2()),\n",
        "    # tf.keras.layers.Dropout(rate=0.2, name=\"Dropout\"),\n",
        "    # tf.keras.layers.Dense(100, activation='relu', name='Dense_Layer2',\n",
        "                          # activity_regularizer=tf.keras.regularizers.l2()),\n",
        "    # tf.keras.layers.Dropout(rate=0.2, name=\"Dropout2\"),\n",
        "    tf.keras.layers.Dense(12, activation='sigmoid', name='Dense_Layer3'),\n",
        "\n",
        "  ], name='BERT_MODEL')\n",
        "\n",
        "model.compile(loss='binary_crossentropy', optimizer='rmsprop', \n",
        "              metrics=['acc',\n",
        "                       tfa.metrics.f_scores.F1Score(12,'weighted', threshold=0.5, name='f1'),\n",
        "                       tfa.metrics.f_scores.F1Score(12,'macro',threshold=0.5, name='macro'),\n",
        "                       tfa.metrics.f_scores.F1Score(12,'micro',threshold=0.5, name='micro'),\n",
        "                       tfa.metrics.HammingLoss(mode='multilabel',threshold=0.5, name='hamloss')])\n",
        "print(model.summary())"
      ],
      "execution_count": null,
      "outputs": [
        {
          "output_type": "stream",
          "text": [
            "Model: \"BERT_MODEL\"\n",
            "_________________________________________________________________\n",
            "Layer (type)                 Output Shape              Param #   \n",
            "=================================================================\n",
            "Dense_Layer (Dense)          (None, 128)               98432     \n",
            "_________________________________________________________________\n",
            "Dense_Layer3 (Dense)         (None, 12)                1548      \n",
            "=================================================================\n",
            "Total params: 99,980\n",
            "Trainable params: 99,980\n",
            "Non-trainable params: 0\n",
            "_________________________________________________________________\n",
            "None\n"
          ],
          "name": "stdout"
        }
      ]
    },
    {
      "cell_type": "code",
      "metadata": {
        "id": "JsHJjxnfAUdy",
        "outputId": "2f9a3d07-abc4-47e0-ef8a-439b367ef3c6",
        "colab": {
          "base_uri": "https://localhost:8080/",
          "height": 547
        }
      },
      "source": [
        "history = model.fit(X_train, y_train, batch_size=8, epochs=15, verbose=1, validation_split=0.2)"
      ],
      "execution_count": null,
      "outputs": [
        {
          "output_type": "stream",
          "text": [
            "Epoch 1/15\n",
            "218/218 [==============================] - 1s 5ms/step - loss: 0.4390 - acc: 0.4983 - f1: 0.5302 - macro: 0.1626 - micro: 0.6229 - hamloss: 0.1062 - val_loss: 0.3416 - val_acc: 0.6659 - val_f1: 0.5627 - val_macro: 0.1710 - val_micro: 0.6736 - val_hamloss: 0.0892\n",
            "Epoch 2/15\n",
            "218/218 [==============================] - 1s 4ms/step - loss: 0.3207 - acc: 0.6302 - f1: 0.5945 - macro: 0.1922 - micro: 0.6852 - hamloss: 0.0909 - val_loss: 0.3014 - val_acc: 0.7162 - val_f1: 0.5804 - val_macro: 0.1795 - val_micro: 0.6851 - val_hamloss: 0.0868\n",
            "Epoch 3/15\n",
            "218/218 [==============================] - 1s 4ms/step - loss: 0.2823 - acc: 0.6669 - f1: 0.6154 - macro: 0.2033 - micro: 0.7031 - hamloss: 0.0862 - val_loss: 0.2676 - val_acc: 0.7048 - val_f1: 0.6239 - val_macro: 0.2070 - val_micro: 0.7125 - val_hamloss: 0.0814\n",
            "Epoch 4/15\n",
            "218/218 [==============================] - 1s 4ms/step - loss: 0.2602 - acc: 0.6909 - f1: 0.6326 - macro: 0.2163 - micro: 0.7141 - hamloss: 0.0831 - val_loss: 0.2598 - val_acc: 0.7346 - val_f1: 0.6298 - val_macro: 0.2087 - val_micro: 0.7188 - val_hamloss: 0.0803\n",
            "Epoch 5/15\n",
            "218/218 [==============================] - 1s 4ms/step - loss: 0.2440 - acc: 0.7013 - f1: 0.6547 - macro: 0.2371 - micro: 0.7267 - hamloss: 0.0800 - val_loss: 0.2522 - val_acc: 0.6819 - val_f1: 0.6465 - val_macro: 0.2278 - val_micro: 0.7184 - val_hamloss: 0.0803\n",
            "Epoch 6/15\n",
            "218/218 [==============================] - 1s 4ms/step - loss: 0.2306 - acc: 0.7122 - f1: 0.6749 - macro: 0.2575 - micro: 0.7405 - hamloss: 0.0764 - val_loss: 0.2413 - val_acc: 0.6865 - val_f1: 0.6528 - val_macro: 0.2437 - val_micro: 0.7222 - val_hamloss: 0.0801\n",
            "Epoch 7/15\n",
            "218/218 [==============================] - 1s 4ms/step - loss: 0.2220 - acc: 0.7208 - f1: 0.6988 - macro: 0.2850 - micro: 0.7544 - hamloss: 0.0731 - val_loss: 0.2480 - val_acc: 0.7071 - val_f1: 0.6380 - val_macro: 0.2309 - val_micro: 0.7055 - val_hamloss: 0.0820\n",
            "Epoch 8/15\n",
            "218/218 [==============================] - 1s 4ms/step - loss: 0.2124 - acc: 0.7213 - f1: 0.7143 - macro: 0.3086 - micro: 0.7625 - hamloss: 0.0705 - val_loss: 0.2389 - val_acc: 0.7346 - val_f1: 0.6673 - val_macro: 0.2670 - val_micro: 0.7267 - val_hamloss: 0.0793\n",
            "Epoch 9/15\n",
            "218/218 [==============================] - 1s 4ms/step - loss: 0.2038 - acc: 0.7317 - f1: 0.7315 - macro: 0.3292 - micro: 0.7749 - hamloss: 0.0672 - val_loss: 0.2402 - val_acc: 0.7368 - val_f1: 0.6534 - val_macro: 0.2408 - val_micro: 0.7299 - val_hamloss: 0.0782\n",
            "Epoch 10/15\n",
            "218/218 [==============================] - 1s 4ms/step - loss: 0.1967 - acc: 0.7213 - f1: 0.7517 - macro: 0.3588 - micro: 0.7881 - hamloss: 0.0639 - val_loss: 0.2443 - val_acc: 0.6522 - val_f1: 0.6736 - val_macro: 0.2998 - val_micro: 0.7195 - val_hamloss: 0.0803\n",
            "Epoch 11/15\n",
            "218/218 [==============================] - 1s 4ms/step - loss: 0.1904 - acc: 0.7357 - f1: 0.7621 - macro: 0.3730 - micro: 0.7953 - hamloss: 0.0622 - val_loss: 0.2317 - val_acc: 0.7323 - val_f1: 0.6956 - val_macro: 0.3058 - val_micro: 0.7425 - val_hamloss: 0.0772\n",
            "Epoch 12/15\n",
            "218/218 [==============================] - 1s 4ms/step - loss: 0.1851 - acc: 0.7477 - f1: 0.7696 - macro: 0.3840 - micro: 0.8010 - hamloss: 0.0600 - val_loss: 0.2233 - val_acc: 0.6888 - val_f1: 0.7105 - val_macro: 0.3413 - val_micro: 0.7442 - val_hamloss: 0.0742\n",
            "Epoch 13/15\n",
            "218/218 [==============================] - 1s 4ms/step - loss: 0.1786 - acc: 0.7403 - f1: 0.7823 - macro: 0.4033 - micro: 0.8104 - hamloss: 0.0575 - val_loss: 0.2403 - val_acc: 0.6636 - val_f1: 0.6913 - val_macro: 0.3051 - val_micro: 0.7277 - val_hamloss: 0.0828\n",
            "Epoch 14/15\n",
            "218/218 [==============================] - 1s 4ms/step - loss: 0.1736 - acc: 0.7357 - f1: 0.7906 - macro: 0.4150 - micro: 0.8166 - hamloss: 0.0559 - val_loss: 0.2345 - val_acc: 0.6796 - val_f1: 0.7041 - val_macro: 0.3391 - val_micro: 0.7360 - val_hamloss: 0.0780\n",
            "Epoch 15/15\n",
            "218/218 [==============================] - 1s 4ms/step - loss: 0.1688 - acc: 0.7317 - f1: 0.7933 - macro: 0.4184 - micro: 0.8192 - hamloss: 0.0552 - val_loss: 0.2239 - val_acc: 0.7162 - val_f1: 0.7185 - val_macro: 0.3518 - val_micro: 0.7545 - val_hamloss: 0.0725\n"
          ],
          "name": "stdout"
        }
      ]
    },
    {
      "cell_type": "code",
      "metadata": {
        "id": "EhQtPSx7AUd1",
        "outputId": "ec0408f2-9849-4c97-b4df-33993322f552",
        "colab": {
          "base_uri": "https://localhost:8080/",
          "height": 34
        }
      },
      "source": [
        "score = model.evaluate(X_test, y_test, verbose=1)"
      ],
      "execution_count": null,
      "outputs": [
        {
          "output_type": "stream",
          "text": [
            "8/8 [==============================] - 0s 4ms/step - loss: 0.2340 - acc: 0.6996 - f1: 0.7040 - macro: 0.3521 - micro: 0.7432 - hamloss: 0.0782\n"
          ],
          "name": "stdout"
        }
      ]
    },
    {
      "cell_type": "code",
      "metadata": {
        "id": "xrv_f2T2AUd8",
        "outputId": "c469ed02-9117-4065-97e0-bdc6068ab046",
        "colab": {
          "base_uri": "https://localhost:8080/",
          "height": 573
        }
      },
      "source": [
        "import matplotlib.pyplot as plt\n",
        "\n",
        "plt.plot(history.history['acc'])\n",
        "plt.plot(history.history['val_acc'])\n",
        "\n",
        "plt.title('model accuracy')\n",
        "plt.ylabel('accuracy')\n",
        "plt.xlabel('epoch')\n",
        "plt.legend(['train','test'], loc='upper left')\n",
        "plt.show()\n",
        "\n",
        "plt.plot(history.history['loss'])\n",
        "plt.plot(history.history['val_loss'])\n",
        "\n",
        "plt.title('model loss')\n",
        "plt.ylabel('loss')\n",
        "plt.xlabel('epoch')\n",
        "plt.legend(['train','test'], loc='upper left')\n",
        "plt.show()"
      ],
      "execution_count": null,
      "outputs": [
        {
          "output_type": "display_data",
          "data": {
            "image/png": "[encoded data removed]",
            "text/plain": [
              "<Figure size 432x288 with 1 Axes>"
            ]
          },
          "metadata": {
            "tags": [],
            "needs_background": "light"
          }
        },
        {
          "output_type": "display_data",
          "data": {
            "image/png": "[encoded data removed]",
            "text/plain": [
              "<Figure size 432x288 with 1 Axes>"
            ]
          },
          "metadata": {
            "tags": [],
            "needs_background": "light"
          }
        }
      ]
    },
    {
      "cell_type": "markdown",
      "metadata": {
        "id": "2CJ7mBfEpd3D"
      },
      "source": [
        "# Word2Vec"
      ]
    },
    {
      "cell_type": "code",
      "metadata": {
        "id": "YrFdZonTpg5I"
      },
      "source": [
        "embeddings_dictionary = dict()\n",
        "\n",
        "w2v_file = open('drive/My Drive/nlp/similarity/embeddings/twitt_wiki_ham_blog.fa.text.100.vec', encoding=\"utf8\")\n",
        "\n",
        "for line in w2v_file:\n",
        "    records = line.split()\n",
        "    word = records[0]\n",
        "    vector_dimensions = np.asarray(records[1:], dtype='float32')\n",
        "    embeddings_dictionary[word] = vector_dimensions\n",
        "w2v_file.close()"
      ],
      "execution_count": 6,
      "outputs": []
    },
    {
      "cell_type": "code",
      "metadata": {
        "id": "nFjnlaZapkHS",
        "outputId": "50196cd9-3f3f-483d-d84d-3701d34b285b",
        "colab": {
          "base_uri": "https://localhost:8080/",
          "height": 204
        }
      },
      "source": [
        "df_types_w2v = pd.read_csv(\"/content/drive/My Drive/topics-for-types/df_types.csv\")\n",
        "df_types_w2v.head()"
      ],
      "execution_count": 7,
      "outputs": [
        {
          "output_type": "execute_result",
          "data": {
            "text/html": [
              "<div>\n",
              "<style scoped>\n",
              "    .dataframe tbody tr th:only-of-type {\n",
              "        vertical-align: middle;\n",
              "    }\n",
              "\n",
              "    .dataframe tbody tr th {\n",
              "        vertical-align: top;\n",
              "    }\n",
              "\n",
              "    .dataframe thead th {\n",
              "        text-align: right;\n",
              "    }\n",
              "</style>\n",
              "<table border=\"1\" class=\"dataframe\">\n",
              "  <thead>\n",
              "    <tr style=\"text-align: right;\">\n",
              "      <th></th>\n",
              "      <th>sentence</th>\n",
              "      <th>انتخاب</th>\n",
              "      <th>بله/خیر</th>\n",
              "      <th>ترجمه</th>\n",
              "      <th>تعامل</th>\n",
              "      <th>تعریف</th>\n",
              "      <th>توضیح</th>\n",
              "      <th>دلیل</th>\n",
              "      <th>ریاضی</th>\n",
              "      <th>لیست</th>\n",
              "      <th>نظر</th>\n",
              "      <th>واقعیت</th>\n",
              "      <th>پیشنهاد</th>\n",
              "    </tr>\n",
              "  </thead>\n",
              "  <tbody>\n",
              "    <tr>\n",
              "      <th>0</th>\n",
              "      <td>تفاوت ترمز عقب دیسکی و کاسه ای چیست؟</td>\n",
              "      <td>0</td>\n",
              "      <td>0</td>\n",
              "      <td>0</td>\n",
              "      <td>0</td>\n",
              "      <td>1</td>\n",
              "      <td>1</td>\n",
              "      <td>0</td>\n",
              "      <td>0</td>\n",
              "      <td>0</td>\n",
              "      <td>1</td>\n",
              "      <td>0</td>\n",
              "      <td>0</td>\n",
              "    </tr>\n",
              "    <tr>\n",
              "      <th>1</th>\n",
              "      <td>آیا ترمز ضدقفل ABS در همه چرخ ها عمل می کند؟</td>\n",
              "      <td>0</td>\n",
              "      <td>1</td>\n",
              "      <td>0</td>\n",
              "      <td>0</td>\n",
              "      <td>0</td>\n",
              "      <td>1</td>\n",
              "      <td>0</td>\n",
              "      <td>0</td>\n",
              "      <td>0</td>\n",
              "      <td>1</td>\n",
              "      <td>0</td>\n",
              "      <td>0</td>\n",
              "    </tr>\n",
              "    <tr>\n",
              "      <th>2</th>\n",
              "      <td>چرا باوجود نصب بودن ترمز ABS بر روی خودرو، ترم...</td>\n",
              "      <td>0</td>\n",
              "      <td>0</td>\n",
              "      <td>0</td>\n",
              "      <td>0</td>\n",
              "      <td>0</td>\n",
              "      <td>1</td>\n",
              "      <td>1</td>\n",
              "      <td>0</td>\n",
              "      <td>0</td>\n",
              "      <td>1</td>\n",
              "      <td>0</td>\n",
              "      <td>0</td>\n",
              "    </tr>\n",
              "    <tr>\n",
              "      <th>3</th>\n",
              "      <td>چرا با وجود نصب بودن Airbag بر روی خودرو، در ه...</td>\n",
              "      <td>0</td>\n",
              "      <td>0</td>\n",
              "      <td>0</td>\n",
              "      <td>0</td>\n",
              "      <td>0</td>\n",
              "      <td>1</td>\n",
              "      <td>1</td>\n",
              "      <td>0</td>\n",
              "      <td>0</td>\n",
              "      <td>1</td>\n",
              "      <td>0</td>\n",
              "      <td>0</td>\n",
              "    </tr>\n",
              "    <tr>\n",
              "      <th>4</th>\n",
              "      <td>کلاس های مختلف خودرو چگونه شناسایی می شوند؟</td>\n",
              "      <td>0</td>\n",
              "      <td>0</td>\n",
              "      <td>0</td>\n",
              "      <td>0</td>\n",
              "      <td>1</td>\n",
              "      <td>0</td>\n",
              "      <td>0</td>\n",
              "      <td>0</td>\n",
              "      <td>1</td>\n",
              "      <td>1</td>\n",
              "      <td>0</td>\n",
              "      <td>0</td>\n",
              "    </tr>\n",
              "  </tbody>\n",
              "</table>\n",
              "</div>"
            ],
            "text/plain": [
              "                                            sentence  انتخاب  ...  واقعیت  پیشنهاد\n",
              "0              تفاوت ترمز عقب دیسکی و کاسه ای چیست؟        0  ...       0        0\n",
              "1     آیا ترمز ضدقفل ABS در همه چرخ ها عمل می کند؟         0  ...       0        0\n",
              "2  چرا باوجود نصب بودن ترمز ABS بر روی خودرو، ترم...       0  ...       0        0\n",
              "3  چرا با وجود نصب بودن Airbag بر روی خودرو، در ه...       0  ...       0        0\n",
              "4       کلاس های مختلف خودرو چگونه شناسایی می شوند؟        0  ...       0        0\n",
              "\n",
              "[5 rows x 13 columns]"
            ]
          },
          "metadata": {
            "tags": []
          },
          "execution_count": 7
        }
      ]
    },
    {
      "cell_type": "code",
      "metadata": {
        "id": "Xe6bcjJNpp4v"
      },
      "source": [
        "parsivar_tokenizer = Tokenizer()\n",
        "parsivar_normalizer = Normalizer(statistical_space_correction=False)"
      ],
      "execution_count": 8,
      "outputs": []
    },
    {
      "cell_type": "code",
      "metadata": {
        "id": "q3GgK-oOptpK"
      },
      "source": [
        "def get_w2v_embedding(sent):\n",
        "    sent_tokens = parsivar_tokenizer.tokenize_words(parsivar_normalizer.normalize(sent))\n",
        "    tokens_embeddings = []\n",
        "    for token in sent_tokens:\n",
        "      if token in embeddings_dictionary.keys():\n",
        "        tokens_embeddings.append(embeddings_dictionary[token])\n",
        "    sent_embedding = np.mean(tokens_embeddings, axis=0)\n",
        "    return sent_embedding"
      ],
      "execution_count": 9,
      "outputs": []
    },
    {
      "cell_type": "code",
      "metadata": {
        "id": "vjdlAtOXpvqa",
        "outputId": "a32709a3-9a10-4901-f356-93b0cf198e92",
        "colab": {
          "base_uri": "https://localhost:8080/",
          "height": 204
        }
      },
      "source": [
        "df_types_w2v['sentence'] = df_types_w2v['sentence'].apply(lambda sent: get_w2v_embedding(sent))\n",
        "df_types_w2v.head()"
      ],
      "execution_count": 10,
      "outputs": [
        {
          "output_type": "execute_result",
          "data": {
            "text/html": [
              "<div>\n",
              "<style scoped>\n",
              "    .dataframe tbody tr th:only-of-type {\n",
              "        vertical-align: middle;\n",
              "    }\n",
              "\n",
              "    .dataframe tbody tr th {\n",
              "        vertical-align: top;\n",
              "    }\n",
              "\n",
              "    .dataframe thead th {\n",
              "        text-align: right;\n",
              "    }\n",
              "</style>\n",
              "<table border=\"1\" class=\"dataframe\">\n",
              "  <thead>\n",
              "    <tr style=\"text-align: right;\">\n",
              "      <th></th>\n",
              "      <th>sentence</th>\n",
              "      <th>انتخاب</th>\n",
              "      <th>بله/خیر</th>\n",
              "      <th>ترجمه</th>\n",
              "      <th>تعامل</th>\n",
              "      <th>تعریف</th>\n",
              "      <th>توضیح</th>\n",
              "      <th>دلیل</th>\n",
              "      <th>ریاضی</th>\n",
              "      <th>لیست</th>\n",
              "      <th>نظر</th>\n",
              "      <th>واقعیت</th>\n",
              "      <th>پیشنهاد</th>\n",
              "    </tr>\n",
              "  </thead>\n",
              "  <tbody>\n",
              "    <tr>\n",
              "      <th>0</th>\n",
              "      <td>[0.15668367, -0.28389242, 0.9089176, 0.5482701...</td>\n",
              "      <td>0</td>\n",
              "      <td>0</td>\n",
              "      <td>0</td>\n",
              "      <td>0</td>\n",
              "      <td>1</td>\n",
              "      <td>1</td>\n",
              "      <td>0</td>\n",
              "      <td>0</td>\n",
              "      <td>0</td>\n",
              "      <td>1</td>\n",
              "      <td>0</td>\n",
              "      <td>0</td>\n",
              "    </tr>\n",
              "    <tr>\n",
              "      <th>1</th>\n",
              "      <td>[-0.1255625, -1.6543719, -0.7273559, 0.4527906...</td>\n",
              "      <td>0</td>\n",
              "      <td>1</td>\n",
              "      <td>0</td>\n",
              "      <td>0</td>\n",
              "      <td>0</td>\n",
              "      <td>1</td>\n",
              "      <td>0</td>\n",
              "      <td>0</td>\n",
              "      <td>0</td>\n",
              "      <td>1</td>\n",
              "      <td>0</td>\n",
              "      <td>0</td>\n",
              "    </tr>\n",
              "    <tr>\n",
              "      <th>2</th>\n",
              "      <td>[-0.06706425, -1.0731599, 1.2626698, 0.399987,...</td>\n",
              "      <td>0</td>\n",
              "      <td>0</td>\n",
              "      <td>0</td>\n",
              "      <td>0</td>\n",
              "      <td>0</td>\n",
              "      <td>1</td>\n",
              "      <td>1</td>\n",
              "      <td>0</td>\n",
              "      <td>0</td>\n",
              "      <td>1</td>\n",
              "      <td>0</td>\n",
              "      <td>0</td>\n",
              "    </tr>\n",
              "    <tr>\n",
              "      <th>3</th>\n",
              "      <td>[0.3817483, -1.376912, 0.92743206, 1.1186554, ...</td>\n",
              "      <td>0</td>\n",
              "      <td>0</td>\n",
              "      <td>0</td>\n",
              "      <td>0</td>\n",
              "      <td>0</td>\n",
              "      <td>1</td>\n",
              "      <td>1</td>\n",
              "      <td>0</td>\n",
              "      <td>0</td>\n",
              "      <td>1</td>\n",
              "      <td>0</td>\n",
              "      <td>0</td>\n",
              "    </tr>\n",
              "    <tr>\n",
              "      <th>4</th>\n",
              "      <td>[0.9607437, -0.767353, -2.3159149, -0.20033674...</td>\n",
              "      <td>0</td>\n",
              "      <td>0</td>\n",
              "      <td>0</td>\n",
              "      <td>0</td>\n",
              "      <td>1</td>\n",
              "      <td>0</td>\n",
              "      <td>0</td>\n",
              "      <td>0</td>\n",
              "      <td>1</td>\n",
              "      <td>1</td>\n",
              "      <td>0</td>\n",
              "      <td>0</td>\n",
              "    </tr>\n",
              "  </tbody>\n",
              "</table>\n",
              "</div>"
            ],
            "text/plain": [
              "                                            sentence  انتخاب  ...  واقعیت  پیشنهاد\n",
              "0  [0.15668367, -0.28389242, 0.9089176, 0.5482701...       0  ...       0        0\n",
              "1  [-0.1255625, -1.6543719, -0.7273559, 0.4527906...       0  ...       0        0\n",
              "2  [-0.06706425, -1.0731599, 1.2626698, 0.399987,...       0  ...       0        0\n",
              "3  [0.3817483, -1.376912, 0.92743206, 1.1186554, ...       0  ...       0        0\n",
              "4  [0.9607437, -0.767353, -2.3159149, -0.20033674...       0  ...       0        0\n",
              "\n",
              "[5 rows x 13 columns]"
            ]
          },
          "metadata": {
            "tags": []
          },
          "execution_count": 10
        }
      ]
    },
    {
      "cell_type": "code",
      "metadata": {
        "id": "GApcDQmPpxfV",
        "outputId": "d102bb1b-18b7-4910-f1fe-df08ef583d03",
        "colab": {
          "base_uri": "https://localhost:8080/"
        }
      },
      "source": [
        "X = np.array(df_types_w2v[df_types_w2v.columns[0]])\n",
        "X = np.vstack(X)\n",
        "\n",
        "Y = df_types_w2v[df_types_w2v.columns[1:]].values\n",
        "n_class = Y.shape[1]\n",
        "\n",
        "X.shape, Y.shape"
      ],
      "execution_count": 11,
      "outputs": [
        {
          "output_type": "execute_result",
          "data": {
            "text/plain": [
              "((2424, 100), (2424, 12))"
            ]
          },
          "metadata": {
            "tags": []
          },
          "execution_count": 11
        }
      ]
    },
    {
      "cell_type": "code",
      "metadata": {
        "id": "B2txSut1p1DA"
      },
      "source": [
        "X_train, X_test, y_train, y_test = train_test_split(X, Y, test_size=0.10)"
      ],
      "execution_count": 12,
      "outputs": []
    },
    {
      "cell_type": "code",
      "metadata": {
        "id": "5mjBisxAp22H",
        "outputId": "67533eb1-61dd-4dd8-dc10-0e69631be3f4",
        "colab": {
          "base_uri": "https://localhost:8080/"
        }
      },
      "source": [
        "len(X_train),len(X_test),len(y_train),len(y_test)"
      ],
      "execution_count": 13,
      "outputs": [
        {
          "output_type": "execute_result",
          "data": {
            "text/plain": [
              "(2181, 243, 2181, 243)"
            ]
          },
          "metadata": {
            "tags": []
          },
          "execution_count": 13
        }
      ]
    },
    {
      "cell_type": "code",
      "metadata": {
        "id": "rNEztRRWp-WX",
        "outputId": "c22518fe-09f4-4e26-bde4-a033dea827eb",
        "colab": {
          "base_uri": "https://localhost:8080/"
        }
      },
      "source": [
        "model = tf.keras.Sequential([\n",
        "    tf.keras.layers.Input(shape=X[0].shape, name='input_layer'),\n",
        "    # tf.keras.layers.Dense(32, activation='relu', name='Dense_Layer0'),\n",
        "    # tf.keras.layers.Dropout(rate=0.2, name=\"Dropout0\"),\n",
        "    tf.keras.layers.Dense(32, activation='relu', name='Dense_Layer1'),\n",
        "                          # activity_regularizer=tf.keras.regularizers.l2()),\n",
        "    \n",
        "    # tf.keras.layers.Dropout(rate=0.2, name=\"Dropout1\"),\n",
        "    # tf.keras.layers.Dense(32, activation='relu', name='Dense_Layer2'),\n",
        "                          # activity_regularizer=tf.keras.regularizers.l2()),\n",
        "    # tf.keras.layers.Dropout(rate=0.2, name=\"Dropout2\"),\n",
        "    tf.keras.layers.Dense(n_class, activation='sigmoid', name='Dense_Layer3'),\n",
        "\n",
        "  ], name='Word2Vec_MODEL')\n",
        "\n",
        "model.compile(loss='binary_crossentropy', optimizer='adam', \n",
        "              metrics=['acc',\n",
        "                       tfa.metrics.f_scores.F1Score(n_class,'weighted', threshold=0.5, name='f1'),\n",
        "                       tfa.metrics.f_scores.F1Score(n_class,'macro',threshold=0.5, name='macro'),\n",
        "                       tfa.metrics.f_scores.F1Score(n_class,'micro',threshold=0.5, name='micro'),\n",
        "                       tfa.metrics.HammingLoss(mode='multilabel',threshold=0.5, name='hamloss')])\n",
        "print(model.summary())"
      ],
      "execution_count": 20,
      "outputs": [
        {
          "output_type": "stream",
          "text": [
            "Model: \"Word2Vec_MODEL\"\n",
            "_________________________________________________________________\n",
            "Layer (type)                 Output Shape              Param #   \n",
            "=================================================================\n",
            "Dense_Layer1 (Dense)         (None, 32)                3232      \n",
            "_________________________________________________________________\n",
            "Dense_Layer3 (Dense)         (None, 12)                396       \n",
            "=================================================================\n",
            "Total params: 3,628\n",
            "Trainable params: 3,628\n",
            "Non-trainable params: 0\n",
            "_________________________________________________________________\n",
            "None\n"
          ],
          "name": "stdout"
        }
      ]
    },
    {
      "cell_type": "code",
      "metadata": {
        "id": "7T4nHgUuqAPb",
        "outputId": "0f1221f9-5390-4681-f235-272bdf2cdca5",
        "colab": {
          "base_uri": "https://localhost:8080/"
        }
      },
      "source": [
        "history = model.fit(X_train, y_train, batch_size=8, epochs=20, verbose=1, validation_split=0.2)"
      ],
      "execution_count": 21,
      "outputs": [
        {
          "output_type": "stream",
          "text": [
            "Epoch 1/20\n",
            "218/218 [==============================] - 1s 6ms/step - loss: 0.3741 - acc: 0.4272 - f1: 0.5153 - macro: 0.1992 - micro: 0.5046 - hamloss: 0.1701 - val_loss: 0.2720 - val_acc: 0.5034 - val_f1: 0.5615 - val_macro: 0.2081 - val_micro: 0.6249 - val_hamloss: 0.1085\n",
            "Epoch 2/20\n",
            "218/218 [==============================] - 1s 4ms/step - loss: 0.2522 - acc: 0.5378 - f1: 0.5919 - macro: 0.2525 - micro: 0.6465 - hamloss: 0.1035 - val_loss: 0.2509 - val_acc: 0.5515 - val_f1: 0.6003 - val_macro: 0.2486 - val_micro: 0.6526 - val_hamloss: 0.1034\n",
            "Epoch 3/20\n",
            "218/218 [==============================] - 1s 5ms/step - loss: 0.2329 - acc: 0.5602 - f1: 0.6249 - macro: 0.2842 - micro: 0.6723 - hamloss: 0.0967 - val_loss: 0.2420 - val_acc: 0.5721 - val_f1: 0.6346 - val_macro: 0.2823 - val_micro: 0.6709 - val_hamloss: 0.0997\n",
            "Epoch 4/20\n",
            "218/218 [==============================] - 1s 5ms/step - loss: 0.2206 - acc: 0.5872 - f1: 0.6547 - macro: 0.3117 - micro: 0.6960 - hamloss: 0.0908 - val_loss: 0.2350 - val_acc: 0.5446 - val_f1: 0.6239 - val_macro: 0.2816 - val_micro: 0.6701 - val_hamloss: 0.0980\n",
            "Epoch 5/20\n",
            "218/218 [==============================] - 1s 4ms/step - loss: 0.2120 - acc: 0.5963 - f1: 0.6704 - macro: 0.3339 - micro: 0.7101 - hamloss: 0.0861 - val_loss: 0.2303 - val_acc: 0.5767 - val_f1: 0.6360 - val_macro: 0.2979 - val_micro: 0.6804 - val_hamloss: 0.0948\n",
            "Epoch 6/20\n",
            "218/218 [==============================] - 1s 4ms/step - loss: 0.2052 - acc: 0.6198 - f1: 0.6849 - macro: 0.3510 - micro: 0.7187 - hamloss: 0.0840 - val_loss: 0.2254 - val_acc: 0.6201 - val_f1: 0.6509 - val_macro: 0.3052 - val_micro: 0.6902 - val_hamloss: 0.0921\n",
            "Epoch 7/20\n",
            "218/218 [==============================] - 1s 5ms/step - loss: 0.1998 - acc: 0.6221 - f1: 0.6956 - macro: 0.3644 - micro: 0.7282 - hamloss: 0.0814 - val_loss: 0.2266 - val_acc: 0.6178 - val_f1: 0.6661 - val_macro: 0.3229 - val_micro: 0.6989 - val_hamloss: 0.0925\n",
            "Epoch 8/20\n",
            "218/218 [==============================] - 1s 5ms/step - loss: 0.1946 - acc: 0.6319 - f1: 0.7108 - macro: 0.3831 - micro: 0.7394 - hamloss: 0.0787 - val_loss: 0.2246 - val_acc: 0.6018 - val_f1: 0.6636 - val_macro: 0.3264 - val_micro: 0.6917 - val_hamloss: 0.0923\n",
            "Epoch 9/20\n",
            "218/218 [==============================] - 1s 5ms/step - loss: 0.1906 - acc: 0.6353 - f1: 0.7151 - macro: 0.3863 - micro: 0.7422 - hamloss: 0.0776 - val_loss: 0.2216 - val_acc: 0.6201 - val_f1: 0.6649 - val_macro: 0.3236 - val_micro: 0.6998 - val_hamloss: 0.0898\n",
            "Epoch 10/20\n",
            "218/218 [==============================] - 1s 5ms/step - loss: 0.1861 - acc: 0.6422 - f1: 0.7196 - macro: 0.3965 - micro: 0.7459 - hamloss: 0.0770 - val_loss: 0.2199 - val_acc: 0.6201 - val_f1: 0.6710 - val_macro: 0.3292 - val_micro: 0.7066 - val_hamloss: 0.0896\n",
            "Epoch 11/20\n",
            "218/218 [==============================] - 1s 5ms/step - loss: 0.1829 - acc: 0.6451 - f1: 0.7232 - macro: 0.4004 - micro: 0.7489 - hamloss: 0.0760 - val_loss: 0.2230 - val_acc: 0.5698 - val_f1: 0.6755 - val_macro: 0.3416 - val_micro: 0.6975 - val_hamloss: 0.0934\n",
            "Epoch 12/20\n",
            "218/218 [==============================] - 1s 5ms/step - loss: 0.1802 - acc: 0.6462 - f1: 0.7316 - macro: 0.4061 - micro: 0.7558 - hamloss: 0.0743 - val_loss: 0.2197 - val_acc: 0.5858 - val_f1: 0.6777 - val_macro: 0.3350 - val_micro: 0.7078 - val_hamloss: 0.0912\n",
            "Epoch 13/20\n",
            "218/218 [==============================] - 1s 5ms/step - loss: 0.1772 - acc: 0.6502 - f1: 0.7398 - macro: 0.4223 - micro: 0.7632 - hamloss: 0.0718 - val_loss: 0.2187 - val_acc: 0.6110 - val_f1: 0.6925 - val_macro: 0.3577 - val_micro: 0.7206 - val_hamloss: 0.0883\n",
            "Epoch 14/20\n",
            "218/218 [==============================] - 1s 5ms/step - loss: 0.1735 - acc: 0.6519 - f1: 0.7431 - macro: 0.4275 - micro: 0.7660 - hamloss: 0.0712 - val_loss: 0.2226 - val_acc: 0.5789 - val_f1: 0.6869 - val_macro: 0.3683 - val_micro: 0.7082 - val_hamloss: 0.0929\n",
            "Epoch 15/20\n",
            "218/218 [==============================] - 1s 5ms/step - loss: 0.1716 - acc: 0.6537 - f1: 0.7479 - macro: 0.4315 - micro: 0.7694 - hamloss: 0.0702 - val_loss: 0.2200 - val_acc: 0.5995 - val_f1: 0.6756 - val_macro: 0.3450 - val_micro: 0.6996 - val_hamloss: 0.0915\n",
            "Epoch 16/20\n",
            "218/218 [==============================] - 1s 5ms/step - loss: 0.1687 - acc: 0.6525 - f1: 0.7504 - macro: 0.4540 - micro: 0.7713 - hamloss: 0.0693 - val_loss: 0.2187 - val_acc: 0.6110 - val_f1: 0.6882 - val_macro: 0.3544 - val_micro: 0.7169 - val_hamloss: 0.0868\n",
            "Epoch 17/20\n",
            "218/218 [==============================] - 1s 5ms/step - loss: 0.1666 - acc: 0.6646 - f1: 0.7526 - macro: 0.4648 - micro: 0.7722 - hamloss: 0.0693 - val_loss: 0.2188 - val_acc: 0.5858 - val_f1: 0.6934 - val_macro: 0.3597 - val_micro: 0.7196 - val_hamloss: 0.0862\n",
            "Epoch 18/20\n",
            "218/218 [==============================] - 1s 5ms/step - loss: 0.1641 - acc: 0.6565 - f1: 0.7625 - macro: 0.4715 - micro: 0.7811 - hamloss: 0.0666 - val_loss: 0.2230 - val_acc: 0.6064 - val_f1: 0.6876 - val_macro: 0.3624 - val_micro: 0.7122 - val_hamloss: 0.0900\n",
            "Epoch 19/20\n",
            "218/218 [==============================] - 1s 5ms/step - loss: 0.1622 - acc: 0.6600 - f1: 0.7626 - macro: 0.4708 - micro: 0.7812 - hamloss: 0.0670 - val_loss: 0.2221 - val_acc: 0.5950 - val_f1: 0.6911 - val_macro: 0.3703 - val_micro: 0.7164 - val_hamloss: 0.0885\n",
            "Epoch 20/20\n",
            "218/218 [==============================] - 1s 5ms/step - loss: 0.1598 - acc: 0.6663 - f1: 0.7666 - macro: 0.5026 - micro: 0.7832 - hamloss: 0.0660 - val_loss: 0.2260 - val_acc: 0.5950 - val_f1: 0.6902 - val_macro: 0.3694 - val_micro: 0.7065 - val_hamloss: 0.0900\n"
          ],
          "name": "stdout"
        }
      ]
    },
    {
      "cell_type": "code",
      "metadata": {
        "id": "a0rWezRVqAoq",
        "outputId": "8808e12b-1931-4333-c329-2c31087ac807",
        "colab": {
          "base_uri": "https://localhost:8080/"
        }
      },
      "source": [
        "score = model.evaluate(X_test, y_test, verbose=1)"
      ],
      "execution_count": 22,
      "outputs": [
        {
          "output_type": "stream",
          "text": [
            "8/8 [==============================] - 0s 3ms/step - loss: 0.2278 - acc: 0.6049 - f1: 0.6961 - macro: 0.4719 - micro: 0.7106 - hamloss: 0.0888\n"
          ],
          "name": "stdout"
        }
      ]
    },
    {
      "cell_type": "code",
      "metadata": {
        "id": "ZGz_KLOBqCTL",
        "outputId": "0e67c741-eb47-40ab-fda8-77037fd33375",
        "colab": {
          "base_uri": "https://localhost:8080/",
          "height": 573
        }
      },
      "source": [
        "import matplotlib.pyplot as plt\n",
        "\n",
        "plt.plot(history.history['acc'])\n",
        "plt.plot(history.history['val_acc'])\n",
        "\n",
        "plt.title('model accuracy')\n",
        "plt.ylabel('accuracy')\n",
        "plt.xlabel('epoch')\n",
        "plt.legend(['train','test'], loc='upper left')\n",
        "plt.show()\n",
        "\n",
        "plt.plot(history.history['loss'])\n",
        "plt.plot(history.history['val_loss'])\n",
        "\n",
        "plt.title('model loss')\n",
        "plt.ylabel('loss')\n",
        "plt.xlabel('epoch')\n",
        "plt.legend(['train','test'], loc='upper left')\n",
        "plt.show()"
      ],
      "execution_count": 23,
      "outputs": [
        {
          "output_type": "display_data",
          "data": {
            "image/png": "[encoded data removed]",
            "text/plain": [
              "<Figure size 432x288 with 1 Axes>"
            ]
          },
          "metadata": {
            "tags": [],
            "needs_background": "light"
          }
        },
        {
          "output_type": "display_data",
          "data": {
            "image/png": "[encoded data removed]",
            "text/plain": [
              "<Figure size 432x288 with 1 Axes>"
            ]
          },
          "metadata": {
            "tags": [],
            "needs_background": "light"
          }
        }
      ]
    }
  ]
}